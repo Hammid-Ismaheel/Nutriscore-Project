{
 "cells": [
  {
   "cell_type": "markdown",
   "metadata": {
    "Collapsed": "false"
   },
   "source": [
    "# DSH-II Use Case Analysis Report#\n"
   ]
  },
  {
   "cell_type": "markdown",
   "metadata": {},
   "source": [
    "# 1.0 Introduction "
   ]
  },
  {
   "cell_type": "markdown",
   "metadata": {},
   "source": [
    "The focus of this research is to determine the positive and negative nutrients and also to determine if the combinations of various nutrients can be used to develop a model that can predict the nutrition score of food products. The nutrients in this research include energy, carbohydrates, fats, calcium, iron, vitamins, cholesterol, fiber, salt and sodium.The nutrition score on the other hand includes the four numbers which incude 2,3,4 and 5. Based on information from Open food facts, The four numbers represent B, C, D and E. Where E stands for the most negative nutrient in the food product and B represents the most positive nutrient in the food product.The positive nutrients in this context means nutrients that should be encouraged or increased in food products and the reverse is the case for negative nutrients. \n",
    "\n",
    "The categories 2,3,4, and 5 and further broken down to 2 and 3, and 4, and 5. 2 and 3 are regarded as positive nutrients where 2 cane be regarded as the most positive. On the other hand, 4 and 5 are regarded as the negative nutrients where 5 could also serve as most negative nutrients. This is similar to B, C, D and E label representation on the food products. \n",
    "\n",
    "\n",
    "In order to develop the model, the nutriscore is regarded as the dependent variable while all the nutrients are regarded as independent variables. \n",
    "To determine the prediction of the nutrition score by the nutrients, a research question was formulated. \n"
   ]
  },
  {
   "cell_type": "markdown",
   "metadata": {},
   "source": [
    "### 1.1 Research Question "
   ]
  },
  {
   "cell_type": "markdown",
   "metadata": {},
   "source": [
    "What are positive and negative nutrients based on the nutrition score and what model is the most suitable model in determining the prediction of the categories of the nutrients (positive or negative) based on the nutrition score?"
   ]
  },
  {
   "cell_type": "markdown",
   "metadata": {},
   "source": [
    "### 1.2 Data Loading"
   ]
  },
  {
   "cell_type": "code",
   "execution_count": 80,
   "metadata": {
    "Collapsed": "false"
   },
   "outputs": [],
   "source": [
    "# The packages for importing data and Exploratoratory Data Analysis (EDA)\n",
    "import numpy as np\n",
    "import pandas as pd\n",
    "import matplotlib.pyplot as plt\n",
    "import seaborn as sns"
   ]
  },
  {
   "cell_type": "code",
   "execution_count": 81,
   "metadata": {
    "Collapsed": "false"
   },
   "outputs": [],
   "source": [
    "# Load the data here\n",
    "file = pd.read_csv(\"C:/Users/HP/Downloads/nutri-score.csv\")"
   ]
  },
  {
   "cell_type": "code",
   "execution_count": 82,
   "metadata": {
    "Collapsed": "false",
    "scrolled": true
   },
   "outputs": [
    {
     "data": {
      "text/html": [
       "<div>\n",
       "<style scoped>\n",
       "    .dataframe tbody tr th:only-of-type {\n",
       "        vertical-align: middle;\n",
       "    }\n",
       "\n",
       "    .dataframe tbody tr th {\n",
       "        vertical-align: top;\n",
       "    }\n",
       "\n",
       "    .dataframe thead th {\n",
       "        text-align: right;\n",
       "    }\n",
       "</style>\n",
       "<table border=\"1\" class=\"dataframe\">\n",
       "  <thead>\n",
       "    <tr style=\"text-align: right;\">\n",
       "      <th></th>\n",
       "      <th>Unnamed: 0</th>\n",
       "      <th>energy-kcal_100g</th>\n",
       "      <th>energy_100g</th>\n",
       "      <th>fat_100g</th>\n",
       "      <th>saturated-fat_100g</th>\n",
       "      <th>trans-fat_100g</th>\n",
       "      <th>cholesterol_100g</th>\n",
       "      <th>carbohydrates_100g</th>\n",
       "      <th>sugars_100g</th>\n",
       "      <th>fiber_100g</th>\n",
       "      <th>proteins_100g</th>\n",
       "      <th>salt_100g</th>\n",
       "      <th>sodium_100g</th>\n",
       "      <th>vitamin-a_100g</th>\n",
       "      <th>vitamin-c_100g</th>\n",
       "      <th>calcium_100g</th>\n",
       "      <th>iron_100g</th>\n",
       "      <th>nutrition-score-fr_100g</th>\n",
       "    </tr>\n",
       "  </thead>\n",
       "  <tbody>\n",
       "    <tr>\n",
       "      <th>0</th>\n",
       "      <td>278</td>\n",
       "      <td>300.0</td>\n",
       "      <td>1255.0</td>\n",
       "      <td>0.00</td>\n",
       "      <td>0.000</td>\n",
       "      <td>0.000</td>\n",
       "      <td>0.00000</td>\n",
       "      <td>83.33</td>\n",
       "      <td>66.670</td>\n",
       "      <td>10.000</td>\n",
       "      <td>0.00</td>\n",
       "      <td>0.00000</td>\n",
       "      <td>0.000000</td>\n",
       "      <td>0.000000</td>\n",
       "      <td>0.000000</td>\n",
       "      <td>0.0000</td>\n",
       "      <td>0.000000</td>\n",
       "      <td>3.0</td>\n",
       "    </tr>\n",
       "    <tr>\n",
       "      <th>1</th>\n",
       "      <td>371</td>\n",
       "      <td>260.0</td>\n",
       "      <td>1090.0</td>\n",
       "      <td>10.70</td>\n",
       "      <td>2.000</td>\n",
       "      <td>0.667</td>\n",
       "      <td>0.00533</td>\n",
       "      <td>38.70</td>\n",
       "      <td>24.700</td>\n",
       "      <td>2.000</td>\n",
       "      <td>3.33</td>\n",
       "      <td>0.64700</td>\n",
       "      <td>0.259000</td>\n",
       "      <td>0.000000</td>\n",
       "      <td>0.001600</td>\n",
       "      <td>0.0133</td>\n",
       "      <td>0.000480</td>\n",
       "      <td>3.0</td>\n",
       "    </tr>\n",
       "    <tr>\n",
       "      <th>2</th>\n",
       "      <td>388</td>\n",
       "      <td>278.0</td>\n",
       "      <td>1160.0</td>\n",
       "      <td>1.11</td>\n",
       "      <td>0.333</td>\n",
       "      <td>0.000</td>\n",
       "      <td>0.00000</td>\n",
       "      <td>53.30</td>\n",
       "      <td>1.110</td>\n",
       "      <td>2.220</td>\n",
       "      <td>10.00</td>\n",
       "      <td>1.52000</td>\n",
       "      <td>0.610000</td>\n",
       "      <td>0.000000</td>\n",
       "      <td>0.000000</td>\n",
       "      <td>0.0222</td>\n",
       "      <td>0.006000</td>\n",
       "      <td>2.0</td>\n",
       "    </tr>\n",
       "    <tr>\n",
       "      <th>3</th>\n",
       "      <td>415</td>\n",
       "      <td>114.0</td>\n",
       "      <td>478.0</td>\n",
       "      <td>6.79</td>\n",
       "      <td>2.860</td>\n",
       "      <td>0.000</td>\n",
       "      <td>0.01070</td>\n",
       "      <td>7.86</td>\n",
       "      <td>0.714</td>\n",
       "      <td>0.357</td>\n",
       "      <td>5.36</td>\n",
       "      <td>0.49900</td>\n",
       "      <td>0.200000</td>\n",
       "      <td>0.000011</td>\n",
       "      <td>0.000429</td>\n",
       "      <td>0.0286</td>\n",
       "      <td>0.000643</td>\n",
       "      <td>2.0</td>\n",
       "    </tr>\n",
       "    <tr>\n",
       "      <th>4</th>\n",
       "      <td>487</td>\n",
       "      <td>128.0</td>\n",
       "      <td>536.0</td>\n",
       "      <td>6.00</td>\n",
       "      <td>1.000</td>\n",
       "      <td>0.000</td>\n",
       "      <td>0.00000</td>\n",
       "      <td>50.00</td>\n",
       "      <td>19.000</td>\n",
       "      <td>1.000</td>\n",
       "      <td>7.00</td>\n",
       "      <td>0.00000</td>\n",
       "      <td>0.000000</td>\n",
       "      <td>0.000000</td>\n",
       "      <td>0.000000</td>\n",
       "      <td>0.0000</td>\n",
       "      <td>0.000000</td>\n",
       "      <td>2.0</td>\n",
       "    </tr>\n",
       "    <tr>\n",
       "      <th>5</th>\n",
       "      <td>509</td>\n",
       "      <td>365.0</td>\n",
       "      <td>1527.0</td>\n",
       "      <td>1.18</td>\n",
       "      <td>0.000</td>\n",
       "      <td>0.000</td>\n",
       "      <td>0.00000</td>\n",
       "      <td>71.76</td>\n",
       "      <td>4.710</td>\n",
       "      <td>2.400</td>\n",
       "      <td>12.94</td>\n",
       "      <td>1.19634</td>\n",
       "      <td>0.478536</td>\n",
       "      <td>0.000000</td>\n",
       "      <td>0.000000</td>\n",
       "      <td>0.0710</td>\n",
       "      <td>0.004240</td>\n",
       "      <td>3.0</td>\n",
       "    </tr>\n",
       "    <tr>\n",
       "      <th>6</th>\n",
       "      <td>513</td>\n",
       "      <td>418.0</td>\n",
       "      <td>1749.0</td>\n",
       "      <td>21.76</td>\n",
       "      <td>5.290</td>\n",
       "      <td>0.000</td>\n",
       "      <td>0.07100</td>\n",
       "      <td>51.76</td>\n",
       "      <td>32.940</td>\n",
       "      <td>2.400</td>\n",
       "      <td>5.88</td>\n",
       "      <td>0.67310</td>\n",
       "      <td>0.269240</td>\n",
       "      <td>0.000035</td>\n",
       "      <td>0.000000</td>\n",
       "      <td>0.0880</td>\n",
       "      <td>0.001590</td>\n",
       "      <td>4.0</td>\n",
       "    </tr>\n",
       "    <tr>\n",
       "      <th>7</th>\n",
       "      <td>519</td>\n",
       "      <td>388.0</td>\n",
       "      <td>1623.0</td>\n",
       "      <td>22.35</td>\n",
       "      <td>11.760</td>\n",
       "      <td>0.000</td>\n",
       "      <td>0.00000</td>\n",
       "      <td>42.35</td>\n",
       "      <td>15.290</td>\n",
       "      <td>2.400</td>\n",
       "      <td>4.71</td>\n",
       "      <td>0.80772</td>\n",
       "      <td>0.323088</td>\n",
       "      <td>0.000070</td>\n",
       "      <td>0.028200</td>\n",
       "      <td>0.0000</td>\n",
       "      <td>0.001690</td>\n",
       "      <td>4.0</td>\n",
       "    </tr>\n",
       "    <tr>\n",
       "      <th>8</th>\n",
       "      <td>801</td>\n",
       "      <td>263.0</td>\n",
       "      <td>1100.0</td>\n",
       "      <td>3.51</td>\n",
       "      <td>0.000</td>\n",
       "      <td>0.000</td>\n",
       "      <td>0.00000</td>\n",
       "      <td>52.63</td>\n",
       "      <td>8.770</td>\n",
       "      <td>7.000</td>\n",
       "      <td>7.02</td>\n",
       "      <td>1.71000</td>\n",
       "      <td>0.684000</td>\n",
       "      <td>0.000053</td>\n",
       "      <td>0.000000</td>\n",
       "      <td>0.0350</td>\n",
       "      <td>0.003160</td>\n",
       "      <td>3.0</td>\n",
       "    </tr>\n",
       "    <tr>\n",
       "      <th>9</th>\n",
       "      <td>802</td>\n",
       "      <td>228.0</td>\n",
       "      <td>954.0</td>\n",
       "      <td>2.63</td>\n",
       "      <td>0.000</td>\n",
       "      <td>0.000</td>\n",
       "      <td>0.00000</td>\n",
       "      <td>47.37</td>\n",
       "      <td>8.770</td>\n",
       "      <td>1.800</td>\n",
       "      <td>5.26</td>\n",
       "      <td>1.40250</td>\n",
       "      <td>0.561000</td>\n",
       "      <td>0.000000</td>\n",
       "      <td>0.002100</td>\n",
       "      <td>0.0350</td>\n",
       "      <td>0.002530</td>\n",
       "      <td>3.0</td>\n",
       "    </tr>\n",
       "    <tr>\n",
       "      <th>10</th>\n",
       "      <td>876</td>\n",
       "      <td>235.0</td>\n",
       "      <td>983.0</td>\n",
       "      <td>1.47</td>\n",
       "      <td>0.000</td>\n",
       "      <td>0.000</td>\n",
       "      <td>0.00000</td>\n",
       "      <td>50.00</td>\n",
       "      <td>5.880</td>\n",
       "      <td>2.900</td>\n",
       "      <td>8.82</td>\n",
       "      <td>1.25000</td>\n",
       "      <td>0.500000</td>\n",
       "      <td>0.000000</td>\n",
       "      <td>0.000000</td>\n",
       "      <td>0.0000</td>\n",
       "      <td>0.003180</td>\n",
       "      <td>2.0</td>\n",
       "    </tr>\n",
       "    <tr>\n",
       "      <th>11</th>\n",
       "      <td>877</td>\n",
       "      <td>256.0</td>\n",
       "      <td>1071.0</td>\n",
       "      <td>2.56</td>\n",
       "      <td>0.000</td>\n",
       "      <td>0.000</td>\n",
       "      <td>0.00000</td>\n",
       "      <td>53.85</td>\n",
       "      <td>2.560</td>\n",
       "      <td>2.600</td>\n",
       "      <td>7.69</td>\n",
       "      <td>0.80250</td>\n",
       "      <td>0.321000</td>\n",
       "      <td>0.000000</td>\n",
       "      <td>0.000000</td>\n",
       "      <td>0.0000</td>\n",
       "      <td>0.003690</td>\n",
       "      <td>2.0</td>\n",
       "    </tr>\n",
       "    <tr>\n",
       "      <th>12</th>\n",
       "      <td>901</td>\n",
       "      <td>475.0</td>\n",
       "      <td>1987.0</td>\n",
       "      <td>35.00</td>\n",
       "      <td>20.000</td>\n",
       "      <td>0.000</td>\n",
       "      <td>0.02500</td>\n",
       "      <td>50.00</td>\n",
       "      <td>35.000</td>\n",
       "      <td>5.000</td>\n",
       "      <td>5.00</td>\n",
       "      <td>0.12500</td>\n",
       "      <td>0.050000</td>\n",
       "      <td>0.000000</td>\n",
       "      <td>0.000000</td>\n",
       "      <td>0.0500</td>\n",
       "      <td>0.000900</td>\n",
       "      <td>4.0</td>\n",
       "    </tr>\n",
       "    <tr>\n",
       "      <th>13</th>\n",
       "      <td>937</td>\n",
       "      <td>388.0</td>\n",
       "      <td>1623.0</td>\n",
       "      <td>17.65</td>\n",
       "      <td>10.290</td>\n",
       "      <td>0.000</td>\n",
       "      <td>0.07400</td>\n",
       "      <td>50.00</td>\n",
       "      <td>17.650</td>\n",
       "      <td>1.500</td>\n",
       "      <td>2.94</td>\n",
       "      <td>0.36750</td>\n",
       "      <td>0.147000</td>\n",
       "      <td>0.000176</td>\n",
       "      <td>0.000000</td>\n",
       "      <td>0.0000</td>\n",
       "      <td>0.001060</td>\n",
       "      <td>4.0</td>\n",
       "    </tr>\n",
       "    <tr>\n",
       "      <th>14</th>\n",
       "      <td>938</td>\n",
       "      <td>388.0</td>\n",
       "      <td>1623.0</td>\n",
       "      <td>17.65</td>\n",
       "      <td>10.290</td>\n",
       "      <td>0.000</td>\n",
       "      <td>0.07400</td>\n",
       "      <td>50.00</td>\n",
       "      <td>17.650</td>\n",
       "      <td>1.500</td>\n",
       "      <td>2.94</td>\n",
       "      <td>0.36750</td>\n",
       "      <td>0.147000</td>\n",
       "      <td>0.000176</td>\n",
       "      <td>0.000000</td>\n",
       "      <td>0.0000</td>\n",
       "      <td>0.001060</td>\n",
       "      <td>4.0</td>\n",
       "    </tr>\n",
       "  </tbody>\n",
       "</table>\n",
       "</div>"
      ],
      "text/plain": [
       "    Unnamed: 0  energy-kcal_100g  energy_100g  fat_100g  saturated-fat_100g  \\\n",
       "0          278             300.0       1255.0      0.00               0.000   \n",
       "1          371             260.0       1090.0     10.70               2.000   \n",
       "2          388             278.0       1160.0      1.11               0.333   \n",
       "3          415             114.0        478.0      6.79               2.860   \n",
       "4          487             128.0        536.0      6.00               1.000   \n",
       "5          509             365.0       1527.0      1.18               0.000   \n",
       "6          513             418.0       1749.0     21.76               5.290   \n",
       "7          519             388.0       1623.0     22.35              11.760   \n",
       "8          801             263.0       1100.0      3.51               0.000   \n",
       "9          802             228.0        954.0      2.63               0.000   \n",
       "10         876             235.0        983.0      1.47               0.000   \n",
       "11         877             256.0       1071.0      2.56               0.000   \n",
       "12         901             475.0       1987.0     35.00              20.000   \n",
       "13         937             388.0       1623.0     17.65              10.290   \n",
       "14         938             388.0       1623.0     17.65              10.290   \n",
       "\n",
       "    trans-fat_100g  cholesterol_100g  carbohydrates_100g  sugars_100g  \\\n",
       "0            0.000           0.00000               83.33       66.670   \n",
       "1            0.667           0.00533               38.70       24.700   \n",
       "2            0.000           0.00000               53.30        1.110   \n",
       "3            0.000           0.01070                7.86        0.714   \n",
       "4            0.000           0.00000               50.00       19.000   \n",
       "5            0.000           0.00000               71.76        4.710   \n",
       "6            0.000           0.07100               51.76       32.940   \n",
       "7            0.000           0.00000               42.35       15.290   \n",
       "8            0.000           0.00000               52.63        8.770   \n",
       "9            0.000           0.00000               47.37        8.770   \n",
       "10           0.000           0.00000               50.00        5.880   \n",
       "11           0.000           0.00000               53.85        2.560   \n",
       "12           0.000           0.02500               50.00       35.000   \n",
       "13           0.000           0.07400               50.00       17.650   \n",
       "14           0.000           0.07400               50.00       17.650   \n",
       "\n",
       "    fiber_100g  proteins_100g  salt_100g  sodium_100g  vitamin-a_100g  \\\n",
       "0       10.000           0.00    0.00000     0.000000        0.000000   \n",
       "1        2.000           3.33    0.64700     0.259000        0.000000   \n",
       "2        2.220          10.00    1.52000     0.610000        0.000000   \n",
       "3        0.357           5.36    0.49900     0.200000        0.000011   \n",
       "4        1.000           7.00    0.00000     0.000000        0.000000   \n",
       "5        2.400          12.94    1.19634     0.478536        0.000000   \n",
       "6        2.400           5.88    0.67310     0.269240        0.000035   \n",
       "7        2.400           4.71    0.80772     0.323088        0.000070   \n",
       "8        7.000           7.02    1.71000     0.684000        0.000053   \n",
       "9        1.800           5.26    1.40250     0.561000        0.000000   \n",
       "10       2.900           8.82    1.25000     0.500000        0.000000   \n",
       "11       2.600           7.69    0.80250     0.321000        0.000000   \n",
       "12       5.000           5.00    0.12500     0.050000        0.000000   \n",
       "13       1.500           2.94    0.36750     0.147000        0.000176   \n",
       "14       1.500           2.94    0.36750     0.147000        0.000176   \n",
       "\n",
       "    vitamin-c_100g  calcium_100g  iron_100g  nutrition-score-fr_100g  \n",
       "0         0.000000        0.0000   0.000000                      3.0  \n",
       "1         0.001600        0.0133   0.000480                      3.0  \n",
       "2         0.000000        0.0222   0.006000                      2.0  \n",
       "3         0.000429        0.0286   0.000643                      2.0  \n",
       "4         0.000000        0.0000   0.000000                      2.0  \n",
       "5         0.000000        0.0710   0.004240                      3.0  \n",
       "6         0.000000        0.0880   0.001590                      4.0  \n",
       "7         0.028200        0.0000   0.001690                      4.0  \n",
       "8         0.000000        0.0350   0.003160                      3.0  \n",
       "9         0.002100        0.0350   0.002530                      3.0  \n",
       "10        0.000000        0.0000   0.003180                      2.0  \n",
       "11        0.000000        0.0000   0.003690                      2.0  \n",
       "12        0.000000        0.0500   0.000900                      4.0  \n",
       "13        0.000000        0.0000   0.001060                      4.0  \n",
       "14        0.000000        0.0000   0.001060                      4.0  "
      ]
     },
     "metadata": {},
     "output_type": "display_data"
    }
   ],
   "source": [
    "#Checking the properties of the data\n",
    "display(file.head(15))\n"
   ]
  },
  {
   "cell_type": "markdown",
   "metadata": {},
   "source": [
    "The table is meant to have a glance at all the variables in the data set and have a run though of the data representation. "
   ]
  },
  {
   "cell_type": "markdown",
   "metadata": {
    "Collapsed": "false"
   },
   "source": [
    "# 2.0 Data Exploration ##"
   ]
  },
  {
   "cell_type": "markdown",
   "metadata": {
    "Collapsed": "false"
   },
   "source": [
    "### 2.1 Variable Identification ###"
   ]
  },
  {
   "cell_type": "code",
   "execution_count": 9,
   "metadata": {
    "Collapsed": "false"
   },
   "outputs": [
    {
     "data": {
      "text/plain": [
       "Unnamed: 0                   int64\n",
       "energy-kcal_100g           float64\n",
       "energy_100g                float64\n",
       "fat_100g                   float64\n",
       "saturated-fat_100g         float64\n",
       "trans-fat_100g             float64\n",
       "cholesterol_100g           float64\n",
       "carbohydrates_100g         float64\n",
       "sugars_100g                float64\n",
       "fiber_100g                 float64\n",
       "proteins_100g              float64\n",
       "salt_100g                  float64\n",
       "sodium_100g                float64\n",
       "vitamin-a_100g             float64\n",
       "vitamin-c_100g             float64\n",
       "calcium_100g               float64\n",
       "iron_100g                  float64\n",
       "nutrition-score-fr_100g    float64\n",
       "dtype: object"
      ]
     },
     "execution_count": 9,
     "metadata": {},
     "output_type": "execute_result"
    }
   ],
   "source": [
    "#Confirm the data types \n",
    "file.dtypes\n"
   ]
  },
  {
   "cell_type": "markdown",
   "metadata": {},
   "source": [
    "##### Result Interpretation"
   ]
  },
  {
   "cell_type": "markdown",
   "metadata": {},
   "source": [
    "The data types in this study are majorly float. The first column, 'Unnamed' is an integer. However, the importance of this column is not clear enough. The nutrition-score-fr_100g is float and also regarded as categorical varible with 2, 3, 4 and 5 as its levels. It is also the target variable. "
   ]
  },
  {
   "cell_type": "code",
   "execution_count": 10,
   "metadata": {},
   "outputs": [
    {
     "data": {
      "text/html": [
       "<div>\n",
       "<style scoped>\n",
       "    .dataframe tbody tr th:only-of-type {\n",
       "        vertical-align: middle;\n",
       "    }\n",
       "\n",
       "    .dataframe tbody tr th {\n",
       "        vertical-align: top;\n",
       "    }\n",
       "\n",
       "    .dataframe thead th {\n",
       "        text-align: right;\n",
       "    }\n",
       "</style>\n",
       "<table border=\"1\" class=\"dataframe\">\n",
       "  <thead>\n",
       "    <tr style=\"text-align: right;\">\n",
       "      <th></th>\n",
       "      <th>Unnamed: 0</th>\n",
       "      <th>energy-kcal_100g</th>\n",
       "      <th>energy_100g</th>\n",
       "      <th>fat_100g</th>\n",
       "      <th>saturated-fat_100g</th>\n",
       "      <th>trans-fat_100g</th>\n",
       "      <th>cholesterol_100g</th>\n",
       "      <th>carbohydrates_100g</th>\n",
       "      <th>sugars_100g</th>\n",
       "      <th>fiber_100g</th>\n",
       "      <th>proteins_100g</th>\n",
       "      <th>salt_100g</th>\n",
       "      <th>sodium_100g</th>\n",
       "      <th>vitamin-a_100g</th>\n",
       "      <th>vitamin-c_100g</th>\n",
       "      <th>calcium_100g</th>\n",
       "      <th>iron_100g</th>\n",
       "      <th>nutrition-score-fr_100g</th>\n",
       "    </tr>\n",
       "  </thead>\n",
       "  <tbody>\n",
       "    <tr>\n",
       "      <th>count</th>\n",
       "      <td>3359.000000</td>\n",
       "      <td>3359.000000</td>\n",
       "      <td>3359.000000</td>\n",
       "      <td>3359.000000</td>\n",
       "      <td>3359.000000</td>\n",
       "      <td>3359.000000</td>\n",
       "      <td>3359.000000</td>\n",
       "      <td>3359.000000</td>\n",
       "      <td>3359.000000</td>\n",
       "      <td>3359.000000</td>\n",
       "      <td>3359.000000</td>\n",
       "      <td>3359.000000</td>\n",
       "      <td>3359.000000</td>\n",
       "      <td>3359.000000</td>\n",
       "      <td>3359.000000</td>\n",
       "      <td>3359.000000</td>\n",
       "      <td>3359.000000</td>\n",
       "      <td>3359.000000</td>\n",
       "    </tr>\n",
       "    <tr>\n",
       "      <th>mean</th>\n",
       "      <td>6568.239952</td>\n",
       "      <td>310.061335</td>\n",
       "      <td>1297.306043</td>\n",
       "      <td>16.556187</td>\n",
       "      <td>6.355490</td>\n",
       "      <td>0.052327</td>\n",
       "      <td>0.019293</td>\n",
       "      <td>34.039009</td>\n",
       "      <td>16.749223</td>\n",
       "      <td>2.692674</td>\n",
       "      <td>7.545441</td>\n",
       "      <td>0.927728</td>\n",
       "      <td>0.371093</td>\n",
       "      <td>0.000101</td>\n",
       "      <td>0.004585</td>\n",
       "      <td>0.096936</td>\n",
       "      <td>0.001629</td>\n",
       "      <td>3.496576</td>\n",
       "    </tr>\n",
       "    <tr>\n",
       "      <th>std</th>\n",
       "      <td>2240.669856</td>\n",
       "      <td>196.999244</td>\n",
       "      <td>824.254049</td>\n",
       "      <td>17.199572</td>\n",
       "      <td>8.522004</td>\n",
       "      <td>0.619855</td>\n",
       "      <td>0.043349</td>\n",
       "      <td>25.446858</td>\n",
       "      <td>18.515118</td>\n",
       "      <td>4.002625</td>\n",
       "      <td>7.404078</td>\n",
       "      <td>2.186410</td>\n",
       "      <td>0.874564</td>\n",
       "      <td>0.000244</td>\n",
       "      <td>0.020221</td>\n",
       "      <td>0.154792</td>\n",
       "      <td>0.003136</td>\n",
       "      <td>1.139171</td>\n",
       "    </tr>\n",
       "    <tr>\n",
       "      <th>min</th>\n",
       "      <td>278.000000</td>\n",
       "      <td>0.000000</td>\n",
       "      <td>0.000000</td>\n",
       "      <td>0.000000</td>\n",
       "      <td>0.000000</td>\n",
       "      <td>0.000000</td>\n",
       "      <td>0.000000</td>\n",
       "      <td>0.000000</td>\n",
       "      <td>0.000000</td>\n",
       "      <td>0.000000</td>\n",
       "      <td>0.000000</td>\n",
       "      <td>0.000000</td>\n",
       "      <td>0.000000</td>\n",
       "      <td>0.000000</td>\n",
       "      <td>0.000000</td>\n",
       "      <td>0.000000</td>\n",
       "      <td>0.000000</td>\n",
       "      <td>2.000000</td>\n",
       "    </tr>\n",
       "    <tr>\n",
       "      <th>25%</th>\n",
       "      <td>4799.500000</td>\n",
       "      <td>129.000000</td>\n",
       "      <td>540.000000</td>\n",
       "      <td>1.790000</td>\n",
       "      <td>0.000000</td>\n",
       "      <td>0.000000</td>\n",
       "      <td>0.000000</td>\n",
       "      <td>10.000000</td>\n",
       "      <td>2.405000</td>\n",
       "      <td>0.000000</td>\n",
       "      <td>2.820000</td>\n",
       "      <td>0.171250</td>\n",
       "      <td>0.068500</td>\n",
       "      <td>0.000000</td>\n",
       "      <td>0.000000</td>\n",
       "      <td>0.000000</td>\n",
       "      <td>0.000000</td>\n",
       "      <td>2.000000</td>\n",
       "    </tr>\n",
       "    <tr>\n",
       "      <th>50%</th>\n",
       "      <td>6903.000000</td>\n",
       "      <td>321.000000</td>\n",
       "      <td>1343.000000</td>\n",
       "      <td>11.270000</td>\n",
       "      <td>3.330000</td>\n",
       "      <td>0.000000</td>\n",
       "      <td>0.002000</td>\n",
       "      <td>29.310000</td>\n",
       "      <td>7.140000</td>\n",
       "      <td>1.400000</td>\n",
       "      <td>5.290000</td>\n",
       "      <td>0.670000</td>\n",
       "      <td>0.268000</td>\n",
       "      <td>0.000000</td>\n",
       "      <td>0.000000</td>\n",
       "      <td>0.050000</td>\n",
       "      <td>0.000910</td>\n",
       "      <td>4.000000</td>\n",
       "    </tr>\n",
       "    <tr>\n",
       "      <th>75%</th>\n",
       "      <td>8412.500000</td>\n",
       "      <td>456.000000</td>\n",
       "      <td>1908.000000</td>\n",
       "      <td>26.715000</td>\n",
       "      <td>8.620000</td>\n",
       "      <td>0.000000</td>\n",
       "      <td>0.025000</td>\n",
       "      <td>55.610000</td>\n",
       "      <td>29.030000</td>\n",
       "      <td>3.400000</td>\n",
       "      <td>10.000000</td>\n",
       "      <td>1.250000</td>\n",
       "      <td>0.500000</td>\n",
       "      <td>0.000097</td>\n",
       "      <td>0.001750</td>\n",
       "      <td>0.125000</td>\n",
       "      <td>0.002080</td>\n",
       "      <td>4.000000</td>\n",
       "    </tr>\n",
       "    <tr>\n",
       "      <th>max</th>\n",
       "      <td>9996.000000</td>\n",
       "      <td>2674.000000</td>\n",
       "      <td>11188.000000</td>\n",
       "      <td>93.330000</td>\n",
       "      <td>50.000000</td>\n",
       "      <td>18.180000</td>\n",
       "      <td>1.654000</td>\n",
       "      <td>100.000000</td>\n",
       "      <td>100.000000</td>\n",
       "      <td>38.900000</td>\n",
       "      <td>66.670000</td>\n",
       "      <td>98.750000</td>\n",
       "      <td>39.500000</td>\n",
       "      <td>0.003500</td>\n",
       "      <td>0.660000</td>\n",
       "      <td>1.667000</td>\n",
       "      <td>0.062070</td>\n",
       "      <td>5.000000</td>\n",
       "    </tr>\n",
       "  </tbody>\n",
       "</table>\n",
       "</div>"
      ],
      "text/plain": [
       "        Unnamed: 0  energy-kcal_100g   energy_100g     fat_100g  \\\n",
       "count  3359.000000       3359.000000   3359.000000  3359.000000   \n",
       "mean   6568.239952        310.061335   1297.306043    16.556187   \n",
       "std    2240.669856        196.999244    824.254049    17.199572   \n",
       "min     278.000000          0.000000      0.000000     0.000000   \n",
       "25%    4799.500000        129.000000    540.000000     1.790000   \n",
       "50%    6903.000000        321.000000   1343.000000    11.270000   \n",
       "75%    8412.500000        456.000000   1908.000000    26.715000   \n",
       "max    9996.000000       2674.000000  11188.000000    93.330000   \n",
       "\n",
       "       saturated-fat_100g  trans-fat_100g  cholesterol_100g  \\\n",
       "count         3359.000000     3359.000000       3359.000000   \n",
       "mean             6.355490        0.052327          0.019293   \n",
       "std              8.522004        0.619855          0.043349   \n",
       "min              0.000000        0.000000          0.000000   \n",
       "25%              0.000000        0.000000          0.000000   \n",
       "50%              3.330000        0.000000          0.002000   \n",
       "75%              8.620000        0.000000          0.025000   \n",
       "max             50.000000       18.180000          1.654000   \n",
       "\n",
       "       carbohydrates_100g  sugars_100g   fiber_100g  proteins_100g  \\\n",
       "count         3359.000000  3359.000000  3359.000000    3359.000000   \n",
       "mean            34.039009    16.749223     2.692674       7.545441   \n",
       "std             25.446858    18.515118     4.002625       7.404078   \n",
       "min              0.000000     0.000000     0.000000       0.000000   \n",
       "25%             10.000000     2.405000     0.000000       2.820000   \n",
       "50%             29.310000     7.140000     1.400000       5.290000   \n",
       "75%             55.610000    29.030000     3.400000      10.000000   \n",
       "max            100.000000   100.000000    38.900000      66.670000   \n",
       "\n",
       "         salt_100g  sodium_100g  vitamin-a_100g  vitamin-c_100g  calcium_100g  \\\n",
       "count  3359.000000  3359.000000     3359.000000     3359.000000   3359.000000   \n",
       "mean      0.927728     0.371093        0.000101        0.004585      0.096936   \n",
       "std       2.186410     0.874564        0.000244        0.020221      0.154792   \n",
       "min       0.000000     0.000000        0.000000        0.000000      0.000000   \n",
       "25%       0.171250     0.068500        0.000000        0.000000      0.000000   \n",
       "50%       0.670000     0.268000        0.000000        0.000000      0.050000   \n",
       "75%       1.250000     0.500000        0.000097        0.001750      0.125000   \n",
       "max      98.750000    39.500000        0.003500        0.660000      1.667000   \n",
       "\n",
       "         iron_100g  nutrition-score-fr_100g  \n",
       "count  3359.000000              3359.000000  \n",
       "mean      0.001629                 3.496576  \n",
       "std       0.003136                 1.139171  \n",
       "min       0.000000                 2.000000  \n",
       "25%       0.000000                 2.000000  \n",
       "50%       0.000910                 4.000000  \n",
       "75%       0.002080                 4.000000  \n",
       "max       0.062070                 5.000000  "
      ]
     },
     "execution_count": 10,
     "metadata": {},
     "output_type": "execute_result"
    }
   ],
   "source": [
    "file.describe()"
   ]
  },
  {
   "cell_type": "markdown",
   "metadata": {},
   "source": [
    "##### Result Interpretation"
   ]
  },
  {
   "cell_type": "markdown",
   "metadata": {},
   "source": [
    "It's hard to make reasonable deduction from the above descriptive analysis. We took a look at the similar varibales like fat_100g, saturated-fat_100g, and trans-fat_100g to see if if there is no significant difference between their means but apparently the means are wide apart from one another. The same thing is applicable to other similar combination of variables. Therefore, the variables will be explored further in Bivariate analysis."
   ]
  },
  {
   "cell_type": "markdown",
   "metadata": {
    "Collapsed": "false"
   },
   "source": [
    "### 2.2 Univariate Analysis ###"
   ]
  },
  {
   "cell_type": "code",
   "execution_count": 12,
   "metadata": {
    "Collapsed": "false"
   },
   "outputs": [
    {
     "data": {
      "text/plain": [
       "Text(0.5, 1.0, 'Nutrition Score')"
      ]
     },
     "execution_count": 12,
     "metadata": {},
     "output_type": "execute_result"
    },
    {
     "data": {
      "image/png": "[encoded data removed]",
      "text/plain": [
       "<Figure size 432x288 with 1 Axes>"
      ]
     },
     "metadata": {
      "needs_background": "light"
     },
     "output_type": "display_data"
    }
   ],
   "source": [
    "# < YOUR CODE GOES HERE, ADD AS MANY FIELDS AS NEEDED > #\n",
    "file['nutrition-score-fr_100g'].hist()\n",
    "\n",
    "plt.title(\"Nutrition Score\")"
   ]
  },
  {
   "cell_type": "markdown",
   "metadata": {},
   "source": [
    "##### Result Interpretation"
   ]
  },
  {
   "cell_type": "markdown",
   "metadata": {},
   "source": [
    "The graph above is simply a representation of distribution count of the nutrition scores. 4 that represents negative nutrients is prevalent in the data. Next to that is 2 which represents most positive nutrients. This could be a signal that there are more negative nutrients than the positive nutrients since the bars 4 and 5 are higher than the bars 2 and 3. "
   ]
  },
  {
   "cell_type": "markdown",
   "metadata": {
    "Collapsed": "false"
   },
   "source": [
    "### 2.3 Bi-variate Analysis ###"
   ]
  },
  {
   "cell_type": "code",
   "execution_count": 16,
   "metadata": {},
   "outputs": [
    {
     "data": {
      "image/png": "[encoded data removed]",
      "text/plain": [
       "<Figure size 720x576 with 2 Axes>"
      ]
     },
     "metadata": {
      "needs_background": "light"
     },
     "output_type": "display_data"
    }
   ],
   "source": [
    "plt.figure(figsize=(10,8))\n",
    "sns.heatmap(corrs, cmap='RdBu_r', annot=True)\n",
    "plt.show()"
   ]
  },
  {
   "cell_type": "markdown",
   "metadata": {},
   "source": [
    "##### Result Interpretation  "
   ]
  },
  {
   "cell_type": "markdown",
   "metadata": {},
   "source": [
    "In the correlation matrix, four different variables need more attention for exploration. The correlation coeffient for salt and sodium is 1 which is a perfect correlation. Similarly, there is a perfect correlation between the energy-kcal_100g and energy_100g. In this case, we concluded that the the variables in the two cases are the same and they will be handled further in feature engineering. "
   ]
  },
  {
   "cell_type": "markdown",
   "metadata": {
    "Collapsed": "false"
   },
   "source": [
    "### 2.4 Missing values treatment ###"
   ]
  },
  {
   "cell_type": "code",
   "execution_count": 17,
   "metadata": {
    "Collapsed": "false"
   },
   "outputs": [
    {
     "data": {
      "text/html": [
       "<div>\n",
       "<style scoped>\n",
       "    .dataframe tbody tr th:only-of-type {\n",
       "        vertical-align: middle;\n",
       "    }\n",
       "\n",
       "    .dataframe tbody tr th {\n",
       "        vertical-align: top;\n",
       "    }\n",
       "\n",
       "    .dataframe thead th {\n",
       "        text-align: right;\n",
       "    }\n",
       "</style>\n",
       "<table border=\"1\" class=\"dataframe\">\n",
       "  <thead>\n",
       "    <tr style=\"text-align: right;\">\n",
       "      <th></th>\n",
       "      <th>energy-kcal_100g</th>\n",
       "      <th>energy_100g</th>\n",
       "      <th>fat_100g</th>\n",
       "      <th>saturated-fat_100g</th>\n",
       "      <th>trans-fat_100g</th>\n",
       "      <th>cholesterol_100g</th>\n",
       "      <th>carbohydrates_100g</th>\n",
       "      <th>sugars_100g</th>\n",
       "      <th>fiber_100g</th>\n",
       "      <th>proteins_100g</th>\n",
       "      <th>salt_100g</th>\n",
       "      <th>sodium_100g</th>\n",
       "      <th>vitamin-a_100g</th>\n",
       "      <th>vitamin-c_100g</th>\n",
       "      <th>calcium_100g</th>\n",
       "      <th>iron_100g</th>\n",
       "      <th>nutrition-score-fr_100g</th>\n",
       "    </tr>\n",
       "  </thead>\n",
       "  <tbody>\n",
       "  </tbody>\n",
       "</table>\n",
       "</div>"
      ],
      "text/plain": [
       "Empty DataFrame\n",
       "Columns: [energy-kcal_100g, energy_100g, fat_100g, saturated-fat_100g, trans-fat_100g, cholesterol_100g, carbohydrates_100g, sugars_100g, fiber_100g, proteins_100g, salt_100g, sodium_100g, vitamin-a_100g, vitamin-c_100g, calcium_100g, iron_100g, nutrition-score-fr_100g]\n",
       "Index: []"
      ]
     },
     "metadata": {},
     "output_type": "display_data"
    }
   ],
   "source": [
    "#Finding the missing value \n",
    "\n",
    "display(file[file.isnull().any(axis=1)])\n"
   ]
  },
  {
   "cell_type": "markdown",
   "metadata": {},
   "source": [
    "##### Result Interpretation"
   ]
  },
  {
   "cell_type": "markdown",
   "metadata": {},
   "source": [
    "There is no missing value in the data. "
   ]
  },
  {
   "cell_type": "markdown",
   "metadata": {
    "Collapsed": "false"
   },
   "source": [
    "## 2.5 Feature Engineering ##"
   ]
  },
  {
   "cell_type": "code",
   "execution_count": 83,
   "metadata": {
    "Collapsed": "false"
   },
   "outputs": [],
   "source": [
    "#Drop the first column #\n",
    "file = file.drop(columns=['Unnamed: 0'])"
   ]
  },
  {
   "cell_type": "markdown",
   "metadata": {},
   "source": [
    "Since the role of the first column is not clearly stated, the column was then dropped. "
   ]
  },
  {
   "cell_type": "code",
   "execution_count": 84,
   "metadata": {},
   "outputs": [
    {
     "data": {
      "text/html": [
       "<div>\n",
       "<style scoped>\n",
       "    .dataframe tbody tr th:only-of-type {\n",
       "        vertical-align: middle;\n",
       "    }\n",
       "\n",
       "    .dataframe tbody tr th {\n",
       "        vertical-align: top;\n",
       "    }\n",
       "\n",
       "    .dataframe thead th {\n",
       "        text-align: right;\n",
       "    }\n",
       "</style>\n",
       "<table border=\"1\" class=\"dataframe\">\n",
       "  <thead>\n",
       "    <tr style=\"text-align: right;\">\n",
       "      <th></th>\n",
       "      <th>energy_100g</th>\n",
       "      <th>fat_100g</th>\n",
       "      <th>saturated-fat_100g</th>\n",
       "      <th>trans-fat_100g</th>\n",
       "      <th>cholesterol_100g</th>\n",
       "      <th>carbohydrates_100g</th>\n",
       "      <th>sugars_100g</th>\n",
       "      <th>fiber_100g</th>\n",
       "      <th>proteins_100g</th>\n",
       "      <th>salt_100g</th>\n",
       "      <th>vitamin-a_100g</th>\n",
       "      <th>vitamin-c_100g</th>\n",
       "      <th>calcium_100g</th>\n",
       "      <th>iron_100g</th>\n",
       "      <th>nutrition-score-fr_100g</th>\n",
       "    </tr>\n",
       "  </thead>\n",
       "  <tbody>\n",
       "    <tr>\n",
       "      <th>0</th>\n",
       "      <td>1255.0</td>\n",
       "      <td>0.00</td>\n",
       "      <td>0.000</td>\n",
       "      <td>0.000</td>\n",
       "      <td>0.00000</td>\n",
       "      <td>83.33</td>\n",
       "      <td>66.670</td>\n",
       "      <td>10.000</td>\n",
       "      <td>0.00</td>\n",
       "      <td>0.0000</td>\n",
       "      <td>0.000000</td>\n",
       "      <td>0.000000</td>\n",
       "      <td>0.0000</td>\n",
       "      <td>0.000000</td>\n",
       "      <td>3.0</td>\n",
       "    </tr>\n",
       "    <tr>\n",
       "      <th>1</th>\n",
       "      <td>1090.0</td>\n",
       "      <td>10.70</td>\n",
       "      <td>2.000</td>\n",
       "      <td>0.667</td>\n",
       "      <td>0.00533</td>\n",
       "      <td>38.70</td>\n",
       "      <td>24.700</td>\n",
       "      <td>2.000</td>\n",
       "      <td>3.33</td>\n",
       "      <td>0.6470</td>\n",
       "      <td>0.000000</td>\n",
       "      <td>0.001600</td>\n",
       "      <td>0.0133</td>\n",
       "      <td>0.000480</td>\n",
       "      <td>3.0</td>\n",
       "    </tr>\n",
       "    <tr>\n",
       "      <th>2</th>\n",
       "      <td>1160.0</td>\n",
       "      <td>1.11</td>\n",
       "      <td>0.333</td>\n",
       "      <td>0.000</td>\n",
       "      <td>0.00000</td>\n",
       "      <td>53.30</td>\n",
       "      <td>1.110</td>\n",
       "      <td>2.220</td>\n",
       "      <td>10.00</td>\n",
       "      <td>1.5200</td>\n",
       "      <td>0.000000</td>\n",
       "      <td>0.000000</td>\n",
       "      <td>0.0222</td>\n",
       "      <td>0.006000</td>\n",
       "      <td>2.0</td>\n",
       "    </tr>\n",
       "    <tr>\n",
       "      <th>3</th>\n",
       "      <td>478.0</td>\n",
       "      <td>6.79</td>\n",
       "      <td>2.860</td>\n",
       "      <td>0.000</td>\n",
       "      <td>0.01070</td>\n",
       "      <td>7.86</td>\n",
       "      <td>0.714</td>\n",
       "      <td>0.357</td>\n",
       "      <td>5.36</td>\n",
       "      <td>0.4990</td>\n",
       "      <td>0.000011</td>\n",
       "      <td>0.000429</td>\n",
       "      <td>0.0286</td>\n",
       "      <td>0.000643</td>\n",
       "      <td>2.0</td>\n",
       "    </tr>\n",
       "    <tr>\n",
       "      <th>4</th>\n",
       "      <td>536.0</td>\n",
       "      <td>6.00</td>\n",
       "      <td>1.000</td>\n",
       "      <td>0.000</td>\n",
       "      <td>0.00000</td>\n",
       "      <td>50.00</td>\n",
       "      <td>19.000</td>\n",
       "      <td>1.000</td>\n",
       "      <td>7.00</td>\n",
       "      <td>0.0000</td>\n",
       "      <td>0.000000</td>\n",
       "      <td>0.000000</td>\n",
       "      <td>0.0000</td>\n",
       "      <td>0.000000</td>\n",
       "      <td>2.0</td>\n",
       "    </tr>\n",
       "    <tr>\n",
       "      <th>...</th>\n",
       "      <td>...</td>\n",
       "      <td>...</td>\n",
       "      <td>...</td>\n",
       "      <td>...</td>\n",
       "      <td>...</td>\n",
       "      <td>...</td>\n",
       "      <td>...</td>\n",
       "      <td>...</td>\n",
       "      <td>...</td>\n",
       "      <td>...</td>\n",
       "      <td>...</td>\n",
       "      <td>...</td>\n",
       "      <td>...</td>\n",
       "      <td>...</td>\n",
       "      <td>...</td>\n",
       "    </tr>\n",
       "    <tr>\n",
       "      <th>3354</th>\n",
       "      <td>1941.0</td>\n",
       "      <td>21.43</td>\n",
       "      <td>1.790</td>\n",
       "      <td>0.000</td>\n",
       "      <td>0.00000</td>\n",
       "      <td>64.29</td>\n",
       "      <td>0.000</td>\n",
       "      <td>10.700</td>\n",
       "      <td>10.71</td>\n",
       "      <td>0.6700</td>\n",
       "      <td>0.000000</td>\n",
       "      <td>0.000000</td>\n",
       "      <td>0.0000</td>\n",
       "      <td>0.002570</td>\n",
       "      <td>2.0</td>\n",
       "    </tr>\n",
       "    <tr>\n",
       "      <th>3355</th>\n",
       "      <td>209.0</td>\n",
       "      <td>1.67</td>\n",
       "      <td>0.000</td>\n",
       "      <td>0.000</td>\n",
       "      <td>0.00000</td>\n",
       "      <td>6.67</td>\n",
       "      <td>3.330</td>\n",
       "      <td>0.000</td>\n",
       "      <td>0.00</td>\n",
       "      <td>2.5825</td>\n",
       "      <td>0.000000</td>\n",
       "      <td>0.008000</td>\n",
       "      <td>0.0000</td>\n",
       "      <td>0.001200</td>\n",
       "      <td>3.0</td>\n",
       "    </tr>\n",
       "    <tr>\n",
       "      <th>3356</th>\n",
       "      <td>2092.0</td>\n",
       "      <td>52.86</td>\n",
       "      <td>7.140</td>\n",
       "      <td>0.000</td>\n",
       "      <td>0.00000</td>\n",
       "      <td>4.29</td>\n",
       "      <td>2.860</td>\n",
       "      <td>1.400</td>\n",
       "      <td>1.43</td>\n",
       "      <td>0.0725</td>\n",
       "      <td>0.000171</td>\n",
       "      <td>0.025700</td>\n",
       "      <td>0.0000</td>\n",
       "      <td>0.001030</td>\n",
       "      <td>3.0</td>\n",
       "    </tr>\n",
       "    <tr>\n",
       "      <th>3357</th>\n",
       "      <td>1331.0</td>\n",
       "      <td>20.45</td>\n",
       "      <td>2.270</td>\n",
       "      <td>0.000</td>\n",
       "      <td>0.00000</td>\n",
       "      <td>27.27</td>\n",
       "      <td>18.180</td>\n",
       "      <td>4.500</td>\n",
       "      <td>4.55</td>\n",
       "      <td>0.2850</td>\n",
       "      <td>0.000000</td>\n",
       "      <td>0.016400</td>\n",
       "      <td>0.0000</td>\n",
       "      <td>0.004910</td>\n",
       "      <td>3.0</td>\n",
       "    </tr>\n",
       "    <tr>\n",
       "      <th>3358</th>\n",
       "      <td>1393.0</td>\n",
       "      <td>33.33</td>\n",
       "      <td>20.000</td>\n",
       "      <td>0.000</td>\n",
       "      <td>0.10000</td>\n",
       "      <td>6.67</td>\n",
       "      <td>6.670</td>\n",
       "      <td>0.000</td>\n",
       "      <td>6.67</td>\n",
       "      <td>0.8325</td>\n",
       "      <td>0.000400</td>\n",
       "      <td>0.000000</td>\n",
       "      <td>0.0670</td>\n",
       "      <td>0.000000</td>\n",
       "      <td>4.0</td>\n",
       "    </tr>\n",
       "  </tbody>\n",
       "</table>\n",
       "<p>3359 rows × 15 columns</p>\n",
       "</div>"
      ],
      "text/plain": [
       "      energy_100g  fat_100g  saturated-fat_100g  trans-fat_100g  \\\n",
       "0          1255.0      0.00               0.000           0.000   \n",
       "1          1090.0     10.70               2.000           0.667   \n",
       "2          1160.0      1.11               0.333           0.000   \n",
       "3           478.0      6.79               2.860           0.000   \n",
       "4           536.0      6.00               1.000           0.000   \n",
       "...           ...       ...                 ...             ...   \n",
       "3354       1941.0     21.43               1.790           0.000   \n",
       "3355        209.0      1.67               0.000           0.000   \n",
       "3356       2092.0     52.86               7.140           0.000   \n",
       "3357       1331.0     20.45               2.270           0.000   \n",
       "3358       1393.0     33.33              20.000           0.000   \n",
       "\n",
       "      cholesterol_100g  carbohydrates_100g  sugars_100g  fiber_100g  \\\n",
       "0              0.00000               83.33       66.670      10.000   \n",
       "1              0.00533               38.70       24.700       2.000   \n",
       "2              0.00000               53.30        1.110       2.220   \n",
       "3              0.01070                7.86        0.714       0.357   \n",
       "4              0.00000               50.00       19.000       1.000   \n",
       "...                ...                 ...          ...         ...   \n",
       "3354           0.00000               64.29        0.000      10.700   \n",
       "3355           0.00000                6.67        3.330       0.000   \n",
       "3356           0.00000                4.29        2.860       1.400   \n",
       "3357           0.00000               27.27       18.180       4.500   \n",
       "3358           0.10000                6.67        6.670       0.000   \n",
       "\n",
       "      proteins_100g  salt_100g  vitamin-a_100g  vitamin-c_100g  calcium_100g  \\\n",
       "0              0.00     0.0000        0.000000        0.000000        0.0000   \n",
       "1              3.33     0.6470        0.000000        0.001600        0.0133   \n",
       "2             10.00     1.5200        0.000000        0.000000        0.0222   \n",
       "3              5.36     0.4990        0.000011        0.000429        0.0286   \n",
       "4              7.00     0.0000        0.000000        0.000000        0.0000   \n",
       "...             ...        ...             ...             ...           ...   \n",
       "3354          10.71     0.6700        0.000000        0.000000        0.0000   \n",
       "3355           0.00     2.5825        0.000000        0.008000        0.0000   \n",
       "3356           1.43     0.0725        0.000171        0.025700        0.0000   \n",
       "3357           4.55     0.2850        0.000000        0.016400        0.0000   \n",
       "3358           6.67     0.8325        0.000400        0.000000        0.0670   \n",
       "\n",
       "      iron_100g  nutrition-score-fr_100g  \n",
       "0      0.000000                      3.0  \n",
       "1      0.000480                      3.0  \n",
       "2      0.006000                      2.0  \n",
       "3      0.000643                      2.0  \n",
       "4      0.000000                      2.0  \n",
       "...         ...                      ...  \n",
       "3354   0.002570                      2.0  \n",
       "3355   0.001200                      3.0  \n",
       "3356   0.001030                      3.0  \n",
       "3357   0.004910                      3.0  \n",
       "3358   0.000000                      4.0  \n",
       "\n",
       "[3359 rows x 15 columns]"
      ]
     },
     "execution_count": 84,
     "metadata": {},
     "output_type": "execute_result"
    }
   ],
   "source": [
    "file.drop(columns=['energy-kcal_100g', 'sodium_100g'])"
   ]
  },
  {
   "cell_type": "markdown",
   "metadata": {},
   "source": [
    "Based on the discovery from bivariate analysis, the energy-kcal and sodium are dropped from the data. The energy-kcal is dropped because it appears to be a an element in the energy as whole. Also, sodium is an element in salt which means there could be some other elements that form the figures in salt. "
   ]
  },
  {
   "cell_type": "code",
   "execution_count": 87,
   "metadata": {},
   "outputs": [],
   "source": [
    "file['vitamins']= file['vitamin-a_100g'] + file['vitamin-c_100g']"
   ]
  },
  {
   "cell_type": "markdown",
   "metadata": {},
   "source": [
    "Fro easy usage in the development of the model, the vitamins-a and vitamin-c are summed together to become 'vitamins. We added it because there is no relationship between the two. "
   ]
  },
  {
   "cell_type": "code",
   "execution_count": 88,
   "metadata": {},
   "outputs": [],
   "source": [
    "file['fat']= file['fat_100g'] + file['saturated-fat_100g'] + file['trans-fat_100g'] + file['cholesterol_100g']"
   ]
  },
  {
   "cell_type": "markdown",
   "metadata": {},
   "source": [
    "Similar to the reason for the adding vitamins, we decided to sum up different types of fat. We decided to add it up and not drop the columns because there is no perfect relationship among the variables compared to energy and sodium. Cholesterol is also added in this category because theoretically, it is regarded as saturated fat.We decided to add it up with saturated fat even when they are theoretically the same because of the low relationship (r=0.19) between the two. "
   ]
  },
  {
   "cell_type": "code",
   "execution_count": 90,
   "metadata": {},
   "outputs": [
    {
     "data": {
      "text/html": [
       "<div>\n",
       "<style scoped>\n",
       "    .dataframe tbody tr th:only-of-type {\n",
       "        vertical-align: middle;\n",
       "    }\n",
       "\n",
       "    .dataframe tbody tr th {\n",
       "        vertical-align: top;\n",
       "    }\n",
       "\n",
       "    .dataframe thead th {\n",
       "        text-align: right;\n",
       "    }\n",
       "</style>\n",
       "<table border=\"1\" class=\"dataframe\">\n",
       "  <thead>\n",
       "    <tr style=\"text-align: right;\">\n",
       "      <th></th>\n",
       "      <th>energy-kcal_100g</th>\n",
       "      <th>energy_100g</th>\n",
       "      <th>fat_100g</th>\n",
       "      <th>saturated-fat_100g</th>\n",
       "      <th>trans-fat_100g</th>\n",
       "      <th>cholesterol_100g</th>\n",
       "      <th>carbohydrates_100g</th>\n",
       "      <th>fiber_100g</th>\n",
       "      <th>proteins_100g</th>\n",
       "      <th>salt_100g</th>\n",
       "      <th>sodium_100g</th>\n",
       "      <th>vitamin-a_100g</th>\n",
       "      <th>vitamin-c_100g</th>\n",
       "      <th>calcium_100g</th>\n",
       "      <th>iron_100g</th>\n",
       "      <th>nutrition-score-fr_100g</th>\n",
       "      <th>fat</th>\n",
       "      <th>vitamins</th>\n",
       "    </tr>\n",
       "  </thead>\n",
       "  <tbody>\n",
       "    <tr>\n",
       "      <th>0</th>\n",
       "      <td>300.0</td>\n",
       "      <td>1255.0</td>\n",
       "      <td>0.00</td>\n",
       "      <td>0.000</td>\n",
       "      <td>0.000</td>\n",
       "      <td>0.00000</td>\n",
       "      <td>83.33</td>\n",
       "      <td>10.000</td>\n",
       "      <td>0.00</td>\n",
       "      <td>0.0000</td>\n",
       "      <td>0.000</td>\n",
       "      <td>0.000000</td>\n",
       "      <td>0.000000</td>\n",
       "      <td>0.0000</td>\n",
       "      <td>0.000000</td>\n",
       "      <td>3.0</td>\n",
       "      <td>0.00000</td>\n",
       "      <td>0.000000</td>\n",
       "    </tr>\n",
       "    <tr>\n",
       "      <th>1</th>\n",
       "      <td>260.0</td>\n",
       "      <td>1090.0</td>\n",
       "      <td>10.70</td>\n",
       "      <td>2.000</td>\n",
       "      <td>0.667</td>\n",
       "      <td>0.00533</td>\n",
       "      <td>38.70</td>\n",
       "      <td>2.000</td>\n",
       "      <td>3.33</td>\n",
       "      <td>0.6470</td>\n",
       "      <td>0.259</td>\n",
       "      <td>0.000000</td>\n",
       "      <td>0.001600</td>\n",
       "      <td>0.0133</td>\n",
       "      <td>0.000480</td>\n",
       "      <td>3.0</td>\n",
       "      <td>13.37233</td>\n",
       "      <td>0.001600</td>\n",
       "    </tr>\n",
       "    <tr>\n",
       "      <th>2</th>\n",
       "      <td>278.0</td>\n",
       "      <td>1160.0</td>\n",
       "      <td>1.11</td>\n",
       "      <td>0.333</td>\n",
       "      <td>0.000</td>\n",
       "      <td>0.00000</td>\n",
       "      <td>53.30</td>\n",
       "      <td>2.220</td>\n",
       "      <td>10.00</td>\n",
       "      <td>1.5200</td>\n",
       "      <td>0.610</td>\n",
       "      <td>0.000000</td>\n",
       "      <td>0.000000</td>\n",
       "      <td>0.0222</td>\n",
       "      <td>0.006000</td>\n",
       "      <td>2.0</td>\n",
       "      <td>1.44300</td>\n",
       "      <td>0.000000</td>\n",
       "    </tr>\n",
       "    <tr>\n",
       "      <th>3</th>\n",
       "      <td>114.0</td>\n",
       "      <td>478.0</td>\n",
       "      <td>6.79</td>\n",
       "      <td>2.860</td>\n",
       "      <td>0.000</td>\n",
       "      <td>0.01070</td>\n",
       "      <td>7.86</td>\n",
       "      <td>0.357</td>\n",
       "      <td>5.36</td>\n",
       "      <td>0.4990</td>\n",
       "      <td>0.200</td>\n",
       "      <td>0.000011</td>\n",
       "      <td>0.000429</td>\n",
       "      <td>0.0286</td>\n",
       "      <td>0.000643</td>\n",
       "      <td>2.0</td>\n",
       "      <td>9.66070</td>\n",
       "      <td>0.000440</td>\n",
       "    </tr>\n",
       "    <tr>\n",
       "      <th>4</th>\n",
       "      <td>128.0</td>\n",
       "      <td>536.0</td>\n",
       "      <td>6.00</td>\n",
       "      <td>1.000</td>\n",
       "      <td>0.000</td>\n",
       "      <td>0.00000</td>\n",
       "      <td>50.00</td>\n",
       "      <td>1.000</td>\n",
       "      <td>7.00</td>\n",
       "      <td>0.0000</td>\n",
       "      <td>0.000</td>\n",
       "      <td>0.000000</td>\n",
       "      <td>0.000000</td>\n",
       "      <td>0.0000</td>\n",
       "      <td>0.000000</td>\n",
       "      <td>2.0</td>\n",
       "      <td>7.00000</td>\n",
       "      <td>0.000000</td>\n",
       "    </tr>\n",
       "    <tr>\n",
       "      <th>...</th>\n",
       "      <td>...</td>\n",
       "      <td>...</td>\n",
       "      <td>...</td>\n",
       "      <td>...</td>\n",
       "      <td>...</td>\n",
       "      <td>...</td>\n",
       "      <td>...</td>\n",
       "      <td>...</td>\n",
       "      <td>...</td>\n",
       "      <td>...</td>\n",
       "      <td>...</td>\n",
       "      <td>...</td>\n",
       "      <td>...</td>\n",
       "      <td>...</td>\n",
       "      <td>...</td>\n",
       "      <td>...</td>\n",
       "      <td>...</td>\n",
       "      <td>...</td>\n",
       "    </tr>\n",
       "    <tr>\n",
       "      <th>3354</th>\n",
       "      <td>464.0</td>\n",
       "      <td>1941.0</td>\n",
       "      <td>21.43</td>\n",
       "      <td>1.790</td>\n",
       "      <td>0.000</td>\n",
       "      <td>0.00000</td>\n",
       "      <td>64.29</td>\n",
       "      <td>10.700</td>\n",
       "      <td>10.71</td>\n",
       "      <td>0.6700</td>\n",
       "      <td>0.268</td>\n",
       "      <td>0.000000</td>\n",
       "      <td>0.000000</td>\n",
       "      <td>0.0000</td>\n",
       "      <td>0.002570</td>\n",
       "      <td>2.0</td>\n",
       "      <td>23.22000</td>\n",
       "      <td>0.000000</td>\n",
       "    </tr>\n",
       "    <tr>\n",
       "      <th>3355</th>\n",
       "      <td>50.0</td>\n",
       "      <td>209.0</td>\n",
       "      <td>1.67</td>\n",
       "      <td>0.000</td>\n",
       "      <td>0.000</td>\n",
       "      <td>0.00000</td>\n",
       "      <td>6.67</td>\n",
       "      <td>0.000</td>\n",
       "      <td>0.00</td>\n",
       "      <td>2.5825</td>\n",
       "      <td>1.033</td>\n",
       "      <td>0.000000</td>\n",
       "      <td>0.008000</td>\n",
       "      <td>0.0000</td>\n",
       "      <td>0.001200</td>\n",
       "      <td>3.0</td>\n",
       "      <td>1.67000</td>\n",
       "      <td>0.008000</td>\n",
       "    </tr>\n",
       "    <tr>\n",
       "      <th>3356</th>\n",
       "      <td>500.0</td>\n",
       "      <td>2092.0</td>\n",
       "      <td>52.86</td>\n",
       "      <td>7.140</td>\n",
       "      <td>0.000</td>\n",
       "      <td>0.00000</td>\n",
       "      <td>4.29</td>\n",
       "      <td>1.400</td>\n",
       "      <td>1.43</td>\n",
       "      <td>0.0725</td>\n",
       "      <td>0.029</td>\n",
       "      <td>0.000171</td>\n",
       "      <td>0.025700</td>\n",
       "      <td>0.0000</td>\n",
       "      <td>0.001030</td>\n",
       "      <td>3.0</td>\n",
       "      <td>60.00000</td>\n",
       "      <td>0.025871</td>\n",
       "    </tr>\n",
       "    <tr>\n",
       "      <th>3357</th>\n",
       "      <td>318.0</td>\n",
       "      <td>1331.0</td>\n",
       "      <td>20.45</td>\n",
       "      <td>2.270</td>\n",
       "      <td>0.000</td>\n",
       "      <td>0.00000</td>\n",
       "      <td>27.27</td>\n",
       "      <td>4.500</td>\n",
       "      <td>4.55</td>\n",
       "      <td>0.2850</td>\n",
       "      <td>0.114</td>\n",
       "      <td>0.000000</td>\n",
       "      <td>0.016400</td>\n",
       "      <td>0.0000</td>\n",
       "      <td>0.004910</td>\n",
       "      <td>3.0</td>\n",
       "      <td>22.72000</td>\n",
       "      <td>0.016400</td>\n",
       "    </tr>\n",
       "    <tr>\n",
       "      <th>3358</th>\n",
       "      <td>333.0</td>\n",
       "      <td>1393.0</td>\n",
       "      <td>33.33</td>\n",
       "      <td>20.000</td>\n",
       "      <td>0.000</td>\n",
       "      <td>0.10000</td>\n",
       "      <td>6.67</td>\n",
       "      <td>0.000</td>\n",
       "      <td>6.67</td>\n",
       "      <td>0.8325</td>\n",
       "      <td>0.333</td>\n",
       "      <td>0.000400</td>\n",
       "      <td>0.000000</td>\n",
       "      <td>0.0670</td>\n",
       "      <td>0.000000</td>\n",
       "      <td>4.0</td>\n",
       "      <td>53.43000</td>\n",
       "      <td>0.000400</td>\n",
       "    </tr>\n",
       "  </tbody>\n",
       "</table>\n",
       "<p>3359 rows × 18 columns</p>\n",
       "</div>"
      ],
      "text/plain": [
       "      energy-kcal_100g  energy_100g  fat_100g  saturated-fat_100g  \\\n",
       "0                300.0       1255.0      0.00               0.000   \n",
       "1                260.0       1090.0     10.70               2.000   \n",
       "2                278.0       1160.0      1.11               0.333   \n",
       "3                114.0        478.0      6.79               2.860   \n",
       "4                128.0        536.0      6.00               1.000   \n",
       "...                ...          ...       ...                 ...   \n",
       "3354             464.0       1941.0     21.43               1.790   \n",
       "3355              50.0        209.0      1.67               0.000   \n",
       "3356             500.0       2092.0     52.86               7.140   \n",
       "3357             318.0       1331.0     20.45               2.270   \n",
       "3358             333.0       1393.0     33.33              20.000   \n",
       "\n",
       "      trans-fat_100g  cholesterol_100g  carbohydrates_100g  fiber_100g  \\\n",
       "0              0.000           0.00000               83.33      10.000   \n",
       "1              0.667           0.00533               38.70       2.000   \n",
       "2              0.000           0.00000               53.30       2.220   \n",
       "3              0.000           0.01070                7.86       0.357   \n",
       "4              0.000           0.00000               50.00       1.000   \n",
       "...              ...               ...                 ...         ...   \n",
       "3354           0.000           0.00000               64.29      10.700   \n",
       "3355           0.000           0.00000                6.67       0.000   \n",
       "3356           0.000           0.00000                4.29       1.400   \n",
       "3357           0.000           0.00000               27.27       4.500   \n",
       "3358           0.000           0.10000                6.67       0.000   \n",
       "\n",
       "      proteins_100g  salt_100g  sodium_100g  vitamin-a_100g  vitamin-c_100g  \\\n",
       "0              0.00     0.0000        0.000        0.000000        0.000000   \n",
       "1              3.33     0.6470        0.259        0.000000        0.001600   \n",
       "2             10.00     1.5200        0.610        0.000000        0.000000   \n",
       "3              5.36     0.4990        0.200        0.000011        0.000429   \n",
       "4              7.00     0.0000        0.000        0.000000        0.000000   \n",
       "...             ...        ...          ...             ...             ...   \n",
       "3354          10.71     0.6700        0.268        0.000000        0.000000   \n",
       "3355           0.00     2.5825        1.033        0.000000        0.008000   \n",
       "3356           1.43     0.0725        0.029        0.000171        0.025700   \n",
       "3357           4.55     0.2850        0.114        0.000000        0.016400   \n",
       "3358           6.67     0.8325        0.333        0.000400        0.000000   \n",
       "\n",
       "      calcium_100g  iron_100g  nutrition-score-fr_100g       fat  vitamins  \n",
       "0           0.0000   0.000000                      3.0   0.00000  0.000000  \n",
       "1           0.0133   0.000480                      3.0  13.37233  0.001600  \n",
       "2           0.0222   0.006000                      2.0   1.44300  0.000000  \n",
       "3           0.0286   0.000643                      2.0   9.66070  0.000440  \n",
       "4           0.0000   0.000000                      2.0   7.00000  0.000000  \n",
       "...            ...        ...                      ...       ...       ...  \n",
       "3354        0.0000   0.002570                      2.0  23.22000  0.000000  \n",
       "3355        0.0000   0.001200                      3.0   1.67000  0.008000  \n",
       "3356        0.0000   0.001030                      3.0  60.00000  0.025871  \n",
       "3357        0.0000   0.004910                      3.0  22.72000  0.016400  \n",
       "3358        0.0670   0.000000                      4.0  53.43000  0.000400  \n",
       "\n",
       "[3359 rows x 18 columns]"
      ]
     },
     "execution_count": 90,
     "metadata": {},
     "output_type": "execute_result"
    }
   ],
   "source": [
    "file.drop(columns=['sugars_100g'])"
   ]
  },
  {
   "cell_type": "markdown",
   "metadata": {},
   "source": [
    "We dropped sugars_100g because there is a relationship between carbohydrates and sugars. Also, theoretically, sugar is a subset of carbohydrate because carbohydrate has simple and complex sugar. In this data, the average mean of carbohydrates is 34.03 while the mean of sugars is 16.7, we assumed sugars is an element of carbohydrates and we are retaining carbohydrates for the model. "
   ]
  },
  {
   "cell_type": "code",
   "execution_count": 97,
   "metadata": {},
   "outputs": [],
   "source": [
    "new_file=file.drop(columns=['energy-kcal_100g','vitamin-a_100g','vitamin-c_100g', 'fat_100g', 'saturated-fat_100g', 'trans-fat_100g', 'cholesterol_100g', 'sugars_100g', 'sodium_100g'])"
   ]
  },
  {
   "cell_type": "markdown",
   "metadata": {},
   "source": [
    "We have dropped the data that were summed and maintain the new data created from the additions. "
   ]
  },
  {
   "cell_type": "code",
   "execution_count": 98,
   "metadata": {
    "scrolled": true
   },
   "outputs": [
    {
     "data": {
      "text/html": [
       "<div>\n",
       "<style scoped>\n",
       "    .dataframe tbody tr th:only-of-type {\n",
       "        vertical-align: middle;\n",
       "    }\n",
       "\n",
       "    .dataframe tbody tr th {\n",
       "        vertical-align: top;\n",
       "    }\n",
       "\n",
       "    .dataframe thead th {\n",
       "        text-align: right;\n",
       "    }\n",
       "</style>\n",
       "<table border=\"1\" class=\"dataframe\">\n",
       "  <thead>\n",
       "    <tr style=\"text-align: right;\">\n",
       "      <th></th>\n",
       "      <th>energy_100g</th>\n",
       "      <th>carbohydrates_100g</th>\n",
       "      <th>fiber_100g</th>\n",
       "      <th>proteins_100g</th>\n",
       "      <th>salt_100g</th>\n",
       "      <th>calcium_100g</th>\n",
       "      <th>iron_100g</th>\n",
       "      <th>nutrition-score-fr_100g</th>\n",
       "      <th>fat</th>\n",
       "      <th>vitamins</th>\n",
       "    </tr>\n",
       "  </thead>\n",
       "  <tbody>\n",
       "    <tr>\n",
       "      <th>0</th>\n",
       "      <td>1255.0</td>\n",
       "      <td>83.33</td>\n",
       "      <td>10.000</td>\n",
       "      <td>0.00</td>\n",
       "      <td>0.000</td>\n",
       "      <td>0.0000</td>\n",
       "      <td>0.000000</td>\n",
       "      <td>3.0</td>\n",
       "      <td>0.00000</td>\n",
       "      <td>0.00000</td>\n",
       "    </tr>\n",
       "    <tr>\n",
       "      <th>1</th>\n",
       "      <td>1090.0</td>\n",
       "      <td>38.70</td>\n",
       "      <td>2.000</td>\n",
       "      <td>3.33</td>\n",
       "      <td>0.647</td>\n",
       "      <td>0.0133</td>\n",
       "      <td>0.000480</td>\n",
       "      <td>3.0</td>\n",
       "      <td>13.37233</td>\n",
       "      <td>0.00160</td>\n",
       "    </tr>\n",
       "    <tr>\n",
       "      <th>2</th>\n",
       "      <td>1160.0</td>\n",
       "      <td>53.30</td>\n",
       "      <td>2.220</td>\n",
       "      <td>10.00</td>\n",
       "      <td>1.520</td>\n",
       "      <td>0.0222</td>\n",
       "      <td>0.006000</td>\n",
       "      <td>2.0</td>\n",
       "      <td>1.44300</td>\n",
       "      <td>0.00000</td>\n",
       "    </tr>\n",
       "    <tr>\n",
       "      <th>3</th>\n",
       "      <td>478.0</td>\n",
       "      <td>7.86</td>\n",
       "      <td>0.357</td>\n",
       "      <td>5.36</td>\n",
       "      <td>0.499</td>\n",
       "      <td>0.0286</td>\n",
       "      <td>0.000643</td>\n",
       "      <td>2.0</td>\n",
       "      <td>9.66070</td>\n",
       "      <td>0.00044</td>\n",
       "    </tr>\n",
       "    <tr>\n",
       "      <th>4</th>\n",
       "      <td>536.0</td>\n",
       "      <td>50.00</td>\n",
       "      <td>1.000</td>\n",
       "      <td>7.00</td>\n",
       "      <td>0.000</td>\n",
       "      <td>0.0000</td>\n",
       "      <td>0.000000</td>\n",
       "      <td>2.0</td>\n",
       "      <td>7.00000</td>\n",
       "      <td>0.00000</td>\n",
       "    </tr>\n",
       "  </tbody>\n",
       "</table>\n",
       "</div>"
      ],
      "text/plain": [
       "   energy_100g  carbohydrates_100g  fiber_100g  proteins_100g  salt_100g  \\\n",
       "0       1255.0               83.33      10.000           0.00      0.000   \n",
       "1       1090.0               38.70       2.000           3.33      0.647   \n",
       "2       1160.0               53.30       2.220          10.00      1.520   \n",
       "3        478.0                7.86       0.357           5.36      0.499   \n",
       "4        536.0               50.00       1.000           7.00      0.000   \n",
       "\n",
       "   calcium_100g  iron_100g  nutrition-score-fr_100g       fat  vitamins  \n",
       "0        0.0000   0.000000                      3.0   0.00000   0.00000  \n",
       "1        0.0133   0.000480                      3.0  13.37233   0.00160  \n",
       "2        0.0222   0.006000                      2.0   1.44300   0.00000  \n",
       "3        0.0286   0.000643                      2.0   9.66070   0.00044  \n",
       "4        0.0000   0.000000                      2.0   7.00000   0.00000  "
      ]
     },
     "execution_count": 98,
     "metadata": {},
     "output_type": "execute_result"
    }
   ],
   "source": [
    "new_file.head()"
   ]
  },
  {
   "cell_type": "markdown",
   "metadata": {},
   "source": [
    "At the end of the feature engineering, we now have 9 independent variables and 1 target variable compared to 16 independent variables from the start. "
   ]
  },
  {
   "cell_type": "markdown",
   "metadata": {},
   "source": [
    "# 3. Outlier Treatment & More Bivariate Analysis"
   ]
  },
  {
   "cell_type": "code",
   "execution_count": 113,
   "metadata": {
    "scrolled": true
   },
   "outputs": [
    {
     "data": {
      "image/png": "[encoded data removed]",
      "text/plain": [
       "<Figure size 432x288 with 1 Axes>"
      ]
     },
     "metadata": {
      "needs_background": "light"
     },
     "output_type": "display_data"
    }
   ],
   "source": [
    "sns.boxplot(x=\"nutrition-score-fr_100g\", y=\"carbohydrates_100g\", data=new_file)\n",
    "plt.show()"
   ]
  },
  {
   "cell_type": "code",
   "execution_count": 112,
   "metadata": {
    "scrolled": true
   },
   "outputs": [
    {
     "data": {
      "image/png": "[encoded data removed]",
      "text/plain": [
       "<Figure size 432x288 with 1 Axes>"
      ]
     },
     "metadata": {
      "needs_background": "light"
     },
     "output_type": "display_data"
    }
   ],
   "source": [
    "sns.boxplot(x=\"nutrition-score-fr_100g\", y=\"energy_100g\", data=new_file)\n",
    "plt.show()"
   ]
  },
  {
   "cell_type": "code",
   "execution_count": 114,
   "metadata": {},
   "outputs": [
    {
     "data": {
      "image/png": "[encoded data removed]",
      "text/plain": [
       "<Figure size 432x288 with 1 Axes>"
      ]
     },
     "metadata": {
      "needs_background": "light"
     },
     "output_type": "display_data"
    }
   ],
   "source": [
    "sns.boxplot(x=\"nutrition-score-fr_100g\", y=\"fiber_100g\", data=new_file)\n",
    "plt.show()"
   ]
  },
  {
   "cell_type": "code",
   "execution_count": 115,
   "metadata": {},
   "outputs": [
    {
     "data": {
      "image/png": "[encoded data removed]",
      "text/plain": [
       "<Figure size 432x288 with 1 Axes>"
      ]
     },
     "metadata": {
      "needs_background": "light"
     },
     "output_type": "display_data"
    }
   ],
   "source": [
    "sns.boxplot(x=\"nutrition-score-fr_100g\", y=\"proteins_100g\", data=new_file)\n",
    "plt.show()"
   ]
  },
  {
   "cell_type": "code",
   "execution_count": 116,
   "metadata": {},
   "outputs": [
    {
     "data": {
      "text/html": [
       "<div>\n",
       "<style scoped>\n",
       "    .dataframe tbody tr th:only-of-type {\n",
       "        vertical-align: middle;\n",
       "    }\n",
       "\n",
       "    .dataframe tbody tr th {\n",
       "        vertical-align: top;\n",
       "    }\n",
       "\n",
       "    .dataframe thead th {\n",
       "        text-align: right;\n",
       "    }\n",
       "</style>\n",
       "<table border=\"1\" class=\"dataframe\">\n",
       "  <thead>\n",
       "    <tr style=\"text-align: right;\">\n",
       "      <th></th>\n",
       "      <th>energy_100g</th>\n",
       "      <th>carbohydrates_100g</th>\n",
       "      <th>fiber_100g</th>\n",
       "      <th>proteins_100g</th>\n",
       "      <th>salt_100g</th>\n",
       "      <th>calcium_100g</th>\n",
       "      <th>iron_100g</th>\n",
       "      <th>nutrition-score-fr_100g</th>\n",
       "      <th>fat</th>\n",
       "      <th>vitamins</th>\n",
       "    </tr>\n",
       "  </thead>\n",
       "  <tbody>\n",
       "    <tr>\n",
       "      <th>122</th>\n",
       "      <td>1393.0</td>\n",
       "      <td>0.0</td>\n",
       "      <td>0.0</td>\n",
       "      <td>66.67</td>\n",
       "      <td>0.0</td>\n",
       "      <td>0.0</td>\n",
       "      <td>0.012</td>\n",
       "      <td>2.0</td>\n",
       "      <td>0.0</td>\n",
       "      <td>0.0</td>\n",
       "    </tr>\n",
       "  </tbody>\n",
       "</table>\n",
       "</div>"
      ],
      "text/plain": [
       "     energy_100g  carbohydrates_100g  fiber_100g  proteins_100g  salt_100g  \\\n",
       "122       1393.0                 0.0         0.0          66.67        0.0   \n",
       "\n",
       "     calcium_100g  iron_100g  nutrition-score-fr_100g  fat  vitamins  \n",
       "122           0.0      0.012                      2.0  0.0       0.0  "
      ]
     },
     "execution_count": 116,
     "metadata": {},
     "output_type": "execute_result"
    }
   ],
   "source": [
    "new_file.loc[new_file['proteins_100g']>60]"
   ]
  },
  {
   "cell_type": "code",
   "execution_count": 117,
   "metadata": {},
   "outputs": [
    {
     "data": {
      "image/png": "[encoded data removed]",
      "text/plain": [
       "<Figure size 432x288 with 1 Axes>"
      ]
     },
     "metadata": {
      "needs_background": "light"
     },
     "output_type": "display_data"
    }
   ],
   "source": [
    "sns.boxplot(x=\"nutrition-score-fr_100g\", y=\"salt_100g\", data=new_file)\n",
    "plt.show()"
   ]
  },
  {
   "cell_type": "code",
   "execution_count": 118,
   "metadata": {},
   "outputs": [
    {
     "data": {
      "image/png": "[encoded data removed]",
      "text/plain": [
       "<Figure size 432x288 with 1 Axes>"
      ]
     },
     "metadata": {
      "needs_background": "light"
     },
     "output_type": "display_data"
    }
   ],
   "source": [
    "sns.boxplot(x=\"nutrition-score-fr_100g\", y=\"calcium_100g\", data=new_file)\n",
    "plt.show()"
   ]
  },
  {
   "cell_type": "code",
   "execution_count": 119,
   "metadata": {},
   "outputs": [
    {
     "data": {
      "text/html": [
       "<div>\n",
       "<style scoped>\n",
       "    .dataframe tbody tr th:only-of-type {\n",
       "        vertical-align: middle;\n",
       "    }\n",
       "\n",
       "    .dataframe tbody tr th {\n",
       "        vertical-align: top;\n",
       "    }\n",
       "\n",
       "    .dataframe thead th {\n",
       "        text-align: right;\n",
       "    }\n",
       "</style>\n",
       "<table border=\"1\" class=\"dataframe\">\n",
       "  <thead>\n",
       "    <tr style=\"text-align: right;\">\n",
       "      <th></th>\n",
       "      <th>energy_100g</th>\n",
       "      <th>carbohydrates_100g</th>\n",
       "      <th>fiber_100g</th>\n",
       "      <th>proteins_100g</th>\n",
       "      <th>salt_100g</th>\n",
       "      <th>calcium_100g</th>\n",
       "      <th>iron_100g</th>\n",
       "      <th>nutrition-score-fr_100g</th>\n",
       "      <th>fat</th>\n",
       "      <th>vitamins</th>\n",
       "    </tr>\n",
       "  </thead>\n",
       "  <tbody>\n",
       "    <tr>\n",
       "      <th>117</th>\n",
       "      <td>1393.0</td>\n",
       "      <td>52.38</td>\n",
       "      <td>0.0</td>\n",
       "      <td>33.33</td>\n",
       "      <td>1.37</td>\n",
       "      <td>1.667</td>\n",
       "      <td>0.0</td>\n",
       "      <td>5.0</td>\n",
       "      <td>0.0</td>\n",
       "      <td>0.012114</td>\n",
       "    </tr>\n",
       "  </tbody>\n",
       "</table>\n",
       "</div>"
      ],
      "text/plain": [
       "     energy_100g  carbohydrates_100g  fiber_100g  proteins_100g  salt_100g  \\\n",
       "117       1393.0               52.38         0.0          33.33       1.37   \n",
       "\n",
       "     calcium_100g  iron_100g  nutrition-score-fr_100g  fat  vitamins  \n",
       "117         1.667        0.0                      5.0  0.0  0.012114  "
      ]
     },
     "execution_count": 119,
     "metadata": {},
     "output_type": "execute_result"
    }
   ],
   "source": [
    "new_file.loc[new_file['calcium_100g']>1.50]"
   ]
  },
  {
   "cell_type": "code",
   "execution_count": 120,
   "metadata": {},
   "outputs": [
    {
     "data": {
      "image/png": "[encoded data removed]",
      "text/plain": [
       "<Figure size 432x288 with 1 Axes>"
      ]
     },
     "metadata": {
      "needs_background": "light"
     },
     "output_type": "display_data"
    }
   ],
   "source": [
    "sns.boxplot(x=\"nutrition-score-fr_100g\", y=\"iron_100g\", data=new_file)\n",
    "plt.show()"
   ]
  },
  {
   "cell_type": "code",
   "execution_count": 121,
   "metadata": {},
   "outputs": [
    {
     "data": {
      "image/png": "[encoded data removed]",
      "text/plain": [
       "<Figure size 432x288 with 1 Axes>"
      ]
     },
     "metadata": {
      "needs_background": "light"
     },
     "output_type": "display_data"
    }
   ],
   "source": [
    "sns.boxplot(x=\"nutrition-score-fr_100g\", y=\"fat\", data=new_file)\n",
    "plt.show()"
   ]
  },
  {
   "cell_type": "code",
   "execution_count": 122,
   "metadata": {},
   "outputs": [
    {
     "data": {
      "image/png": "[encoded data removed]",
      "text/plain": [
       "<Figure size 432x288 with 1 Axes>"
      ]
     },
     "metadata": {
      "needs_background": "light"
     },
     "output_type": "display_data"
    }
   ],
   "source": [
    "sns.boxplot(x=\"nutrition-score-fr_100g\", y=\"vitamins\", data=new_file)\n",
    "plt.show()"
   ]
  },
  {
   "cell_type": "markdown",
   "metadata": {},
   "source": [
    "We decided to use boxplots for all the nutrients against the nutrition score to determine the the positive and negative nutrients based on the nutrition score as well as the outlier. Overall, it is oberved that the outliers noticable in each plot is only a data point which may not significantly influence the performance of the model. Therefore, we decided not to drop the outliers in different nutrients. "
   ]
  },
  {
   "cell_type": "markdown",
   "metadata": {},
   "source": [
    "REGARDING POSITIVE AND NEGATIVE NUTRIENTS \n",
    "\n",
    "Fat, energy and carbohydrates (i.e sugars) appear to stand out from other nutrients as most negative nutrients. On the other hand, Vitamins, iron and fiber stood out as most positive nutrients. For other 3 nutrients, there is a slight competition between the classification as positive or negative nutrients."
   ]
  },
  {
   "cell_type": "markdown",
   "metadata": {
    "Collapsed": "false"
   },
   "source": [
    "## 4. Train-Test Splitting ##"
   ]
  },
  {
   "cell_type": "code",
   "execution_count": null,
   "metadata": {},
   "outputs": [],
   "source": [
    "# Libraries for model training \n",
    "from sklearn import tree\n",
    "from sklearn import svm\n",
    "from sklearn.model_selection import train_test_split\n",
    "from sklearn.metrics import plot_confusion_matrix\n",
    "from sklearn.ensemble import RandomForestClassifier\n",
    "from sklearn.metrics import f1_score\n",
    "import graphviz"
   ]
  },
  {
   "cell_type": "code",
   "execution_count": 123,
   "metadata": {},
   "outputs": [
    {
     "data": {
      "text/html": [
       "<div>\n",
       "<style scoped>\n",
       "    .dataframe tbody tr th:only-of-type {\n",
       "        vertical-align: middle;\n",
       "    }\n",
       "\n",
       "    .dataframe tbody tr th {\n",
       "        vertical-align: top;\n",
       "    }\n",
       "\n",
       "    .dataframe thead th {\n",
       "        text-align: right;\n",
       "    }\n",
       "</style>\n",
       "<table border=\"1\" class=\"dataframe\">\n",
       "  <thead>\n",
       "    <tr style=\"text-align: right;\">\n",
       "      <th></th>\n",
       "      <th>energy_100g</th>\n",
       "      <th>carbohydrates_100g</th>\n",
       "      <th>fiber_100g</th>\n",
       "      <th>proteins_100g</th>\n",
       "      <th>salt_100g</th>\n",
       "      <th>calcium_100g</th>\n",
       "      <th>iron_100g</th>\n",
       "      <th>nutrition-score-fr_100g</th>\n",
       "      <th>fat</th>\n",
       "      <th>vitamins</th>\n",
       "    </tr>\n",
       "  </thead>\n",
       "  <tbody>\n",
       "    <tr>\n",
       "      <th>0</th>\n",
       "      <td>1255.0</td>\n",
       "      <td>83.33</td>\n",
       "      <td>10.000</td>\n",
       "      <td>0.00</td>\n",
       "      <td>0.000</td>\n",
       "      <td>0.0000</td>\n",
       "      <td>0.000000</td>\n",
       "      <td>3.0</td>\n",
       "      <td>0.00000</td>\n",
       "      <td>0.00000</td>\n",
       "    </tr>\n",
       "    <tr>\n",
       "      <th>1</th>\n",
       "      <td>1090.0</td>\n",
       "      <td>38.70</td>\n",
       "      <td>2.000</td>\n",
       "      <td>3.33</td>\n",
       "      <td>0.647</td>\n",
       "      <td>0.0133</td>\n",
       "      <td>0.000480</td>\n",
       "      <td>3.0</td>\n",
       "      <td>13.37233</td>\n",
       "      <td>0.00160</td>\n",
       "    </tr>\n",
       "    <tr>\n",
       "      <th>2</th>\n",
       "      <td>1160.0</td>\n",
       "      <td>53.30</td>\n",
       "      <td>2.220</td>\n",
       "      <td>10.00</td>\n",
       "      <td>1.520</td>\n",
       "      <td>0.0222</td>\n",
       "      <td>0.006000</td>\n",
       "      <td>2.0</td>\n",
       "      <td>1.44300</td>\n",
       "      <td>0.00000</td>\n",
       "    </tr>\n",
       "    <tr>\n",
       "      <th>3</th>\n",
       "      <td>478.0</td>\n",
       "      <td>7.86</td>\n",
       "      <td>0.357</td>\n",
       "      <td>5.36</td>\n",
       "      <td>0.499</td>\n",
       "      <td>0.0286</td>\n",
       "      <td>0.000643</td>\n",
       "      <td>2.0</td>\n",
       "      <td>9.66070</td>\n",
       "      <td>0.00044</td>\n",
       "    </tr>\n",
       "    <tr>\n",
       "      <th>4</th>\n",
       "      <td>536.0</td>\n",
       "      <td>50.00</td>\n",
       "      <td>1.000</td>\n",
       "      <td>7.00</td>\n",
       "      <td>0.000</td>\n",
       "      <td>0.0000</td>\n",
       "      <td>0.000000</td>\n",
       "      <td>2.0</td>\n",
       "      <td>7.00000</td>\n",
       "      <td>0.00000</td>\n",
       "    </tr>\n",
       "  </tbody>\n",
       "</table>\n",
       "</div>"
      ],
      "text/plain": [
       "   energy_100g  carbohydrates_100g  fiber_100g  proteins_100g  salt_100g  \\\n",
       "0       1255.0               83.33      10.000           0.00      0.000   \n",
       "1       1090.0               38.70       2.000           3.33      0.647   \n",
       "2       1160.0               53.30       2.220          10.00      1.520   \n",
       "3        478.0                7.86       0.357           5.36      0.499   \n",
       "4        536.0               50.00       1.000           7.00      0.000   \n",
       "\n",
       "   calcium_100g  iron_100g  nutrition-score-fr_100g       fat  vitamins  \n",
       "0        0.0000   0.000000                      3.0   0.00000   0.00000  \n",
       "1        0.0133   0.000480                      3.0  13.37233   0.00160  \n",
       "2        0.0222   0.006000                      2.0   1.44300   0.00000  \n",
       "3        0.0286   0.000643                      2.0   9.66070   0.00044  \n",
       "4        0.0000   0.000000                      2.0   7.00000   0.00000  "
      ]
     },
     "execution_count": 123,
     "metadata": {},
     "output_type": "execute_result"
    }
   ],
   "source": [
    "new_file.head()"
   ]
  },
  {
   "cell_type": "code",
   "execution_count": 124,
   "metadata": {
    "Collapsed": "false"
   },
   "outputs": [],
   "source": [
    "#Split the data into train and test in 70% and 30% proportion respectively. \n",
    "\n",
    "split_ratio = 0.3\n",
    "y = new_file['nutrition-score-fr_100g'] # specify the target variable (dependent variable) as y\n",
    "X = new_file.drop(columns=['nutrition-score-fr_100g'])\n",
    "\n",
    "X_train, X_test, y_train, y_test = train_test_split(X, y, test_size=split_ratio)\n"
   ]
  },
  {
   "cell_type": "markdown",
   "metadata": {},
   "source": [
    "We decided to use 70:30 because we felt the data is large enough to be sufficiently divided into train and test without having ridiculously small test dataset. "
   ]
  },
  {
   "cell_type": "code",
   "execution_count": 125,
   "metadata": {},
   "outputs": [
    {
     "name": "stdout",
     "output_type": "stream",
     "text": [
      "(2351, 9)\n",
      "(2351,)\n",
      "(1008, 9)\n",
      "(1008,)\n"
     ]
    }
   ],
   "source": [
    "#Print the outcome of the train-test splitting \n",
    "print(X_train.shape)\n",
    "print(y_train.shape)\n",
    "print(X_test.shape)\n",
    "print(y_test.shape)"
   ]
  },
  {
   "cell_type": "markdown",
   "metadata": {
    "Collapsed": "false"
   },
   "source": [
    "## 5. Model Training ##"
   ]
  },
  {
   "cell_type": "markdown",
   "metadata": {},
   "source": [
    "### 5.1 1st Decision Tree and Model 1 (Single Decision Tree)"
   ]
  },
  {
   "cell_type": "code",
   "execution_count": 126,
   "metadata": {},
   "outputs": [],
   "source": [
    "# Define the tree to use.\n",
    "dtc1 = tree.DecisionTreeClassifier()"
   ]
  },
  {
   "cell_type": "markdown",
   "metadata": {},
   "source": [
    "##### Motivation for choosing this model "
   ]
  },
  {
   "cell_type": "markdown",
   "metadata": {},
   "source": [
    "We decided to use this model because it is a classification problem and decision tree is one of the ways to tackle this problem.The decision Tree classifier was considered as an appropraite model for this research because it works well with data that requires less feature engineering. Also, the data handles data without missing data well."
   ]
  },
  {
   "cell_type": "code",
   "execution_count": 127,
   "metadata": {},
   "outputs": [],
   "source": [
    "#Build the first model \n",
    "model1 = dtc1.fit(X_train, y_train)"
   ]
  },
  {
   "cell_type": "code",
   "execution_count": 128,
   "metadata": {},
   "outputs": [],
   "source": [
    "#Create a prediction for the model \n",
    "prediction1 = model1.predict(X_test)"
   ]
  },
  {
   "cell_type": "code",
   "execution_count": 129,
   "metadata": {},
   "outputs": [
    {
     "data": {
      "text/plain": [
       "Text(0, 0.5, 'Predictions')"
      ]
     },
     "execution_count": 129,
     "metadata": {},
     "output_type": "execute_result"
    },
    {
     "data": {
      "image/png": "[encoded data removed]",
      "text/plain": [
       "<Figure size 432x288 with 1 Axes>"
      ]
     },
     "metadata": {
      "needs_background": "light"
     },
     "output_type": "display_data"
    }
   ],
   "source": [
    "#Visualisation of the model \n",
    "plt.scatter(y_test, prediction1)\n",
    "plt.xlabel(\"True Values\")\n",
    "plt.ylabel(\"Predictions\")"
   ]
  },
  {
   "cell_type": "code",
   "execution_count": 131,
   "metadata": {},
   "outputs": [
    {
     "data": {
      "image/png": "[encoded data removed]",
      "text/plain": [
       "<Figure size 432x288 with 2 Axes>"
      ]
     },
     "metadata": {
      "needs_background": "light"
     },
     "output_type": "display_data"
    }
   ],
   "source": [
    "# As you can see, for binary categorical values the visualization does not bring much information, \n",
    "# hence we pick a confusion matrix. Visualize the confusion matrix\n",
    "disp = plot_confusion_matrix(model1, X_test, y_test,\n",
    "                             cmap=plt.cm.Blues,\n",
    "                             normalize=None)\n",
    "plt.show()"
   ]
  },
  {
   "cell_type": "markdown",
   "metadata": {},
   "source": [
    "The model shows many food products with positive nutrients. That is 265 under the category 2. The second category is 5 which represents the most negtaive nutrients. "
   ]
  },
  {
   "cell_type": "code",
   "execution_count": 130,
   "metadata": {},
   "outputs": [
    {
     "data": {
      "image/png": "[encoded data removed]",
      "text/plain": [
       "<Figure size 432x288 with 2 Axes>"
      ]
     },
     "metadata": {
      "needs_background": "light"
     },
     "output_type": "display_data"
    }
   ],
   "source": [
    "# Visualisation of the confusion matrix to test the accuracy of the model \n",
    "disp = plot_confusion_matrix(model1, X_test, y_test,\n",
    "                             cmap=plt.cm.Blues, \n",
    "                             normalize='true')\n",
    "\n",
    "plt.title('Confusion Matrix')\n",
    "plt.grid(False)\n",
    "plt.show()"
   ]
  },
  {
   "cell_type": "markdown",
   "metadata": {},
   "source": [
    "##### Result Interpertation "
   ]
  },
  {
   "cell_type": "markdown",
   "metadata": {},
   "source": [
    "Similarly to the interpretation above, the model performs best in the category 2 which represents most positive nutrients, next to that is category 5 which represents most negative nutrient while it performs least on the category 3 which is also part of positive nutrients. "
   ]
  },
  {
   "cell_type": "code",
   "execution_count": 174,
   "metadata": {},
   "outputs": [
    {
     "data": {
      "text/plain": [
       "[Text(173.49379750844594, 211.04470588235293, 'X[7] <= 12.887\\ngini = 0.743\\nsamples = 2351\\nvalue = [650, 440, 690, 571]'),\n",
       " Text(92.37554898648648, 198.25411764705882, 'X[4] <= 1.434\\ngini = 0.598\\nsamples = 1092\\nvalue = [600, 306, 158, 28]'),\n",
       " Text(56.18488175675675, 185.4635294117647, 'X[0] <= 425.0\\ngini = 0.513\\nsamples = 918\\nvalue = [592, 229, 83, 14]'),\n",
       " Text(28.4027027027027, 172.6729411764706, 'X[4] <= 0.873\\ngini = 0.368\\nsamples = 466\\nvalue = [363, 69, 25, 9]'),\n",
       " Text(18.599999999999998, 159.88235294117646, 'X[3] <= 0.515\\ngini = 0.315\\nsamples = 404\\nvalue = [331, 40, 24, 9]'),\n",
       " Text(11.05945945945946, 147.09176470588235, 'X[2] <= 0.5\\ngini = 0.583\\nsamples = 101\\nvalue = [60, 18, 17, 6]'),\n",
       " Text(10.054054054054053, 134.30117647058825, 'X[0] <= 4.0\\ngini = 0.716\\nsamples = 62\\nvalue = [21, 18, 17, 6]'),\n",
       " Text(9.048648648648648, 121.51058823529411, 'gini = 0.0\\nsamples = 7\\nvalue = [7, 0, 0, 0]'),\n",
       " Text(11.05945945945946, 121.51058823529411, 'X[0] <= 230.0\\ngini = 0.721\\nsamples = 55\\nvalue = [14, 18, 17, 6]'),\n",
       " Text(6.032432432432432, 108.72, 'X[1] <= 10.21\\ngini = 0.631\\nsamples = 34\\nvalue = [7, 11, 16, 0]'),\n",
       " Text(4.021621621621621, 95.92941176470588, 'X[0] <= 157.0\\ngini = 0.595\\nsamples = 17\\nvalue = [7, 8, 2, 0]'),\n",
       " Text(3.016216216216216, 83.13882352941175, 'X[1] <= 8.02\\ngini = 0.5\\nsamples = 12\\nvalue = [2, 8, 2, 0]'),\n",
       " Text(2.0108108108108107, 70.34823529411764, 'X[7] <= 0.001\\ngini = 0.32\\nsamples = 10\\nvalue = [2, 8, 0, 0]'),\n",
       " Text(1.0054054054054054, 57.557647058823534, 'gini = 0.0\\nsamples = 8\\nvalue = [0, 8, 0, 0]'),\n",
       " Text(3.016216216216216, 57.557647058823534, 'gini = 0.0\\nsamples = 2\\nvalue = [2, 0, 0, 0]'),\n",
       " Text(4.021621621621621, 70.34823529411764, 'gini = 0.0\\nsamples = 2\\nvalue = [0, 0, 2, 0]'),\n",
       " Text(5.027027027027026, 83.13882352941175, 'gini = 0.0\\nsamples = 5\\nvalue = [5, 0, 0, 0]'),\n",
       " Text(8.043243243243243, 95.92941176470588, 'X[8] <= 0.0\\ngini = 0.291\\nsamples = 17\\nvalue = [0, 3, 14, 0]'),\n",
       " Text(7.037837837837838, 83.13882352941175, 'X[4] <= 0.033\\ngini = 0.5\\nsamples = 6\\nvalue = [0, 3, 3, 0]'),\n",
       " Text(6.032432432432432, 70.34823529411764, 'gini = 0.0\\nsamples = 2\\nvalue = [0, 0, 2, 0]'),\n",
       " Text(8.043243243243243, 70.34823529411764, 'X[6] <= 0.0\\ngini = 0.375\\nsamples = 4\\nvalue = [0, 3, 1, 0]'),\n",
       " Text(7.037837837837838, 57.557647058823534, 'gini = 0.0\\nsamples = 3\\nvalue = [0, 3, 0, 0]'),\n",
       " Text(9.048648648648648, 57.557647058823534, 'gini = 0.0\\nsamples = 1\\nvalue = [0, 0, 1, 0]'),\n",
       " Text(9.048648648648648, 83.13882352941175, 'gini = 0.0\\nsamples = 11\\nvalue = [0, 0, 11, 0]'),\n",
       " Text(16.086486486486486, 108.72, 'X[1] <= 17.495\\ngini = 0.694\\nsamples = 21\\nvalue = [7, 7, 1, 6]'),\n",
       " Text(15.08108108108108, 95.92941176470588, 'X[4] <= 0.022\\ngini = 0.648\\nsamples = 16\\nvalue = [7, 2, 1, 6]'),\n",
       " Text(13.070270270270269, 83.13882352941175, 'X[3] <= 0.06\\ngini = 0.46\\nsamples = 10\\nvalue = [7, 1, 0, 2]'),\n",
       " Text(12.064864864864864, 70.34823529411764, 'X[8] <= 0.0\\ngini = 0.37\\nsamples = 9\\nvalue = [7, 1, 0, 1]'),\n",
       " Text(11.05945945945946, 57.557647058823534, 'X[1] <= 10.835\\ngini = 0.625\\nsamples = 4\\nvalue = [2, 1, 0, 1]'),\n",
       " Text(10.054054054054053, 44.767058823529396, 'gini = 0.0\\nsamples = 2\\nvalue = [2, 0, 0, 0]'),\n",
       " Text(12.064864864864864, 44.767058823529396, 'X[1] <= 15.19\\ngini = 0.5\\nsamples = 2\\nvalue = [0, 1, 0, 1]'),\n",
       " Text(11.05945945945946, 31.976470588235287, 'gini = 0.0\\nsamples = 1\\nvalue = [0, 0, 0, 1]'),\n",
       " Text(13.070270270270269, 31.976470588235287, 'gini = 0.0\\nsamples = 1\\nvalue = [0, 1, 0, 0]'),\n",
       " Text(13.070270270270269, 57.557647058823534, 'gini = 0.0\\nsamples = 5\\nvalue = [5, 0, 0, 0]'),\n",
       " Text(14.075675675675676, 70.34823529411764, 'gini = 0.0\\nsamples = 1\\nvalue = [0, 0, 0, 1]'),\n",
       " Text(17.09189189189189, 83.13882352941175, 'X[8] <= 0.015\\ngini = 0.5\\nsamples = 6\\nvalue = [0, 1, 1, 4]'),\n",
       " Text(16.086486486486486, 70.34823529411764, 'gini = 0.0\\nsamples = 1\\nvalue = [0, 1, 0, 0]'),\n",
       " Text(18.097297297297295, 70.34823529411764, 'X[1] <= 16.25\\ngini = 0.32\\nsamples = 5\\nvalue = [0, 0, 1, 4]'),\n",
       " Text(17.09189189189189, 57.557647058823534, 'gini = 0.0\\nsamples = 3\\nvalue = [0, 0, 0, 3]'),\n",
       " Text(19.1027027027027, 57.557647058823534, 'X[4] <= 0.031\\ngini = 0.5\\nsamples = 2\\nvalue = [0, 0, 1, 1]'),\n",
       " Text(18.097297297297295, 44.767058823529396, 'gini = 0.0\\nsamples = 1\\nvalue = [0, 0, 0, 1]'),\n",
       " Text(20.108108108108105, 44.767058823529396, 'gini = 0.0\\nsamples = 1\\nvalue = [0, 0, 1, 0]'),\n",
       " Text(17.09189189189189, 95.92941176470588, 'gini = 0.0\\nsamples = 5\\nvalue = [0, 5, 0, 0]'),\n",
       " Text(12.064864864864864, 134.30117647058825, 'gini = 0.0\\nsamples = 39\\nvalue = [39, 0, 0, 0]'),\n",
       " Text(26.140540540540538, 147.09176470588235, 'X[8] <= 0.018\\ngini = 0.194\\nsamples = 303\\nvalue = [271, 22, 7, 3]'),\n",
       " Text(22.11891891891892, 134.30117647058825, 'X[7] <= 9.292\\ngini = 0.13\\nsamples = 263\\nvalue = [245, 13, 2, 3]'),\n",
       " Text(21.113513513513514, 121.51058823529411, 'X[7] <= 1.021\\ngini = 0.117\\nsamples = 261\\nvalue = [245, 11, 2, 3]'),\n",
       " Text(20.108108108108105, 108.72, 'gini = 0.0\\nsamples = 142\\nvalue = [142, 0, 0, 0]'),\n",
       " Text(22.11891891891892, 108.72, 'X[0] <= 144.0\\ngini = 0.241\\nsamples = 119\\nvalue = [103, 11, 2, 3]'),\n",
       " Text(20.108108108108105, 95.92941176470588, 'X[0] <= 140.0\\ngini = 0.219\\nsamples = 8\\nvalue = [1, 7, 0, 0]'),\n",
       " Text(19.1027027027027, 83.13882352941175, 'gini = 0.0\\nsamples = 6\\nvalue = [0, 6, 0, 0]'),\n",
       " Text(21.113513513513514, 83.13882352941175, 'X[1] <= 2.87\\ngini = 0.5\\nsamples = 2\\nvalue = [1, 1, 0, 0]'),\n",
       " Text(20.108108108108105, 70.34823529411764, 'gini = 0.0\\nsamples = 1\\nvalue = [1, 0, 0, 0]'),\n",
       " Text(22.11891891891892, 70.34823529411764, 'gini = 0.0\\nsamples = 1\\nvalue = [0, 1, 0, 0]'),\n",
       " Text(24.12972972972973, 95.92941176470588, 'X[3] <= 1.005\\ngini = 0.153\\nsamples = 111\\nvalue = [102, 4, 2, 3]'),\n",
       " Text(23.124324324324323, 83.13882352941175, 'gini = 0.0\\nsamples = 2\\nvalue = [0, 0, 2, 0]'),\n",
       " Text(25.135135135135133, 83.13882352941175, 'X[2] <= 0.2\\ngini = 0.122\\nsamples = 109\\nvalue = [102, 4, 0, 3]'),\n",
       " Text(24.12972972972973, 70.34823529411764, 'gini = 0.0\\nsamples = 65\\nvalue = [65, 0, 0, 0]'),\n",
       " Text(26.140540540540538, 70.34823529411764, 'X[2] <= 1.45\\ngini = 0.28\\nsamples = 44\\nvalue = [37, 4, 0, 3]'),\n",
       " Text(25.135135135135133, 57.557647058823534, 'X[7] <= 2.575\\ngini = 0.469\\nsamples = 23\\nvalue = [16, 4, 0, 3]'),\n",
       " Text(22.62162162162162, 44.767058823529396, 'X[7] <= 1.969\\ngini = 0.355\\nsamples = 13\\nvalue = [10, 0, 0, 3]'),\n",
       " Text(21.616216216216216, 31.976470588235287, 'X[6] <= 0.0\\ngini = 0.18\\nsamples = 10\\nvalue = [9, 0, 0, 1]'),\n",
       " Text(20.61081081081081, 19.185882352941178, 'X[0] <= 366.0\\ngini = 0.375\\nsamples = 4\\nvalue = [3, 0, 0, 1]'),\n",
       " Text(19.605405405405403, 6.39529411764704, 'gini = 0.444\\nsamples = 3\\nvalue = [2, 0, 0, 1]'),\n",
       " Text(21.616216216216216, 6.39529411764704, 'gini = 0.0\\nsamples = 1\\nvalue = [1, 0, 0, 0]'),\n",
       " Text(22.62162162162162, 19.185882352941178, 'gini = 0.0\\nsamples = 6\\nvalue = [6, 0, 0, 0]'),\n",
       " Text(23.627027027027026, 31.976470588235287, 'gini = 0.444\\nsamples = 3\\nvalue = [1, 0, 0, 2]'),\n",
       " Text(27.648648648648646, 44.767058823529396, 'X[0] <= 338.5\\ngini = 0.48\\nsamples = 10\\nvalue = [6, 4, 0, 0]'),\n",
       " Text(25.637837837837836, 31.976470588235287, 'X[4] <= 0.674\\ngini = 0.375\\nsamples = 4\\nvalue = [1, 3, 0, 0]'),\n",
       " Text(24.63243243243243, 19.185882352941178, 'gini = 0.0\\nsamples = 1\\nvalue = [1, 0, 0, 0]'),\n",
       " Text(26.64324324324324, 19.185882352941178, 'gini = 0.0\\nsamples = 3\\nvalue = [0, 3, 0, 0]'),\n",
       " Text(29.65945945945946, 31.976470588235287, 'X[7] <= 4.013\\ngini = 0.278\\nsamples = 6\\nvalue = [5, 1, 0, 0]'),\n",
       " Text(28.654054054054054, 19.185882352941178, 'gini = 0.0\\nsamples = 1\\nvalue = [0, 1, 0, 0]'),\n",
       " Text(30.664864864864864, 19.185882352941178, 'gini = 0.0\\nsamples = 5\\nvalue = [5, 0, 0, 0]'),\n",
       " Text(27.145945945945943, 57.557647058823534, 'gini = 0.0\\nsamples = 21\\nvalue = [21, 0, 0, 0]'),\n",
       " Text(23.124324324324323, 121.51058823529411, 'gini = 0.0\\nsamples = 2\\nvalue = [0, 2, 0, 0]'),\n",
       " Text(30.16216216216216, 134.30117647058825, 'X[2] <= 1.6\\ngini = 0.511\\nsamples = 40\\nvalue = [26, 9, 5, 0]'),\n",
       " Text(29.156756756756756, 121.51058823529411, 'X[4] <= 0.075\\ngini = 0.623\\nsamples = 18\\nvalue = [4, 9, 5, 0]'),\n",
       " Text(27.145945945945943, 108.72, 'X[0] <= 163.5\\ngini = 0.49\\nsamples = 7\\nvalue = [3, 0, 4, 0]'),\n",
       " Text(26.140540540540538, 95.92941176470588, 'gini = 0.0\\nsamples = 3\\nvalue = [3, 0, 0, 0]'),\n",
       " Text(28.15135135135135, 95.92941176470588, 'gini = 0.0\\nsamples = 4\\nvalue = [0, 0, 4, 0]'),\n",
       " Text(31.167567567567566, 108.72, 'X[5] <= 0.004\\ngini = 0.314\\nsamples = 11\\nvalue = [1, 9, 1, 0]'),\n",
       " Text(30.16216216216216, 95.92941176470588, 'gini = 0.0\\nsamples = 1\\nvalue = [1, 0, 0, 0]'),\n",
       " Text(32.17297297297297, 95.92941176470588, 'X[8] <= 0.019\\ngini = 0.18\\nsamples = 10\\nvalue = [0, 9, 1, 0]'),\n",
       " Text(31.167567567567566, 83.13882352941175, 'gini = 0.0\\nsamples = 1\\nvalue = [0, 0, 1, 0]'),\n",
       " Text(33.178378378378376, 83.13882352941175, 'gini = 0.0\\nsamples = 9\\nvalue = [0, 9, 0, 0]'),\n",
       " Text(31.167567567567566, 121.51058823529411, 'gini = 0.0\\nsamples = 22\\nvalue = [22, 0, 0, 0]'),\n",
       " Text(38.2054054054054, 159.88235294117646, 'X[3] <= 1.635\\ngini = 0.515\\nsamples = 62\\nvalue = [32, 29, 1, 0]'),\n",
       " Text(35.189189189189186, 147.09176470588235, 'X[2] <= 2.0\\ngini = 0.311\\nsamples = 26\\nvalue = [5, 21, 0, 0]'),\n",
       " Text(34.18378378378378, 134.30117647058825, 'X[1] <= 11.265\\ngini = 0.087\\nsamples = 22\\nvalue = [1, 21, 0, 0]'),\n",
       " Text(33.178378378378376, 121.51058823529411, 'gini = 0.0\\nsamples = 20\\nvalue = [0, 20, 0, 0]'),\n",
       " Text(35.189189189189186, 121.51058823529411, 'X[0] <= 267.5\\ngini = 0.5\\nsamples = 2\\nvalue = [1, 1, 0, 0]'),\n",
       " Text(34.18378378378378, 108.72, 'gini = 0.0\\nsamples = 1\\nvalue = [1, 0, 0, 0]'),\n",
       " Text(36.19459459459459, 108.72, 'gini = 0.0\\nsamples = 1\\nvalue = [0, 1, 0, 0]'),\n",
       " Text(36.19459459459459, 134.30117647058825, 'gini = 0.0\\nsamples = 4\\nvalue = [4, 0, 0, 0]'),\n",
       " Text(41.22162162162162, 147.09176470588235, 'X[7] <= 3.627\\ngini = 0.387\\nsamples = 36\\nvalue = [27, 8, 1, 0]'),\n",
       " Text(38.2054054054054, 134.30117647058825, 'X[4] <= 1.228\\ngini = 0.198\\nsamples = 27\\nvalue = [24, 3, 0, 0]'),\n",
       " Text(37.199999999999996, 121.51058823529411, 'gini = 0.0\\nsamples = 22\\nvalue = [22, 0, 0, 0]'),\n",
       " Text(39.210810810810806, 121.51058823529411, 'X[3] <= 4.74\\ngini = 0.48\\nsamples = 5\\nvalue = [2, 3, 0, 0]'),\n",
       " Text(38.2054054054054, 108.72, 'gini = 0.0\\nsamples = 3\\nvalue = [0, 3, 0, 0]'),\n",
       " Text(40.21621621621621, 108.72, 'gini = 0.0\\nsamples = 2\\nvalue = [2, 0, 0, 0]'),\n",
       " Text(44.23783783783784, 134.30117647058825, 'X[3] <= 5.305\\ngini = 0.568\\nsamples = 9\\nvalue = [3, 5, 1, 0]'),\n",
       " Text(43.23243243243243, 121.51058823529411, 'X[6] <= 0.001\\ngini = 0.278\\nsamples = 6\\nvalue = [0, 5, 1, 0]'),\n",
       " Text(42.22702702702703, 108.72, 'gini = 0.0\\nsamples = 5\\nvalue = [0, 5, 0, 0]'),\n",
       " Text(44.23783783783784, 108.72, 'gini = 0.0\\nsamples = 1\\nvalue = [0, 0, 1, 0]'),\n",
       " Text(45.24324324324324, 121.51058823529411, 'gini = 0.0\\nsamples = 3\\nvalue = [3, 0, 0, 0]'),\n",
       " Text(83.9670608108108, 172.6729411764706, 'X[3] <= 6.91\\ngini = 0.601\\nsamples = 452\\nvalue = [229, 160, 58, 5]'),\n",
       " Text(66.7652027027027, 159.88235294117646, 'X[1] <= 42.22\\ngini = 0.598\\nsamples = 229\\nvalue = [51, 126, 51, 1]'),\n",
       " Text(55.548648648648644, 147.09176470588235, 'X[2] <= 1.25\\ngini = 0.422\\nsamples = 122\\nvalue = [32, 87, 3, 0]'),\n",
       " Text(50.27027027027027, 134.30117647058825, 'X[6] <= 0.001\\ngini = 0.24\\nsamples = 81\\nvalue = [9, 70, 2, 0]'),\n",
       " Text(47.25405405405405, 121.51058823529411, 'X[3] <= 4.205\\ngini = 0.114\\nsamples = 67\\nvalue = [2, 63, 2, 0]'),\n",
       " Text(46.24864864864865, 108.72, 'gini = 0.0\\nsamples = 49\\nvalue = [0, 49, 0, 0]'),\n",
       " Text(48.25945945945946, 108.72, 'X[1] <= 31.845\\ngini = 0.37\\nsamples = 18\\nvalue = [2, 14, 2, 0]'),\n",
       " Text(47.25405405405405, 95.92941176470588, 'X[0] <= 435.5\\ngini = 0.219\\nsamples = 16\\nvalue = [2, 14, 0, 0]'),\n",
       " Text(46.24864864864865, 83.13882352941175, 'gini = 0.0\\nsamples = 1\\nvalue = [1, 0, 0, 0]'),\n",
       " Text(48.25945945945946, 83.13882352941175, 'X[5] <= 0.251\\ngini = 0.124\\nsamples = 15\\nvalue = [1, 14, 0, 0]'),\n",
       " Text(47.25405405405405, 70.34823529411764, 'gini = 0.0\\nsamples = 14\\nvalue = [0, 14, 0, 0]'),\n",
       " Text(49.26486486486486, 70.34823529411764, 'gini = 0.0\\nsamples = 1\\nvalue = [1, 0, 0, 0]'),\n",
       " Text(49.26486486486486, 95.92941176470588, 'gini = 0.0\\nsamples = 2\\nvalue = [0, 0, 2, 0]'),\n",
       " Text(53.28648648648648, 121.51058823529411, 'X[5] <= 0.032\\ngini = 0.5\\nsamples = 14\\nvalue = [7, 7, 0, 0]'),\n",
       " Text(52.281081081081076, 108.72, 'X[5] <= 0.007\\ngini = 0.346\\nsamples = 9\\nvalue = [7, 2, 0, 0]'),\n",
       " Text(51.27567567567567, 95.92941176470588, 'gini = 0.0\\nsamples = 2\\nvalue = [0, 2, 0, 0]'),\n",
       " Text(53.28648648648648, 95.92941176470588, 'gini = 0.0\\nsamples = 7\\nvalue = [7, 0, 0, 0]'),\n",
       " Text(54.291891891891886, 108.72, 'gini = 0.0\\nsamples = 5\\nvalue = [0, 5, 0, 0]'),\n",
       " Text(60.82702702702702, 134.30117647058825, 'X[7] <= 11.732\\ngini = 0.513\\nsamples = 41\\nvalue = [23, 17, 1, 0]'),\n",
       " Text(58.31351351351351, 121.51058823529411, 'X[3] <= 2.3\\ngini = 0.422\\nsamples = 33\\nvalue = [23, 10, 0, 0]'),\n",
       " Text(56.3027027027027, 108.72, 'X[8] <= 0.03\\ngini = 0.459\\nsamples = 14\\nvalue = [5, 9, 0, 0]'),\n",
       " Text(55.29729729729729, 95.92941176470588, 'X[1] <= 16.07\\ngini = 0.375\\nsamples = 12\\nvalue = [3, 9, 0, 0]'),\n",
       " Text(54.291891891891886, 83.13882352941175, 'X[2] <= 1.9\\ngini = 0.48\\nsamples = 5\\nvalue = [3, 2, 0, 0]'),\n",
       " Text(53.28648648648648, 70.34823529411764, 'gini = 0.0\\nsamples = 2\\nvalue = [0, 2, 0, 0]'),\n",
       " Text(55.29729729729729, 70.34823529411764, 'gini = 0.0\\nsamples = 3\\nvalue = [3, 0, 0, 0]'),\n",
       " Text(56.3027027027027, 83.13882352941175, 'gini = 0.0\\nsamples = 7\\nvalue = [0, 7, 0, 0]'),\n",
       " Text(57.30810810810811, 95.92941176470588, 'gini = 0.0\\nsamples = 2\\nvalue = [2, 0, 0, 0]'),\n",
       " Text(60.32432432432432, 108.72, 'X[0] <= 826.5\\ngini = 0.1\\nsamples = 19\\nvalue = [18, 1, 0, 0]'),\n",
       " Text(59.31891891891892, 95.92941176470588, 'gini = 0.0\\nsamples = 17\\nvalue = [17, 0, 0, 0]'),\n",
       " Text(61.32972972972973, 95.92941176470588, 'X[7] <= 10.407\\ngini = 0.5\\nsamples = 2\\nvalue = [1, 1, 0, 0]'),\n",
       " Text(60.32432432432432, 83.13882352941175, 'gini = 0.0\\nsamples = 1\\nvalue = [1, 0, 0, 0]'),\n",
       " Text(62.33513513513513, 83.13882352941175, 'gini = 0.0\\nsamples = 1\\nvalue = [0, 1, 0, 0]'),\n",
       " Text(63.34054054054054, 121.51058823529411, 'X[1] <= 33.675\\ngini = 0.219\\nsamples = 8\\nvalue = [0, 7, 1, 0]'),\n",
       " Text(62.33513513513513, 108.72, 'gini = 0.0\\nsamples = 7\\nvalue = [0, 7, 0, 0]'),\n",
       " Text(64.34594594594594, 108.72, 'gini = 0.0\\nsamples = 1\\nvalue = [0, 0, 1, 0]'),\n",
       " Text(77.98175675675675, 147.09176470588235, 'X[2] <= 4.1\\ngini = 0.634\\nsamples = 107\\nvalue = [19, 39, 48, 1]'),\n",
       " Text(73.01756756756757, 134.30117647058825, 'X[0] <= 1835.0\\ngini = 0.511\\nsamples = 73\\nvalue = [6, 19, 47, 1]'),\n",
       " Text(72.01216216216216, 121.51058823529411, 'X[3] <= 6.54\\ngini = 0.472\\nsamples = 68\\nvalue = [6, 14, 47, 1]'),\n",
       " Text(68.11621621621622, 108.72, 'X[0] <= 886.5\\ngini = 0.367\\nsamples = 58\\nvalue = [2, 10, 45, 1]'),\n",
       " Text(65.35135135135135, 95.92941176470588, 'X[3] <= 0.685\\ngini = 0.494\\nsamples = 9\\nvalue = [0, 5, 4, 0]'),\n",
       " Text(64.34594594594594, 83.13882352941175, 'X[4] <= 0.035\\ngini = 0.32\\nsamples = 5\\nvalue = [0, 1, 4, 0]'),\n",
       " Text(63.34054054054054, 70.34823529411764, 'gini = 0.0\\nsamples = 1\\nvalue = [0, 1, 0, 0]'),\n",
       " Text(65.35135135135135, 70.34823529411764, 'gini = 0.0\\nsamples = 4\\nvalue = [0, 0, 4, 0]'),\n",
       " Text(66.35675675675675, 83.13882352941175, 'gini = 0.0\\nsamples = 4\\nvalue = [0, 4, 0, 0]'),\n",
       " Text(70.88108108108108, 95.92941176470588, 'X[6] <= 0.023\\ngini = 0.287\\nsamples = 49\\nvalue = [2, 5, 41, 1]'),\n",
       " Text(69.87567567567567, 83.13882352941175, 'X[4] <= 0.216\\ngini = 0.261\\nsamples = 48\\nvalue = [2, 4, 41, 1]'),\n",
       " Text(67.36216216216216, 70.34823529411764, 'X[6] <= 0.0\\ngini = 0.39\\nsamples = 25\\nvalue = [2, 4, 19, 0]'),\n",
       " Text(65.35135135135135, 57.557647058823534, 'X[2] <= 1.45\\ngini = 0.177\\nsamples = 21\\nvalue = [1, 1, 19, 0]'),\n",
       " Text(64.34594594594594, 44.767058823529396, 'X[0] <= 1441.5\\ngini = 0.095\\nsamples = 20\\nvalue = [1, 0, 19, 0]'),\n",
       " Text(63.34054054054054, 31.976470588235287, 'gini = 0.0\\nsamples = 15\\nvalue = [0, 0, 15, 0]'),\n",
       " Text(65.35135135135135, 31.976470588235287, 'X[3] <= 2.22\\ngini = 0.32\\nsamples = 5\\nvalue = [1, 0, 4, 0]'),\n",
       " Text(64.34594594594594, 19.185882352941178, 'gini = 0.0\\nsamples = 4\\nvalue = [0, 0, 4, 0]'),\n",
       " Text(66.35675675675675, 19.185882352941178, 'gini = 0.0\\nsamples = 1\\nvalue = [1, 0, 0, 0]'),\n",
       " Text(66.35675675675675, 44.767058823529396, 'gini = 0.0\\nsamples = 1\\nvalue = [0, 1, 0, 0]'),\n",
       " Text(69.37297297297297, 57.557647058823534, 'X[1] <= 76.43\\ngini = 0.375\\nsamples = 4\\nvalue = [1, 3, 0, 0]'),\n",
       " Text(68.36756756756756, 44.767058823529396, 'gini = 0.0\\nsamples = 3\\nvalue = [0, 3, 0, 0]'),\n",
       " Text(70.37837837837837, 44.767058823529396, 'gini = 0.0\\nsamples = 1\\nvalue = [1, 0, 0, 0]'),\n",
       " Text(72.38918918918918, 70.34823529411764, 'X[1] <= 92.825\\ngini = 0.083\\nsamples = 23\\nvalue = [0, 0, 22, 1]'),\n",
       " Text(71.38378378378378, 57.557647058823534, 'gini = 0.0\\nsamples = 22\\nvalue = [0, 0, 22, 0]'),\n",
       " Text(73.3945945945946, 57.557647058823534, 'gini = 0.0\\nsamples = 1\\nvalue = [0, 0, 0, 1]'),\n",
       " Text(71.88648648648648, 83.13882352941175, 'gini = 0.0\\nsamples = 1\\nvalue = [0, 1, 0, 0]'),\n",
       " Text(75.90810810810811, 108.72, 'X[7] <= 7.31\\ngini = 0.64\\nsamples = 10\\nvalue = [4, 4, 2, 0]'),\n",
       " Text(74.9027027027027, 95.92941176470588, 'X[4] <= 0.271\\ngini = 0.5\\nsamples = 8\\nvalue = [4, 4, 0, 0]'),\n",
       " Text(73.8972972972973, 83.13882352941175, 'gini = 0.0\\nsamples = 3\\nvalue = [3, 0, 0, 0]'),\n",
       " Text(75.90810810810811, 83.13882352941175, 'X[2] <= 3.35\\ngini = 0.32\\nsamples = 5\\nvalue = [1, 4, 0, 0]'),\n",
       " Text(74.9027027027027, 70.34823529411764, 'gini = 0.0\\nsamples = 4\\nvalue = [0, 4, 0, 0]'),\n",
       " Text(76.91351351351351, 70.34823529411764, 'gini = 0.0\\nsamples = 1\\nvalue = [1, 0, 0, 0]'),\n",
       " Text(76.91351351351351, 95.92941176470588, 'gini = 0.0\\nsamples = 2\\nvalue = [0, 0, 2, 0]'),\n",
       " Text(74.02297297297297, 121.51058823529411, 'gini = 0.0\\nsamples = 5\\nvalue = [0, 5, 0, 0]'),\n",
       " Text(82.94594594594594, 134.30117647058825, 'X[1] <= 61.565\\ngini = 0.507\\nsamples = 34\\nvalue = [13, 20, 1, 0]'),\n",
       " Text(81.94054054054054, 121.51058823529411, 'gini = 0.0\\nsamples = 8\\nvalue = [8, 0, 0, 0]'),\n",
       " Text(83.95135135135135, 121.51058823529411, 'X[3] <= 6.56\\ngini = 0.37\\nsamples = 26\\nvalue = [5, 20, 1, 0]'),\n",
       " Text(82.94594594594594, 108.72, 'X[8] <= 0.214\\ngini = 0.288\\nsamples = 24\\nvalue = [3, 20, 1, 0]'),\n",
       " Text(81.94054054054054, 95.92941176470588, 'X[0] <= 1299.0\\ngini = 0.234\\nsamples = 23\\nvalue = [2, 20, 1, 0]'),\n",
       " Text(79.92972972972973, 83.13882352941175, 'X[3] <= 1.25\\ngini = 0.48\\nsamples = 5\\nvalue = [2, 3, 0, 0]'),\n",
       " Text(78.92432432432432, 70.34823529411764, 'gini = 0.0\\nsamples = 3\\nvalue = [0, 3, 0, 0]'),\n",
       " Text(80.93513513513513, 70.34823529411764, 'gini = 0.0\\nsamples = 2\\nvalue = [2, 0, 0, 0]'),\n",
       " Text(83.95135135135135, 83.13882352941175, 'X[4] <= 1.072\\ngini = 0.105\\nsamples = 18\\nvalue = [0, 17, 1, 0]'),\n",
       " Text(82.94594594594594, 70.34823529411764, 'gini = 0.0\\nsamples = 16\\nvalue = [0, 16, 0, 0]'),\n",
       " Text(84.95675675675675, 70.34823529411764, 'X[4] <= 1.17\\ngini = 0.5\\nsamples = 2\\nvalue = [0, 1, 1, 0]'),\n",
       " Text(83.95135135135135, 57.557647058823534, 'gini = 0.0\\nsamples = 1\\nvalue = [0, 0, 1, 0]'),\n",
       " Text(85.96216216216216, 57.557647058823534, 'gini = 0.0\\nsamples = 1\\nvalue = [0, 1, 0, 0]'),\n",
       " Text(83.95135135135135, 95.92941176470588, 'gini = 0.0\\nsamples = 1\\nvalue = [1, 0, 0, 0]'),\n",
       " Text(84.95675675675675, 108.72, 'gini = 0.0\\nsamples = 2\\nvalue = [2, 0, 0, 0]'),\n",
       " Text(101.16891891891892, 159.88235294117646, 'X[4] <= 0.371\\ngini = 0.338\\nsamples = 223\\nvalue = [178, 34, 7, 4]'),\n",
       " Text(100.16351351351351, 147.09176470588235, 'gini = 0.0\\nsamples = 87\\nvalue = [87, 0, 0, 0]'),\n",
       " Text(102.17432432432432, 147.09176470588235, 'X[0] <= 1268.0\\ngini = 0.486\\nsamples = 136\\nvalue = [91, 34, 7, 4]'),\n",
       " Text(93.50270270270269, 134.30117647058825, 'X[2] <= 1.85\\ngini = 0.29\\nsamples = 98\\nvalue = [81, 16, 1, 0]'),\n",
       " Text(89.98378378378378, 121.51058823529411, 'X[0] <= 694.5\\ngini = 0.467\\nsamples = 38\\nvalue = [25, 12, 1, 0]'),\n",
       " Text(88.97837837837838, 108.72, 'gini = 0.0\\nsamples = 17\\nvalue = [17, 0, 0, 0]'),\n",
       " Text(90.98918918918919, 108.72, 'X[8] <= 0.003\\ngini = 0.526\\nsamples = 21\\nvalue = [8, 12, 1, 0]'),\n",
       " Text(89.98378378378378, 95.92941176470588, 'X[6] <= 0.002\\ngini = 0.555\\nsamples = 16\\nvalue = [8, 7, 1, 0]'),\n",
       " Text(87.97297297297297, 83.13882352941175, 'X[3] <= 14.885\\ngini = 0.245\\nsamples = 7\\nvalue = [6, 1, 0, 0]'),\n",
       " Text(86.96756756756756, 70.34823529411764, 'gini = 0.0\\nsamples = 6\\nvalue = [6, 0, 0, 0]'),\n",
       " Text(88.97837837837838, 70.34823529411764, 'gini = 0.0\\nsamples = 1\\nvalue = [0, 1, 0, 0]'),\n",
       " Text(91.99459459459459, 83.13882352941175, 'X[4] <= 1.123\\ngini = 0.494\\nsamples = 9\\nvalue = [2, 6, 1, 0]'),\n",
       " Text(90.98918918918919, 70.34823529411764, 'X[3] <= 8.44\\ngini = 0.444\\nsamples = 3\\nvalue = [2, 0, 1, 0]'),\n",
       " Text(89.98378378378378, 57.557647058823534, 'gini = 0.0\\nsamples = 2\\nvalue = [2, 0, 0, 0]'),\n",
       " Text(91.99459459459459, 57.557647058823534, 'gini = 0.0\\nsamples = 1\\nvalue = [0, 0, 1, 0]'),\n",
       " Text(93.0, 70.34823529411764, 'gini = 0.0\\nsamples = 6\\nvalue = [0, 6, 0, 0]'),\n",
       " Text(91.99459459459459, 95.92941176470588, 'gini = 0.0\\nsamples = 5\\nvalue = [0, 5, 0, 0]'),\n",
       " Text(97.02162162162162, 121.51058823529411, 'X[7] <= 12.419\\ngini = 0.124\\nsamples = 60\\nvalue = [56, 4, 0, 0]'),\n",
       " Text(96.01621621621621, 108.72, 'X[0] <= 1188.5\\ngini = 0.067\\nsamples = 58\\nvalue = [56, 2, 0, 0]'),\n",
       " Text(95.01081081081081, 95.92941176470588, 'gini = 0.0\\nsamples = 48\\nvalue = [48, 0, 0, 0]'),\n",
       " Text(97.02162162162162, 95.92941176470588, 'X[3] <= 9.205\\ngini = 0.32\\nsamples = 10\\nvalue = [8, 2, 0, 0]'),\n",
       " Text(96.01621621621621, 83.13882352941175, 'X[1] <= 53.98\\ngini = 0.5\\nsamples = 4\\nvalue = [2, 2, 0, 0]'),\n",
       " Text(95.01081081081081, 70.34823529411764, 'gini = 0.0\\nsamples = 1\\nvalue = [0, 1, 0, 0]'),\n",
       " Text(97.02162162162162, 70.34823529411764, 'X[2] <= 2.85\\ngini = 0.444\\nsamples = 3\\nvalue = [2, 1, 0, 0]'),\n",
       " Text(96.01621621621621, 57.557647058823534, 'gini = 0.0\\nsamples = 1\\nvalue = [0, 1, 0, 0]'),\n",
       " Text(98.02702702702702, 57.557647058823534, 'gini = 0.0\\nsamples = 2\\nvalue = [2, 0, 0, 0]'),\n",
       " Text(98.02702702702702, 83.13882352941175, 'gini = 0.0\\nsamples = 6\\nvalue = [6, 0, 0, 0]'),\n",
       " Text(98.02702702702702, 108.72, 'gini = 0.0\\nsamples = 2\\nvalue = [0, 2, 0, 0]'),\n",
       " Text(110.84594594594594, 134.30117647058825, 'X[5] <= 0.845\\ngini = 0.67\\nsamples = 38\\nvalue = [10, 18, 6, 4]'),\n",
       " Text(109.84054054054053, 121.51058823529411, 'X[1] <= 77.03\\ngini = 0.602\\nsamples = 34\\nvalue = [10, 18, 6, 0]'),\n",
       " Text(108.83513513513513, 108.72, 'X[0] <= 1621.5\\ngini = 0.647\\nsamples = 27\\nvalue = [10, 11, 6, 0]'),\n",
       " Text(104.56216216216215, 95.92941176470588, 'X[3] <= 7.765\\ngini = 0.609\\nsamples = 19\\nvalue = [4, 10, 5, 0]'),\n",
       " Text(102.04864864864864, 83.13882352941175, 'X[1] <= 59.07\\ngini = 0.5\\nsamples = 6\\nvalue = [1, 1, 4, 0]'),\n",
       " Text(101.04324324324324, 70.34823529411764, 'X[6] <= 0.003\\ngini = 0.5\\nsamples = 2\\nvalue = [1, 1, 0, 0]'),\n",
       " Text(100.03783783783783, 57.557647058823534, 'gini = 0.0\\nsamples = 1\\nvalue = [0, 1, 0, 0]'),\n",
       " Text(102.04864864864864, 57.557647058823534, 'gini = 0.0\\nsamples = 1\\nvalue = [1, 0, 0, 0]'),\n",
       " Text(103.05405405405405, 70.34823529411764, 'gini = 0.0\\nsamples = 4\\nvalue = [0, 0, 4, 0]'),\n",
       " Text(107.07567567567567, 83.13882352941175, 'X[6] <= 0.008\\ngini = 0.462\\nsamples = 13\\nvalue = [3, 9, 1, 0]'),\n",
       " Text(105.06486486486486, 70.34823529411764, 'X[6] <= 0.002\\ngini = 0.34\\nsamples = 10\\nvalue = [1, 8, 1, 0]'),\n",
       " Text(104.05945945945945, 57.557647058823534, 'gini = 0.0\\nsamples = 1\\nvalue = [1, 0, 0, 0]'),\n",
       " Text(106.07027027027027, 57.557647058823534, 'X[5] <= 0.376\\ngini = 0.198\\nsamples = 9\\nvalue = [0, 8, 1, 0]'),\n",
       " Text(105.06486486486486, 44.767058823529396, 'gini = 0.0\\nsamples = 7\\nvalue = [0, 7, 0, 0]'),\n",
       " Text(107.07567567567567, 44.767058823529396, 'X[6] <= 0.004\\ngini = 0.5\\nsamples = 2\\nvalue = [0, 1, 1, 0]'),\n",
       " Text(106.07027027027027, 31.976470588235287, 'gini = 0.0\\nsamples = 1\\nvalue = [0, 1, 0, 0]'),\n",
       " Text(108.08108108108108, 31.976470588235287, 'gini = 0.0\\nsamples = 1\\nvalue = [0, 0, 1, 0]'),\n",
       " Text(109.08648648648648, 70.34823529411764, 'X[7] <= 9.52\\ngini = 0.444\\nsamples = 3\\nvalue = [2, 1, 0, 0]'),\n",
       " Text(108.08108108108108, 57.557647058823534, 'gini = 0.0\\nsamples = 2\\nvalue = [2, 0, 0, 0]'),\n",
       " Text(110.09189189189189, 57.557647058823534, 'gini = 0.0\\nsamples = 1\\nvalue = [0, 1, 0, 0]'),\n",
       " Text(113.1081081081081, 95.92941176470588, 'X[7] <= 11.73\\ngini = 0.406\\nsamples = 8\\nvalue = [6, 1, 1, 0]'),\n",
       " Text(112.1027027027027, 83.13882352941175, 'X[8] <= 0.002\\ngini = 0.245\\nsamples = 7\\nvalue = [6, 1, 0, 0]'),\n",
       " Text(111.09729729729729, 70.34823529411764, 'gini = 0.0\\nsamples = 6\\nvalue = [6, 0, 0, 0]'),\n",
       " Text(113.1081081081081, 70.34823529411764, 'gini = 0.0\\nsamples = 1\\nvalue = [0, 1, 0, 0]'),\n",
       " Text(114.11351351351351, 83.13882352941175, 'gini = 0.0\\nsamples = 1\\nvalue = [0, 0, 1, 0]'),\n",
       " Text(110.84594594594594, 108.72, 'gini = 0.0\\nsamples = 7\\nvalue = [0, 7, 0, 0]'),\n",
       " Text(111.85135135135134, 121.51058823529411, 'gini = 0.0\\nsamples = 4\\nvalue = [0, 0, 0, 4]'),\n",
       " Text(128.56621621621622, 185.4635294117647, 'X[4] <= 1.92\\ngini = 0.61\\nsamples = 174\\nvalue = [8, 77, 75, 14]'),\n",
       " Text(120.89999999999999, 172.6729411764706, 'X[1] <= 18.3\\ngini = 0.472\\nsamples = 83\\nvalue = [8, 57, 18, 0]'),\n",
       " Text(118.13513513513513, 159.88235294117646, 'X[6] <= 0.002\\ngini = 0.272\\nsamples = 37\\nvalue = [6, 31, 0, 0]'),\n",
       " Text(117.12972972972972, 147.09176470588235, 'X[6] <= 0.0\\ngini = 0.202\\nsamples = 35\\nvalue = [4, 31, 0, 0]'),\n",
       " Text(116.12432432432432, 134.30117647058825, 'X[3] <= 11.975\\ngini = 0.375\\nsamples = 16\\nvalue = [4, 12, 0, 0]'),\n",
       " Text(115.11891891891891, 121.51058823529411, 'X[3] <= 1.2\\ngini = 0.245\\nsamples = 14\\nvalue = [2, 12, 0, 0]'),\n",
       " Text(114.11351351351351, 108.72, 'gini = 0.0\\nsamples = 7\\nvalue = [0, 7, 0, 0]'),\n",
       " Text(116.12432432432432, 108.72, 'X[2] <= 0.4\\ngini = 0.408\\nsamples = 7\\nvalue = [2, 5, 0, 0]'),\n",
       " Text(115.11891891891891, 95.92941176470588, 'gini = 0.0\\nsamples = 4\\nvalue = [0, 4, 0, 0]'),\n",
       " Text(117.12972972972972, 95.92941176470588, 'X[8] <= 0.015\\ngini = 0.444\\nsamples = 3\\nvalue = [2, 1, 0, 0]'),\n",
       " Text(116.12432432432432, 83.13882352941175, 'gini = 0.0\\nsamples = 2\\nvalue = [2, 0, 0, 0]'),\n",
       " Text(118.13513513513513, 83.13882352941175, 'gini = 0.0\\nsamples = 1\\nvalue = [0, 1, 0, 0]'),\n",
       " Text(117.12972972972972, 121.51058823529411, 'gini = 0.0\\nsamples = 2\\nvalue = [2, 0, 0, 0]'),\n",
       " Text(118.13513513513513, 134.30117647058825, 'gini = 0.0\\nsamples = 19\\nvalue = [0, 19, 0, 0]'),\n",
       " Text(119.14054054054053, 147.09176470588235, 'gini = 0.0\\nsamples = 2\\nvalue = [2, 0, 0, 0]'),\n",
       " Text(123.66486486486485, 159.88235294117646, 'X[3] <= 6.505\\ngini = 0.526\\nsamples = 46\\nvalue = [2, 26, 18, 0]'),\n",
       " Text(121.15135135135135, 147.09176470588235, 'X[1] <= 25.18\\ngini = 0.142\\nsamples = 13\\nvalue = [0, 1, 12, 0]'),\n",
       " Text(120.14594594594594, 134.30117647058825, 'X[2] <= 0.6\\ngini = 0.5\\nsamples = 2\\nvalue = [0, 1, 1, 0]'),\n",
       " Text(119.14054054054053, 121.51058823529411, 'gini = 0.0\\nsamples = 1\\nvalue = [0, 0, 1, 0]'),\n",
       " Text(121.15135135135135, 121.51058823529411, 'gini = 0.0\\nsamples = 1\\nvalue = [0, 1, 0, 0]'),\n",
       " Text(122.15675675675675, 134.30117647058825, 'gini = 0.0\\nsamples = 11\\nvalue = [0, 0, 11, 0]'),\n",
       " Text(126.17837837837837, 147.09176470588235, 'X[3] <= 15.525\\ngini = 0.389\\nsamples = 33\\nvalue = [2, 25, 6, 0]'),\n",
       " Text(125.17297297297297, 134.30117647058825, 'X[6] <= 0.005\\ngini = 0.291\\nsamples = 30\\nvalue = [2, 25, 3, 0]'),\n",
       " Text(123.16216216216216, 121.51058823529411, 'X[8] <= 0.005\\ngini = 0.145\\nsamples = 26\\nvalue = [1, 24, 1, 0]'),\n",
       " Text(122.15675675675675, 108.72, 'X[4] <= 1.767\\ngini = 0.077\\nsamples = 25\\nvalue = [1, 24, 0, 0]'),\n",
       " Text(121.15135135135135, 95.92941176470588, 'gini = 0.0\\nsamples = 17\\nvalue = [0, 17, 0, 0]'),\n",
       " Text(123.16216216216216, 95.92941176470588, 'X[7] <= 5.12\\ngini = 0.219\\nsamples = 8\\nvalue = [1, 7, 0, 0]'),\n",
       " Text(122.15675675675675, 83.13882352941175, 'X[8] <= 0.001\\ngini = 0.5\\nsamples = 2\\nvalue = [1, 1, 0, 0]'),\n",
       " Text(121.15135135135135, 70.34823529411764, 'gini = 0.0\\nsamples = 1\\nvalue = [1, 0, 0, 0]'),\n",
       " Text(123.16216216216216, 70.34823529411764, 'gini = 0.0\\nsamples = 1\\nvalue = [0, 1, 0, 0]'),\n",
       " Text(124.16756756756756, 83.13882352941175, 'gini = 0.0\\nsamples = 6\\nvalue = [0, 6, 0, 0]'),\n",
       " Text(124.16756756756756, 108.72, 'gini = 0.0\\nsamples = 1\\nvalue = [0, 0, 1, 0]'),\n",
       " Text(127.18378378378378, 121.51058823529411, 'X[8] <= 0.0\\ngini = 0.625\\nsamples = 4\\nvalue = [1, 1, 2, 0]'),\n",
       " Text(126.17837837837837, 108.72, 'X[7] <= 3.402\\ngini = 0.5\\nsamples = 2\\nvalue = [1, 1, 0, 0]'),\n",
       " Text(125.17297297297297, 95.92941176470588, 'gini = 0.0\\nsamples = 1\\nvalue = [1, 0, 0, 0]'),\n",
       " Text(127.18378378378378, 95.92941176470588, 'gini = 0.0\\nsamples = 1\\nvalue = [0, 1, 0, 0]'),\n",
       " Text(128.1891891891892, 108.72, 'gini = 0.0\\nsamples = 2\\nvalue = [0, 0, 2, 0]'),\n",
       " Text(127.18378378378378, 134.30117647058825, 'gini = 0.0\\nsamples = 3\\nvalue = [0, 0, 3, 0]'),\n",
       " Text(136.23243243243243, 172.6729411764706, 'X[2] <= 3.8\\ngini = 0.536\\nsamples = 91\\nvalue = [0, 20, 57, 14]'),\n",
       " Text(133.2162162162162, 159.88235294117646, 'X[0] <= 471.0\\ngini = 0.419\\nsamples = 76\\nvalue = [0, 7, 56, 13]'),\n",
       " Text(130.2, 147.09176470588235, 'X[1] <= 11.25\\ngini = 0.375\\nsamples = 8\\nvalue = [0, 6, 2, 0]'),\n",
       " Text(129.19459459459458, 134.30117647058825, 'gini = 0.0\\nsamples = 5\\nvalue = [0, 5, 0, 0]'),\n",
       " Text(131.2054054054054, 134.30117647058825, 'X[6] <= 0.002\\ngini = 0.444\\nsamples = 3\\nvalue = [0, 1, 2, 0]'),\n",
       " Text(130.2, 121.51058823529411, 'gini = 0.0\\nsamples = 2\\nvalue = [0, 0, 2, 0]'),\n",
       " Text(132.2108108108108, 121.51058823529411, 'gini = 0.0\\nsamples = 1\\nvalue = [0, 1, 0, 0]'),\n",
       " Text(136.23243243243243, 147.09176470588235, 'X[1] <= 85.575\\ngini = 0.333\\nsamples = 68\\nvalue = [0, 1, 54, 13]'),\n",
       " Text(135.22702702702702, 134.30117647058825, 'X[2] <= 0.8\\ngini = 0.286\\nsamples = 65\\nvalue = [0, 1, 54, 10]'),\n",
       " Text(134.2216216216216, 121.51058823529411, 'X[1] <= 30.775\\ngini = 0.398\\nsamples = 42\\nvalue = [0, 1, 31, 10]'),\n",
       " Text(132.2108108108108, 108.72, 'X[1] <= 0.59\\ngini = 0.087\\nsamples = 22\\nvalue = [0, 1, 21, 0]'),\n",
       " Text(131.2054054054054, 95.92941176470588, 'gini = 0.0\\nsamples = 1\\nvalue = [0, 1, 0, 0]'),\n",
       " Text(133.2162162162162, 95.92941176470588, 'gini = 0.0\\nsamples = 21\\nvalue = [0, 0, 21, 0]'),\n",
       " Text(136.23243243243243, 108.72, 'X[1] <= 68.07\\ngini = 0.5\\nsamples = 20\\nvalue = [0, 0, 10, 10]'),\n",
       " Text(135.22702702702702, 95.92941176470588, 'X[4] <= 2.589\\ngini = 0.444\\nsamples = 15\\nvalue = [0, 0, 5, 10]'),\n",
       " Text(133.2162162162162, 83.13882352941175, 'X[1] <= 53.975\\ngini = 0.375\\nsamples = 4\\nvalue = [0, 0, 3, 1]'),\n",
       " Text(132.2108108108108, 70.34823529411764, 'gini = 0.0\\nsamples = 3\\nvalue = [0, 0, 3, 0]'),\n",
       " Text(134.2216216216216, 70.34823529411764, 'gini = 0.0\\nsamples = 1\\nvalue = [0, 0, 0, 1]'),\n",
       " Text(137.23783783783784, 83.13882352941175, 'X[1] <= 48.81\\ngini = 0.298\\nsamples = 11\\nvalue = [0, 0, 2, 9]'),\n",
       " Text(136.23243243243243, 70.34823529411764, 'gini = 0.0\\nsamples = 8\\nvalue = [0, 0, 0, 8]'),\n",
       " Text(138.24324324324323, 70.34823529411764, 'X[0] <= 1320.0\\ngini = 0.444\\nsamples = 3\\nvalue = [0, 0, 2, 1]'),\n",
       " Text(137.23783783783784, 57.557647058823534, 'gini = 0.0\\nsamples = 2\\nvalue = [0, 0, 2, 0]'),\n",
       " Text(139.24864864864864, 57.557647058823534, 'gini = 0.0\\nsamples = 1\\nvalue = [0, 0, 0, 1]'),\n",
       " Text(137.23783783783784, 95.92941176470588, 'gini = 0.0\\nsamples = 5\\nvalue = [0, 0, 5, 0]'),\n",
       " Text(136.23243243243243, 121.51058823529411, 'gini = 0.0\\nsamples = 23\\nvalue = [0, 0, 23, 0]'),\n",
       " Text(137.23783783783784, 134.30117647058825, 'gini = 0.0\\nsamples = 3\\nvalue = [0, 0, 0, 3]'),\n",
       " Text(139.24864864864864, 159.88235294117646, 'X[0] <= 1619.0\\ngini = 0.24\\nsamples = 15\\nvalue = [0, 13, 1, 1]'),\n",
       " Text(138.24324324324323, 147.09176470588235, 'gini = 0.0\\nsamples = 13\\nvalue = [0, 13, 0, 0]'),\n",
       " Text(140.25405405405405, 147.09176470588235, 'X[3] <= 5.355\\ngini = 0.5\\nsamples = 2\\nvalue = [0, 0, 1, 1]'),\n",
       " Text(139.24864864864864, 134.30117647058825, 'gini = 0.0\\nsamples = 1\\nvalue = [0, 0, 0, 1]'),\n",
       " Text(141.25945945945946, 134.30117647058825, 'gini = 0.0\\nsamples = 1\\nvalue = [0, 0, 1, 0]'),\n",
       " Text(254.6120460304054, 198.25411764705882, 'X[1] <= 36.755\\ngini = 0.623\\nsamples = 1259\\nvalue = [50, 134, 532, 543]'),\n",
       " Text(205.89210304054052, 185.4635294117647, 'X[4] <= 1.99\\ngini = 0.592\\nsamples = 538\\nvalue = [44, 93, 317, 84]'),\n",
       " Text(180.03826013513512, 172.6729411764706, 'X[2] <= 0.65\\ngini = 0.552\\nsamples = 454\\nvalue = [44, 93, 284, 33]'),\n",
       " Text(164.38378378378377, 159.88235294117646, 'X[0] <= 1826.5\\ngini = 0.329\\nsamples = 221\\nvalue = [6, 14, 179, 22]'),\n",
       " Text(156.34054054054053, 147.09176470588235, 'X[7] <= 14.424\\ngini = 0.261\\nsamples = 207\\nvalue = [6, 13, 177, 11]'),\n",
       " Text(154.32972972972973, 134.30117647058825, 'X[1] <= 0.715\\ngini = 0.408\\nsamples = 7\\nvalue = [2, 5, 0, 0]'),\n",
       " Text(153.32432432432432, 121.51058823529411, 'gini = 0.0\\nsamples = 2\\nvalue = [2, 0, 0, 0]'),\n",
       " Text(155.33513513513512, 121.51058823529411, 'gini = 0.0\\nsamples = 5\\nvalue = [0, 5, 0, 0]'),\n",
       " Text(158.35135135135135, 134.30117647058825, 'X[0] <= 592.0\\ngini = 0.212\\nsamples = 200\\nvalue = [4, 8, 177, 11]'),\n",
       " Text(157.34594594594594, 121.51058823529411, 'gini = 0.0\\nsamples = 3\\nvalue = [0, 3, 0, 0]'),\n",
       " Text(159.35675675675674, 121.51058823529411, 'X[8] <= 0.003\\ngini = 0.189\\nsamples = 197\\nvalue = [4, 5, 177, 11]'),\n",
       " Text(151.3135135135135, 108.72, 'X[6] <= 0.0\\ngini = 0.15\\nsamples = 189\\nvalue = [3, 3, 174, 9]'),\n",
       " Text(145.28108108108108, 95.92941176470588, 'X[4] <= 1.924\\ngini = 0.067\\nsamples = 143\\nvalue = [0, 0, 138, 5]'),\n",
       " Text(143.27027027027026, 83.13882352941175, 'X[3] <= 3.565\\ngini = 0.056\\nsamples = 140\\nvalue = [0, 0, 136, 4]'),\n",
       " Text(142.26486486486485, 70.34823529411764, 'X[5] <= 0.428\\ngini = 0.145\\nsamples = 51\\nvalue = [0, 0, 47, 4]'),\n",
       " Text(141.25945945945946, 57.557647058823534, 'X[0] <= 1324.0\\ngini = 0.113\\nsamples = 50\\nvalue = [0, 0, 47, 3]'),\n",
       " Text(138.24324324324323, 44.767058823529396, 'X[4] <= 1.457\\ngini = 0.049\\nsamples = 40\\nvalue = [0, 0, 39, 1]'),\n",
       " Text(137.23783783783784, 31.976470588235287, 'gini = 0.0\\nsamples = 36\\nvalue = [0, 0, 36, 0]'),\n",
       " Text(139.24864864864864, 31.976470588235287, 'X[3] <= 1.665\\ngini = 0.375\\nsamples = 4\\nvalue = [0, 0, 3, 1]'),\n",
       " Text(138.24324324324323, 19.185882352941178, 'gini = 0.0\\nsamples = 3\\nvalue = [0, 0, 3, 0]'),\n",
       " Text(140.25405405405405, 19.185882352941178, 'gini = 0.0\\nsamples = 1\\nvalue = [0, 0, 0, 1]'),\n",
       " Text(144.27567567567567, 44.767058823529396, 'X[7] <= 44.921\\ngini = 0.32\\nsamples = 10\\nvalue = [0, 0, 8, 2]'),\n",
       " Text(143.27027027027026, 31.976470588235287, 'X[3] <= 1.04\\ngini = 0.444\\nsamples = 3\\nvalue = [0, 0, 1, 2]'),\n",
       " Text(142.26486486486485, 19.185882352941178, 'gini = 0.0\\nsamples = 1\\nvalue = [0, 0, 1, 0]'),\n",
       " Text(144.27567567567567, 19.185882352941178, 'gini = 0.0\\nsamples = 2\\nvalue = [0, 0, 0, 2]'),\n",
       " Text(145.28108108108108, 31.976470588235287, 'gini = 0.0\\nsamples = 7\\nvalue = [0, 0, 7, 0]'),\n",
       " Text(143.27027027027026, 57.557647058823534, 'gini = 0.0\\nsamples = 1\\nvalue = [0, 0, 0, 1]'),\n",
       " Text(144.27567567567567, 70.34823529411764, 'gini = 0.0\\nsamples = 89\\nvalue = [0, 0, 89, 0]'),\n",
       " Text(147.29189189189188, 83.13882352941175, 'X[5] <= 0.551\\ngini = 0.444\\nsamples = 3\\nvalue = [0, 0, 2, 1]'),\n",
       " Text(146.28648648648647, 70.34823529411764, 'gini = 0.0\\nsamples = 1\\nvalue = [0, 0, 0, 1]'),\n",
       " Text(148.2972972972973, 70.34823529411764, 'gini = 0.0\\nsamples = 2\\nvalue = [0, 0, 2, 0]'),\n",
       " Text(157.34594594594594, 95.92941176470588, 'X[5] <= 0.02\\ngini = 0.371\\nsamples = 46\\nvalue = [3, 3, 36, 4]'),\n",
       " Text(152.3189189189189, 83.13882352941175, 'X[4] <= 0.79\\ngini = 0.716\\nsamples = 9\\nvalue = [3, 2, 3, 1]'),\n",
       " Text(150.3081081081081, 70.34823529411764, 'X[0] <= 970.5\\ngini = 0.375\\nsamples = 4\\nvalue = [3, 0, 1, 0]'),\n",
       " Text(149.3027027027027, 57.557647058823534, 'gini = 0.0\\nsamples = 3\\nvalue = [3, 0, 0, 0]'),\n",
       " Text(151.3135135135135, 57.557647058823534, 'gini = 0.0\\nsamples = 1\\nvalue = [0, 0, 1, 0]'),\n",
       " Text(154.32972972972973, 70.34823529411764, 'X[4] <= 1.293\\ngini = 0.64\\nsamples = 5\\nvalue = [0, 2, 2, 1]'),\n",
       " Text(153.32432432432432, 57.557647058823534, 'gini = 0.0\\nsamples = 2\\nvalue = [0, 2, 0, 0]'),\n",
       " Text(155.33513513513512, 57.557647058823534, 'X[0] <= 1335.0\\ngini = 0.444\\nsamples = 3\\nvalue = [0, 0, 2, 1]'),\n",
       " Text(154.32972972972973, 44.767058823529396, 'gini = 0.0\\nsamples = 2\\nvalue = [0, 0, 2, 0]'),\n",
       " Text(156.34054054054053, 44.767058823529396, 'gini = 0.0\\nsamples = 1\\nvalue = [0, 0, 0, 1]'),\n",
       " Text(162.37297297297297, 83.13882352941175, 'X[7] <= 34.355\\ngini = 0.197\\nsamples = 37\\nvalue = [0, 1, 33, 3]'),\n",
       " Text(160.36216216216215, 70.34823529411764, 'X[4] <= 0.196\\ngini = 0.062\\nsamples = 31\\nvalue = [0, 1, 30, 0]'),\n",
       " Text(159.35675675675674, 57.557647058823534, 'X[1] <= 25.455\\ngini = 0.32\\nsamples = 5\\nvalue = [0, 1, 4, 0]'),\n",
       " Text(158.35135135135135, 44.767058823529396, 'gini = 0.0\\nsamples = 1\\nvalue = [0, 1, 0, 0]'),\n",
       " Text(160.36216216216215, 44.767058823529396, 'gini = 0.0\\nsamples = 4\\nvalue = [0, 0, 4, 0]'),\n",
       " Text(161.36756756756756, 57.557647058823534, 'gini = 0.0\\nsamples = 26\\nvalue = [0, 0, 26, 0]'),\n",
       " Text(164.38378378378377, 70.34823529411764, 'X[7] <= 39.906\\ngini = 0.5\\nsamples = 6\\nvalue = [0, 0, 3, 3]'),\n",
       " Text(163.37837837837836, 57.557647058823534, 'gini = 0.0\\nsamples = 3\\nvalue = [0, 0, 0, 3]'),\n",
       " Text(165.38918918918918, 57.557647058823534, 'gini = 0.0\\nsamples = 3\\nvalue = [0, 0, 3, 0]'),\n",
       " Text(167.39999999999998, 108.72, 'X[8] <= 0.004\\ngini = 0.719\\nsamples = 8\\nvalue = [1, 2, 3, 2]'),\n",
       " Text(165.38918918918918, 95.92941176470588, 'X[4] <= 1.009\\ngini = 0.5\\nsamples = 4\\nvalue = [0, 2, 0, 2]'),\n",
       " Text(164.38378378378377, 83.13882352941175, 'gini = 0.0\\nsamples = 2\\nvalue = [0, 2, 0, 0]'),\n",
       " Text(166.3945945945946, 83.13882352941175, 'gini = 0.0\\nsamples = 2\\nvalue = [0, 0, 0, 2]'),\n",
       " Text(169.4108108108108, 95.92941176470588, 'X[1] <= 29.52\\ngini = 0.375\\nsamples = 4\\nvalue = [1, 0, 3, 0]'),\n",
       " Text(168.4054054054054, 83.13882352941175, 'gini = 0.0\\nsamples = 3\\nvalue = [0, 0, 3, 0]'),\n",
       " Text(170.4162162162162, 83.13882352941175, 'gini = 0.0\\nsamples = 1\\nvalue = [1, 0, 0, 0]'),\n",
       " Text(172.427027027027, 147.09176470588235, 'X[0] <= 3167.0\\ngini = 0.357\\nsamples = 14\\nvalue = [0, 1, 2, 11]'),\n",
       " Text(171.42162162162163, 134.30117647058825, 'X[4] <= 1.92\\ngini = 0.26\\nsamples = 13\\nvalue = [0, 0, 2, 11]'),\n",
       " Text(170.4162162162162, 121.51058823529411, 'X[3] <= 14.5\\ngini = 0.153\\nsamples = 12\\nvalue = [0, 0, 1, 11]'),\n",
       " Text(169.4108108108108, 108.72, 'gini = 0.0\\nsamples = 11\\nvalue = [0, 0, 0, 11]'),\n",
       " Text(171.42162162162163, 108.72, 'gini = 0.0\\nsamples = 1\\nvalue = [0, 0, 1, 0]'),\n",
       " Text(172.427027027027, 121.51058823529411, 'gini = 0.0\\nsamples = 1\\nvalue = [0, 0, 1, 0]'),\n",
       " Text(173.43243243243242, 134.30117647058825, 'gini = 0.0\\nsamples = 1\\nvalue = [0, 1, 0, 0]'),\n",
       " Text(195.69273648648647, 159.88235294117646, 'X[4] <= 0.031\\ngini = 0.653\\nsamples = 233\\nvalue = [38, 79, 105, 11]'),\n",
       " Text(178.96216216216214, 147.09176470588235, 'X[6] <= 0.006\\ngini = 0.444\\nsamples = 37\\nvalue = [26, 9, 2, 0]'),\n",
       " Text(176.95135135135135, 134.30117647058825, 'X[7] <= 59.375\\ngini = 0.372\\nsamples = 34\\nvalue = [26, 7, 1, 0]'),\n",
       " Text(175.94594594594594, 121.51058823529411, 'gini = 0.0\\nsamples = 13\\nvalue = [13, 0, 0, 0]'),\n",
       " Text(177.95675675675676, 121.51058823529411, 'X[1] <= 17.265\\ngini = 0.503\\nsamples = 21\\nvalue = [13, 7, 1, 0]'),\n",
       " Text(176.95135135135135, 108.72, 'X[7] <= 80.835\\ngini = 0.381\\nsamples = 17\\nvalue = [13, 3, 1, 0]'),\n",
       " Text(174.43783783783783, 95.92941176470588, 'X[5] <= 0.102\\ngini = 0.231\\nsamples = 15\\nvalue = [13, 2, 0, 0]'),\n",
       " Text(172.427027027027, 83.13882352941175, 'X[8] <= 0.002\\ngini = 0.142\\nsamples = 13\\nvalue = [12, 1, 0, 0]'),\n",
       " Text(171.42162162162163, 70.34823529411764, 'gini = 0.0\\nsamples = 11\\nvalue = [11, 0, 0, 0]'),\n",
       " Text(173.43243243243242, 70.34823529411764, 'gini = 0.5\\nsamples = 2\\nvalue = [1, 1, 0, 0]'),\n",
       " Text(176.44864864864863, 83.13882352941175, 'X[6] <= 0.004\\ngini = 0.5\\nsamples = 2\\nvalue = [1, 1, 0, 0]'),\n",
       " Text(175.44324324324324, 70.34823529411764, 'gini = 0.0\\nsamples = 1\\nvalue = [0, 1, 0, 0]'),\n",
       " Text(177.45405405405404, 70.34823529411764, 'gini = 0.0\\nsamples = 1\\nvalue = [1, 0, 0, 0]'),\n",
       " Text(179.46486486486486, 95.92941176470588, 'X[6] <= 0.003\\ngini = 0.5\\nsamples = 2\\nvalue = [0, 1, 1, 0]'),\n",
       " Text(178.45945945945945, 83.13882352941175, 'gini = 0.0\\nsamples = 1\\nvalue = [0, 0, 1, 0]'),\n",
       " Text(180.47027027027025, 83.13882352941175, 'gini = 0.0\\nsamples = 1\\nvalue = [0, 1, 0, 0]'),\n",
       " Text(178.96216216216214, 108.72, 'gini = 0.0\\nsamples = 4\\nvalue = [0, 4, 0, 0]'),\n",
       " Text(180.97297297297297, 134.30117647058825, 'X[7] <= 56.965\\ngini = 0.444\\nsamples = 3\\nvalue = [0, 2, 1, 0]'),\n",
       " Text(179.96756756756756, 121.51058823529411, 'gini = 0.0\\nsamples = 2\\nvalue = [0, 2, 0, 0]'),\n",
       " Text(181.97837837837838, 121.51058823529411, 'gini = 0.0\\nsamples = 1\\nvalue = [0, 0, 1, 0]'),\n",
       " Text(212.4233108108108, 147.09176470588235, 'X[1] <= 27.995\\ngini = 0.589\\nsamples = 196\\nvalue = [12, 70, 103, 11]'),\n",
       " Text(202.1493243243243, 134.30117647058825, 'X[4] <= 1.49\\ngini = 0.599\\nsamples = 124\\nvalue = [11, 61, 48, 4]'),\n",
       " Text(192.1581081081081, 121.51058823529411, 'X[7] <= 18.281\\ngini = 0.575\\nsamples = 101\\nvalue = [11, 58, 29, 3]'),\n",
       " Text(185.49729729729728, 108.72, 'X[1] <= 27.1\\ngini = 0.247\\nsamples = 29\\nvalue = [2, 25, 2, 0]'),\n",
       " Text(183.48648648648648, 95.92941176470588, 'X[0] <= 575.5\\ngini = 0.14\\nsamples = 27\\nvalue = [1, 25, 1, 0]'),\n",
       " Text(182.48108108108107, 83.13882352941175, 'gini = 0.0\\nsamples = 1\\nvalue = [0, 0, 1, 0]'),\n",
       " Text(184.49189189189187, 83.13882352941175, 'X[2] <= 0.75\\ngini = 0.074\\nsamples = 26\\nvalue = [1, 25, 0, 0]'),\n",
       " Text(183.48648648648648, 70.34823529411764, 'X[8] <= 0.004\\ngini = 0.5\\nsamples = 2\\nvalue = [1, 1, 0, 0]'),\n",
       " Text(182.48108108108107, 57.557647058823534, 'gini = 0.0\\nsamples = 1\\nvalue = [1, 0, 0, 0]'),\n",
       " Text(184.49189189189187, 57.557647058823534, 'gini = 0.0\\nsamples = 1\\nvalue = [0, 1, 0, 0]'),\n",
       " Text(185.49729729729728, 70.34823529411764, 'gini = 0.0\\nsamples = 24\\nvalue = [0, 24, 0, 0]'),\n",
       " Text(187.5081081081081, 95.92941176470588, 'X[3] <= 4.925\\ngini = 0.5\\nsamples = 2\\nvalue = [1, 0, 1, 0]'),\n",
       " Text(186.5027027027027, 83.13882352941175, 'gini = 0.0\\nsamples = 1\\nvalue = [0, 0, 1, 0]'),\n",
       " Text(188.51351351351352, 83.13882352941175, 'gini = 0.0\\nsamples = 1\\nvalue = [1, 0, 0, 0]'),\n",
       " Text(198.8189189189189, 108.72, 'X[4] <= 0.685\\ngini = 0.632\\nsamples = 72\\nvalue = [9, 33, 27, 3]'),\n",
       " Text(191.52972972972972, 95.92941176470588, 'X[0] <= 941.5\\ngini = 0.58\\nsamples = 26\\nvalue = [7, 15, 3, 1]'),\n",
       " Text(190.5243243243243, 83.13882352941175, 'gini = 0.0\\nsamples = 4\\nvalue = [4, 0, 0, 0]'),\n",
       " Text(192.53513513513514, 83.13882352941175, 'X[6] <= 0.001\\ngini = 0.496\\nsamples = 22\\nvalue = [3, 15, 3, 1]'),\n",
       " Text(190.02162162162162, 70.34823529411764, 'X[4] <= 0.406\\ngini = 0.444\\nsamples = 3\\nvalue = [0, 0, 2, 1]'),\n",
       " Text(189.0162162162162, 57.557647058823534, 'gini = 0.0\\nsamples = 2\\nvalue = [0, 0, 2, 0]'),\n",
       " Text(191.027027027027, 57.557647058823534, 'gini = 0.0\\nsamples = 1\\nvalue = [0, 0, 0, 1]'),\n",
       " Text(195.04864864864865, 70.34823529411764, 'X[5] <= 0.268\\ngini = 0.349\\nsamples = 19\\nvalue = [3, 15, 1, 0]'),\n",
       " Text(193.03783783783783, 57.557647058823534, 'X[8] <= 0.134\\ngini = 0.227\\nsamples = 16\\nvalue = [1, 14, 1, 0]'),\n",
       " Text(192.03243243243242, 44.767058823529396, 'X[4] <= 0.518\\ngini = 0.124\\nsamples = 15\\nvalue = [0, 14, 1, 0]'),\n",
       " Text(191.027027027027, 31.976470588235287, 'gini = 0.0\\nsamples = 13\\nvalue = [0, 13, 0, 0]'),\n",
       " Text(193.03783783783783, 31.976470588235287, 'X[6] <= 0.003\\ngini = 0.5\\nsamples = 2\\nvalue = [0, 1, 1, 0]'),\n",
       " Text(192.03243243243242, 19.185882352941178, 'gini = 0.0\\nsamples = 1\\nvalue = [0, 1, 0, 0]'),\n",
       " Text(194.04324324324324, 19.185882352941178, 'gini = 0.0\\nsamples = 1\\nvalue = [0, 0, 1, 0]'),\n",
       " Text(194.04324324324324, 44.767058823529396, 'gini = 0.0\\nsamples = 1\\nvalue = [1, 0, 0, 0]'),\n",
       " Text(197.05945945945945, 57.557647058823534, 'X[4] <= 0.312\\ngini = 0.444\\nsamples = 3\\nvalue = [2, 1, 0, 0]'),\n",
       " Text(196.05405405405403, 44.767058823529396, 'gini = 0.0\\nsamples = 1\\nvalue = [1, 0, 0, 0]'),\n",
       " Text(198.06486486486486, 44.767058823529396, 'gini = 0.5\\nsamples = 2\\nvalue = [1, 1, 0, 0]'),\n",
       " Text(206.1081081081081, 95.92941176470588, 'X[7] <= 57.141\\ngini = 0.571\\nsamples = 46\\nvalue = [2, 18, 24, 2]'),\n",
       " Text(204.09729729729727, 83.13882352941175, 'X[0] <= 2437.0\\ngini = 0.596\\nsamples = 37\\nvalue = [2, 17, 16, 2]'),\n",
       " Text(203.0918918918919, 70.34823529411764, 'X[1] <= 15.01\\ngini = 0.599\\nsamples = 31\\nvalue = [2, 11, 16, 2]'),\n",
       " Text(201.08108108108107, 57.557647058823534, 'X[0] <= 947.5\\ngini = 0.375\\nsamples = 12\\nvalue = [0, 9, 3, 0]'),\n",
       " Text(200.07567567567565, 44.767058823529396, 'X[2] <= 2.7\\ngini = 0.375\\nsamples = 4\\nvalue = [0, 1, 3, 0]'),\n",
       " Text(199.07027027027027, 31.976470588235287, 'gini = 0.0\\nsamples = 3\\nvalue = [0, 0, 3, 0]'),\n",
       " Text(201.08108108108107, 31.976470588235287, 'gini = 0.0\\nsamples = 1\\nvalue = [0, 1, 0, 0]'),\n",
       " Text(202.08648648648648, 44.767058823529396, 'gini = 0.0\\nsamples = 8\\nvalue = [0, 8, 0, 0]'),\n",
       " Text(205.1027027027027, 57.557647058823534, 'X[6] <= 0.005\\ngini = 0.499\\nsamples = 19\\nvalue = [2, 2, 13, 2]'),\n",
       " Text(204.09729729729727, 44.767058823529396, 'X[6] <= 0.002\\ngini = 0.388\\nsamples = 17\\nvalue = [2, 0, 13, 2]'),\n",
       " Text(203.0918918918919, 31.976470588235287, 'gini = 0.0\\nsamples = 10\\nvalue = [0, 0, 10, 0]'),\n",
       " Text(205.1027027027027, 31.976470588235287, 'X[1] <= 24.915\\ngini = 0.653\\nsamples = 7\\nvalue = [2, 0, 3, 2]'),\n",
       " Text(204.09729729729727, 19.185882352941178, 'X[8] <= 0.0\\ngini = 0.5\\nsamples = 4\\nvalue = [2, 0, 0, 2]'),\n",
       " Text(203.0918918918919, 6.39529411764704, 'gini = 0.0\\nsamples = 2\\nvalue = [2, 0, 0, 0]'),\n",
       " Text(205.1027027027027, 6.39529411764704, 'gini = 0.0\\nsamples = 2\\nvalue = [0, 0, 0, 2]'),\n",
       " Text(206.1081081081081, 19.185882352941178, 'gini = 0.0\\nsamples = 3\\nvalue = [0, 0, 3, 0]'),\n",
       " Text(206.1081081081081, 44.767058823529396, 'gini = 0.0\\nsamples = 2\\nvalue = [0, 2, 0, 0]'),\n",
       " Text(205.1027027027027, 70.34823529411764, 'gini = 0.0\\nsamples = 6\\nvalue = [0, 6, 0, 0]'),\n",
       " Text(208.1189189189189, 83.13882352941175, 'X[1] <= 21.653\\ngini = 0.198\\nsamples = 9\\nvalue = [0, 1, 8, 0]'),\n",
       " Text(207.1135135135135, 70.34823529411764, 'gini = 0.0\\nsamples = 8\\nvalue = [0, 0, 8, 0]'),\n",
       " Text(209.1243243243243, 70.34823529411764, 'gini = 0.0\\nsamples = 1\\nvalue = [0, 1, 0, 0]'),\n",
       " Text(212.14054054054054, 121.51058823529411, 'X[7] <= 15.076\\ngini = 0.299\\nsamples = 23\\nvalue = [0, 3, 19, 1]'),\n",
       " Text(210.12972972972972, 108.72, 'X[5] <= 0.012\\ngini = 0.444\\nsamples = 3\\nvalue = [0, 2, 1, 0]'),\n",
       " Text(209.1243243243243, 95.92941176470588, 'gini = 0.0\\nsamples = 1\\nvalue = [0, 0, 1, 0]'),\n",
       " Text(211.13513513513513, 95.92941176470588, 'gini = 0.0\\nsamples = 2\\nvalue = [0, 2, 0, 0]'),\n",
       " Text(214.15135135135134, 108.72, 'X[3] <= 23.93\\ngini = 0.185\\nsamples = 20\\nvalue = [0, 1, 18, 1]'),\n",
       " Text(213.14594594594593, 95.92941176470588, 'X[2] <= 1.25\\ngini = 0.1\\nsamples = 19\\nvalue = [0, 0, 18, 1]'),\n",
       " Text(212.14054054054054, 83.13882352941175, 'X[7] <= 34.261\\ngini = 0.444\\nsamples = 3\\nvalue = [0, 0, 2, 1]'),\n",
       " Text(211.13513513513513, 70.34823529411764, 'gini = 0.0\\nsamples = 2\\nvalue = [0, 0, 2, 0]'),\n",
       " Text(213.14594594594593, 70.34823529411764, 'gini = 0.0\\nsamples = 1\\nvalue = [0, 0, 0, 1]'),\n",
       " Text(214.15135135135134, 83.13882352941175, 'gini = 0.0\\nsamples = 16\\nvalue = [0, 0, 16, 0]'),\n",
       " Text(215.15675675675675, 95.92941176470588, 'gini = 0.0\\nsamples = 1\\nvalue = [0, 1, 0, 0]'),\n",
       " Text(222.6972972972973, 134.30117647058825, 'X[5] <= 0.193\\ngini = 0.391\\nsamples = 72\\nvalue = [1, 9, 55, 7]'),\n",
       " Text(220.18378378378378, 121.51058823529411, 'X[2] <= 1.15\\ngini = 0.32\\nsamples = 65\\nvalue = [1, 4, 53, 7]'),\n",
       " Text(218.17297297297296, 108.72, 'X[7] <= 28.203\\ngini = 0.494\\nsamples = 9\\nvalue = [0, 0, 4, 5]'),\n",
       " Text(217.16756756756754, 95.92941176470588, 'gini = 0.0\\nsamples = 4\\nvalue = [0, 0, 4, 0]'),\n",
       " Text(219.17837837837837, 95.92941176470588, 'gini = 0.0\\nsamples = 5\\nvalue = [0, 0, 0, 5]'),\n",
       " Text(222.19459459459458, 108.72, 'X[7] <= 14.199\\ngini = 0.228\\nsamples = 56\\nvalue = [1, 4, 49, 2]'),\n",
       " Text(221.18918918918916, 95.92941176470588, 'gini = 0.0\\nsamples = 2\\nvalue = [0, 2, 0, 0]'),\n",
       " Text(223.2, 95.92941176470588, 'X[6] <= 0.001\\ngini = 0.174\\nsamples = 54\\nvalue = [1, 2, 49, 2]'),\n",
       " Text(219.68108108108106, 83.13882352941175, 'X[0] <= 1199.0\\ngini = 0.531\\nsamples = 8\\nvalue = [1, 0, 5, 2]'),\n",
       " Text(218.67567567567568, 70.34823529411764, 'gini = 0.0\\nsamples = 5\\nvalue = [0, 0, 5, 0]'),\n",
       " Text(220.68648648648647, 70.34823529411764, 'X[0] <= 1278.5\\ngini = 0.444\\nsamples = 3\\nvalue = [1, 0, 0, 2]'),\n",
       " Text(219.68108108108106, 57.557647058823534, 'gini = 0.0\\nsamples = 1\\nvalue = [1, 0, 0, 0]'),\n",
       " Text(221.69189189189188, 57.557647058823534, 'gini = 0.0\\nsamples = 2\\nvalue = [0, 0, 0, 2]'),\n",
       " Text(226.71891891891892, 83.13882352941175, 'X[3] <= 19.225\\ngini = 0.083\\nsamples = 46\\nvalue = [0, 2, 44, 0]'),\n",
       " Text(224.7081081081081, 70.34823529411764, 'X[7] <= 17.916\\ngini = 0.045\\nsamples = 43\\nvalue = [0, 1, 42, 0]'),\n",
       " Text(223.70270270270268, 57.557647058823534, 'X[1] <= 32.8\\ngini = 0.32\\nsamples = 5\\nvalue = [0, 1, 4, 0]'),\n",
       " Text(222.6972972972973, 44.767058823529396, 'gini = 0.0\\nsamples = 4\\nvalue = [0, 0, 4, 0]'),\n",
       " Text(224.7081081081081, 44.767058823529396, 'gini = 0.0\\nsamples = 1\\nvalue = [0, 1, 0, 0]'),\n",
       " Text(225.7135135135135, 57.557647058823534, 'gini = 0.0\\nsamples = 38\\nvalue = [0, 0, 38, 0]'),\n",
       " Text(228.7297297297297, 70.34823529411764, 'X[3] <= 21.235\\ngini = 0.444\\nsamples = 3\\nvalue = [0, 1, 2, 0]'),\n",
       " Text(227.7243243243243, 57.557647058823534, 'gini = 0.0\\nsamples = 1\\nvalue = [0, 1, 0, 0]'),\n",
       " Text(229.73513513513512, 57.557647058823534, 'gini = 0.0\\nsamples = 2\\nvalue = [0, 0, 2, 0]'),\n",
       " Text(225.2108108108108, 121.51058823529411, 'X[4] <= 1.222\\ngini = 0.408\\nsamples = 7\\nvalue = [0, 5, 2, 0]'),\n",
       " Text(224.2054054054054, 108.72, 'gini = 0.0\\nsamples = 5\\nvalue = [0, 5, 0, 0]'),\n",
       " Text(226.2162162162162, 108.72, 'gini = 0.0\\nsamples = 2\\nvalue = [0, 0, 2, 0]'),\n",
       " Text(231.74594594594592, 172.6729411764706, 'X[0] <= 1469.0\\ngini = 0.477\\nsamples = 84\\nvalue = [0, 0, 33, 51]'),\n",
       " Text(229.23243243243243, 159.88235294117646, 'X[3] <= 13.91\\ngini = 0.381\\nsamples = 43\\nvalue = [0, 0, 32, 11]'),\n",
       " Text(227.2216216216216, 147.09176470588235, 'X[4] <= 2.051\\ngini = 0.128\\nsamples = 29\\nvalue = [0, 0, 27, 2]'),\n",
       " Text(226.2162162162162, 134.30117647058825, 'gini = 0.0\\nsamples = 1\\nvalue = [0, 0, 0, 1]'),\n",
       " Text(228.22702702702702, 134.30117647058825, 'X[1] <= 22.12\\ngini = 0.069\\nsamples = 28\\nvalue = [0, 0, 27, 1]'),\n",
       " Text(227.2216216216216, 121.51058823529411, 'gini = 0.0\\nsamples = 25\\nvalue = [0, 0, 25, 0]'),\n",
       " Text(229.23243243243243, 121.51058823529411, 'X[3] <= 3.225\\ngini = 0.444\\nsamples = 3\\nvalue = [0, 0, 2, 1]'),\n",
       " Text(228.22702702702702, 108.72, 'gini = 0.0\\nsamples = 1\\nvalue = [0, 0, 0, 1]'),\n",
       " Text(230.23783783783782, 108.72, 'gini = 0.0\\nsamples = 2\\nvalue = [0, 0, 2, 0]'),\n",
       " Text(231.24324324324323, 147.09176470588235, 'X[7] <= 28.507\\ngini = 0.459\\nsamples = 14\\nvalue = [0, 0, 5, 9]'),\n",
       " Text(230.23783783783782, 134.30117647058825, 'gini = 0.0\\nsamples = 3\\nvalue = [0, 0, 3, 0]'),\n",
       " Text(232.24864864864864, 134.30117647058825, 'X[1] <= 4.165\\ngini = 0.298\\nsamples = 11\\nvalue = [0, 0, 2, 9]'),\n",
       " Text(231.24324324324323, 121.51058823529411, 'gini = 0.0\\nsamples = 2\\nvalue = [0, 0, 2, 0]'),\n",
       " Text(233.25405405405405, 121.51058823529411, 'gini = 0.0\\nsamples = 9\\nvalue = [0, 0, 0, 9]'),\n",
       " Text(234.25945945945944, 159.88235294117646, 'X[2] <= 13.55\\ngini = 0.048\\nsamples = 41\\nvalue = [0, 0, 1, 40]'),\n",
       " Text(233.25405405405405, 147.09176470588235, 'gini = 0.0\\nsamples = 40\\nvalue = [0, 0, 0, 40]'),\n",
       " Text(235.26486486486485, 147.09176470588235, 'gini = 0.0\\nsamples = 1\\nvalue = [0, 0, 1, 0]'),\n",
       " Text(303.33198902027027, 185.4635294117647, 'X[7] <= 47.4\\ngini = 0.502\\nsamples = 721\\nvalue = [6, 41, 215, 459]'),\n",
       " Text(276.89100506756756, 172.6729411764706, 'X[3] <= 5.335\\ngini = 0.581\\nsamples = 489\\nvalue = [6, 41, 201, 241]'),\n",
       " Text(256.47263513513514, 159.88235294117646, 'X[1] <= 57.235\\ngini = 0.446\\nsamples = 274\\nvalue = [0, 9, 76, 189]'),\n",
       " Text(248.02094594594593, 147.09176470588235, 'X[7] <= 30.247\\ngini = 0.55\\nsamples = 112\\nvalue = [0, 7, 59, 46]'),\n",
       " Text(240.1662162162162, 134.30117647058825, 'X[0] <= 1109.0\\ngini = 0.484\\nsamples = 74\\nvalue = [0, 5, 49, 20]'),\n",
       " Text(236.27027027027026, 121.51058823529411, 'X[4] <= 0.315\\ngini = 0.408\\nsamples = 7\\nvalue = [0, 5, 2, 0]'),\n",
       " Text(235.26486486486485, 108.72, 'gini = 0.0\\nsamples = 2\\nvalue = [0, 0, 2, 0]'),\n",
       " Text(237.27567567567567, 108.72, 'gini = 0.0\\nsamples = 5\\nvalue = [0, 5, 0, 0]'),\n",
       " Text(244.06216216216214, 121.51058823529411, 'X[1] <= 51.505\\ngini = 0.419\\nsamples = 67\\nvalue = [0, 0, 47, 20]'),\n",
       " Text(239.28648648648647, 108.72, 'X[2] <= 1.0\\ngini = 0.273\\nsamples = 43\\nvalue = [0, 0, 36, 7]'),\n",
       " Text(235.76756756756757, 95.92941176470588, 'X[7] <= 20.644\\ngini = 0.497\\nsamples = 13\\nvalue = [0, 0, 7, 6]'),\n",
       " Text(233.75675675675674, 83.13882352941175, 'X[0] <= 1192.5\\ngini = 0.245\\nsamples = 7\\nvalue = [0, 0, 6, 1]'),\n",
       " Text(232.75135135135133, 70.34823529411764, 'X[5] <= 0.034\\ngini = 0.5\\nsamples = 2\\nvalue = [0, 0, 1, 1]'),\n",
       " Text(231.74594594594592, 57.557647058823534, 'gini = 0.0\\nsamples = 1\\nvalue = [0, 0, 1, 0]'),\n",
       " Text(233.75675675675674, 57.557647058823534, 'gini = 0.0\\nsamples = 1\\nvalue = [0, 0, 0, 1]'),\n",
       " Text(234.76216216216216, 70.34823529411764, 'gini = 0.0\\nsamples = 5\\nvalue = [0, 0, 5, 0]'),\n",
       " Text(237.77837837837836, 83.13882352941175, 'X[1] <= 50.205\\ngini = 0.278\\nsamples = 6\\nvalue = [0, 0, 1, 5]'),\n",
       " Text(236.77297297297295, 70.34823529411764, 'gini = 0.0\\nsamples = 5\\nvalue = [0, 0, 0, 5]'),\n",
       " Text(238.78378378378378, 70.34823529411764, 'gini = 0.0\\nsamples = 1\\nvalue = [0, 0, 1, 0]'),\n",
       " Text(242.8054054054054, 95.92941176470588, 'X[4] <= 0.489\\ngini = 0.064\\nsamples = 30\\nvalue = [0, 0, 29, 1]'),\n",
       " Text(241.79999999999998, 83.13882352941175, 'X[4] <= 0.468\\ngini = 0.444\\nsamples = 3\\nvalue = [0, 0, 2, 1]'),\n",
       " Text(240.79459459459457, 70.34823529411764, 'gini = 0.0\\nsamples = 2\\nvalue = [0, 0, 2, 0]'),\n",
       " Text(242.8054054054054, 70.34823529411764, 'gini = 0.0\\nsamples = 1\\nvalue = [0, 0, 0, 1]'),\n",
       " Text(243.8108108108108, 83.13882352941175, 'gini = 0.0\\nsamples = 27\\nvalue = [0, 0, 27, 0]'),\n",
       " Text(248.8378378378378, 108.72, 'X[0] <= 1759.5\\ngini = 0.497\\nsamples = 24\\nvalue = [0, 0, 11, 13]'),\n",
       " Text(246.82702702702701, 95.92941176470588, 'X[5] <= 0.023\\ngini = 0.415\\nsamples = 17\\nvalue = [0, 0, 5, 12]'),\n",
       " Text(245.8216216216216, 83.13882352941175, 'X[4] <= 0.936\\ngini = 0.469\\nsamples = 8\\nvalue = [0, 0, 5, 3]'),\n",
       " Text(244.8162162162162, 70.34823529411764, 'gini = 0.0\\nsamples = 5\\nvalue = [0, 0, 5, 0]'),\n",
       " Text(246.82702702702701, 70.34823529411764, 'gini = 0.0\\nsamples = 3\\nvalue = [0, 0, 0, 3]'),\n",
       " Text(247.83243243243243, 83.13882352941175, 'gini = 0.0\\nsamples = 9\\nvalue = [0, 0, 0, 9]'),\n",
       " Text(250.84864864864863, 95.92941176470588, 'X[6] <= 0.001\\ngini = 0.245\\nsamples = 7\\nvalue = [0, 0, 6, 1]'),\n",
       " Text(249.84324324324322, 83.13882352941175, 'gini = 0.0\\nsamples = 1\\nvalue = [0, 0, 0, 1]'),\n",
       " Text(251.85405405405405, 83.13882352941175, 'gini = 0.0\\nsamples = 6\\nvalue = [0, 0, 6, 0]'),\n",
       " Text(255.87567567567567, 134.30117647058825, 'X[0] <= 1914.0\\ngini = 0.46\\nsamples = 38\\nvalue = [0, 2, 10, 26]'),\n",
       " Text(253.86486486486484, 121.51058823529411, 'X[8] <= 0.016\\ngini = 0.077\\nsamples = 25\\nvalue = [0, 0, 1, 24]'),\n",
       " Text(252.85945945945946, 108.72, 'gini = 0.0\\nsamples = 24\\nvalue = [0, 0, 0, 24]'),\n",
       " Text(254.87027027027025, 108.72, 'gini = 0.0\\nsamples = 1\\nvalue = [0, 0, 1, 0]'),\n",
       " Text(257.8864864864865, 121.51058823529411, 'X[5] <= 0.09\\ngini = 0.473\\nsamples = 13\\nvalue = [0, 2, 9, 2]'),\n",
       " Text(256.88108108108105, 108.72, 'X[6] <= 0.004\\ngini = 0.403\\nsamples = 12\\nvalue = [0, 2, 9, 1]'),\n",
       " Text(255.87567567567567, 95.92941176470588, 'X[4] <= 2.188\\ngini = 0.314\\nsamples = 11\\nvalue = [0, 1, 9, 1]'),\n",
       " Text(253.86486486486484, 83.13882352941175, 'X[6] <= 0.001\\ngini = 0.198\\nsamples = 9\\nvalue = [0, 1, 8, 0]'),\n",
       " Text(252.85945945945946, 70.34823529411764, 'X[8] <= 0.009\\ngini = 0.444\\nsamples = 3\\nvalue = [0, 1, 2, 0]'),\n",
       " Text(251.85405405405405, 57.557647058823534, 'gini = 0.0\\nsamples = 2\\nvalue = [0, 0, 2, 0]'),\n",
       " Text(253.86486486486484, 57.557647058823534, 'gini = 0.0\\nsamples = 1\\nvalue = [0, 1, 0, 0]'),\n",
       " Text(254.87027027027025, 70.34823529411764, 'gini = 0.0\\nsamples = 6\\nvalue = [0, 0, 6, 0]'),\n",
       " Text(257.8864864864865, 83.13882352941175, 'X[4] <= 2.455\\ngini = 0.5\\nsamples = 2\\nvalue = [0, 0, 1, 1]'),\n",
       " Text(256.88108108108105, 70.34823529411764, 'gini = 0.0\\nsamples = 1\\nvalue = [0, 0, 0, 1]'),\n",
       " Text(258.8918918918919, 70.34823529411764, 'gini = 0.0\\nsamples = 1\\nvalue = [0, 0, 1, 0]'),\n",
       " Text(257.8864864864865, 95.92941176470588, 'gini = 0.0\\nsamples = 1\\nvalue = [0, 1, 0, 0]'),\n",
       " Text(258.8918918918919, 108.72, 'gini = 0.0\\nsamples = 1\\nvalue = [0, 0, 0, 1]'),\n",
       " Text(264.9243243243243, 147.09176470588235, 'X[7] <= 16.779\\ngini = 0.21\\nsamples = 162\\nvalue = [0, 2, 17, 143]'),\n",
       " Text(260.9027027027027, 134.30117647058825, 'X[2] <= 3.45\\ngini = 0.375\\nsamples = 8\\nvalue = [0, 2, 6, 0]'),\n",
       " Text(259.89729729729726, 121.51058823529411, 'gini = 0.0\\nsamples = 6\\nvalue = [0, 0, 6, 0]'),\n",
       " Text(261.9081081081081, 121.51058823529411, 'gini = 0.0\\nsamples = 2\\nvalue = [0, 2, 0, 0]'),\n",
       " Text(268.94594594594594, 134.30117647058825, 'X[6] <= 0.003\\ngini = 0.133\\nsamples = 154\\nvalue = [0, 0, 11, 143]'),\n",
       " Text(263.9189189189189, 121.51058823529411, 'X[4] <= 0.031\\ngini = 0.08\\nsamples = 144\\nvalue = [0, 0, 6, 138]'),\n",
       " Text(262.9135135135135, 108.72, 'gini = 0.0\\nsamples = 2\\nvalue = [0, 0, 2, 0]'),\n",
       " Text(264.9243243243243, 108.72, 'X[2] <= 2.95\\ngini = 0.055\\nsamples = 142\\nvalue = [0, 0, 4, 138]'),\n",
       " Text(261.9081081081081, 95.92941176470588, 'X[8] <= 0.0\\ngini = 0.016\\nsamples = 127\\nvalue = [0, 0, 1, 126]'),\n",
       " Text(260.9027027027027, 83.13882352941175, 'gini = 0.0\\nsamples = 106\\nvalue = [0, 0, 0, 106]'),\n",
       " Text(262.9135135135135, 83.13882352941175, 'X[8] <= 0.0\\ngini = 0.091\\nsamples = 21\\nvalue = [0, 0, 1, 20]'),\n",
       " Text(261.9081081081081, 70.34823529411764, 'gini = 0.0\\nsamples = 1\\nvalue = [0, 0, 1, 0]'),\n",
       " Text(263.9189189189189, 70.34823529411764, 'gini = 0.0\\nsamples = 20\\nvalue = [0, 0, 0, 20]'),\n",
       " Text(267.94054054054055, 95.92941176470588, 'X[4] <= 0.849\\ngini = 0.32\\nsamples = 15\\nvalue = [0, 0, 3, 12]'),\n",
       " Text(266.9351351351351, 83.13882352941175, 'X[5] <= 0.034\\ngini = 0.375\\nsamples = 4\\nvalue = [0, 0, 3, 1]'),\n",
       " Text(265.92972972972973, 70.34823529411764, 'gini = 0.0\\nsamples = 3\\nvalue = [0, 0, 3, 0]'),\n",
       " Text(267.94054054054055, 70.34823529411764, 'gini = 0.0\\nsamples = 1\\nvalue = [0, 0, 0, 1]'),\n",
       " Text(268.94594594594594, 83.13882352941175, 'gini = 0.0\\nsamples = 11\\nvalue = [0, 0, 0, 11]'),\n",
       " Text(273.97297297297297, 121.51058823529411, 'X[4] <= 1.044\\ngini = 0.5\\nsamples = 10\\nvalue = [0, 0, 5, 5]'),\n",
       " Text(272.9675675675675, 108.72, 'X[4] <= 0.871\\ngini = 0.408\\nsamples = 7\\nvalue = [0, 0, 5, 2]'),\n",
       " Text(271.96216216216214, 95.92941176470588, 'X[3] <= 3.635\\ngini = 0.444\\nsamples = 3\\nvalue = [0, 0, 1, 2]'),\n",
       " Text(270.95675675675676, 83.13882352941175, 'gini = 0.0\\nsamples = 1\\nvalue = [0, 0, 1, 0]'),\n",
       " Text(272.9675675675675, 83.13882352941175, 'gini = 0.0\\nsamples = 2\\nvalue = [0, 0, 0, 2]'),\n",
       " Text(273.97297297297297, 95.92941176470588, 'gini = 0.0\\nsamples = 4\\nvalue = [0, 0, 4, 0]'),\n",
       " Text(274.97837837837835, 108.72, 'gini = 0.0\\nsamples = 3\\nvalue = [0, 0, 0, 3]'),\n",
       " Text(297.309375, 159.88235294117646, 'X[2] <= 5.65\\ngini = 0.581\\nsamples = 215\\nvalue = [6, 32, 125, 52]'),\n",
       " Text(282.9430743243243, 147.09176470588235, 'X[7] <= 18.158\\ngini = 0.533\\nsamples = 134\\nvalue = [0, 8, 77, 49]'),\n",
       " Text(276.9891891891892, 134.30117647058825, 'X[8] <= 0.004\\ngini = 0.067\\nsamples = 29\\nvalue = [0, 1, 28, 0]'),\n",
       " Text(275.9837837837838, 121.51058823529411, 'gini = 0.0\\nsamples = 28\\nvalue = [0, 0, 28, 0]'),\n",
       " Text(277.99459459459456, 121.51058823529411, 'gini = 0.0\\nsamples = 1\\nvalue = [0, 1, 0, 0]'),\n",
       " Text(288.8969594594594, 134.30117647058825, 'X[6] <= 0.001\\ngini = 0.56\\nsamples = 105\\nvalue = [0, 7, 49, 49]'),\n",
       " Text(280.0054054054054, 121.51058823529411, 'X[2] <= 3.55\\ngini = 0.32\\nsamples = 16\\nvalue = [0, 2, 1, 13]'),\n",
       " Text(279.0, 108.72, 'gini = 0.0\\nsamples = 12\\nvalue = [0, 0, 0, 12]'),\n",
       " Text(281.01081081081077, 108.72, 'X[7] <= 28.5\\ngini = 0.625\\nsamples = 4\\nvalue = [0, 2, 1, 1]'),\n",
       " Text(280.0054054054054, 95.92941176470588, 'gini = 0.0\\nsamples = 2\\nvalue = [0, 2, 0, 0]'),\n",
       " Text(282.0162162162162, 95.92941176470588, 'X[6] <= 0.001\\ngini = 0.5\\nsamples = 2\\nvalue = [0, 0, 1, 1]'),\n",
       " Text(281.01081081081077, 83.13882352941175, 'gini = 0.0\\nsamples = 1\\nvalue = [0, 0, 1, 0]'),\n",
       " Text(283.0216216216216, 83.13882352941175, 'gini = 0.0\\nsamples = 1\\nvalue = [0, 0, 0, 1]'),\n",
       " Text(297.7885135135135, 121.51058823529411, 'X[1] <= 61.29\\ngini = 0.542\\nsamples = 89\\nvalue = [0, 5, 48, 36]'),\n",
       " Text(292.95, 108.72, 'X[4] <= 2.2\\ngini = 0.475\\nsamples = 63\\nvalue = [0, 2, 41, 20]'),\n",
       " Text(289.3054054054054, 95.92941176470588, 'X[0] <= 2192.5\\ngini = 0.419\\nsamples = 54\\nvalue = [0, 2, 39, 13]'),\n",
       " Text(285.0324324324324, 83.13882352941175, 'X[7] <= 31.62\\ngini = 0.489\\nsamples = 37\\nvalue = [0, 1, 23, 13]'),\n",
       " Text(281.5135135135135, 70.34823529411764, 'X[1] <= 43.13\\ngini = 0.288\\nsamples = 24\\nvalue = [0, 1, 20, 3]'),\n",
       " Text(279.50270270270266, 57.557647058823534, 'X[0] <= 1540.0\\ngini = 0.5\\nsamples = 2\\nvalue = [0, 1, 0, 1]'),\n",
       " Text(278.4972972972973, 44.767058823529396, 'gini = 0.0\\nsamples = 1\\nvalue = [0, 0, 0, 1]'),\n",
       " Text(280.5081081081081, 44.767058823529396, 'gini = 0.0\\nsamples = 1\\nvalue = [0, 1, 0, 0]'),\n",
       " Text(283.5243243243243, 57.557647058823534, 'X[5] <= 0.115\\ngini = 0.165\\nsamples = 22\\nvalue = [0, 0, 20, 2]'),\n",
       " Text(282.5189189189189, 44.767058823529396, 'gini = 0.0\\nsamples = 17\\nvalue = [0, 0, 17, 0]'),\n",
       " Text(284.5297297297297, 44.767058823529396, 'X[4] <= 0.981\\ngini = 0.48\\nsamples = 5\\nvalue = [0, 0, 3, 2]'),\n",
       " Text(283.5243243243243, 31.976470588235287, 'X[1] <= 50.895\\ngini = 0.444\\nsamples = 3\\nvalue = [0, 0, 1, 2]'),\n",
       " Text(282.5189189189189, 19.185882352941178, 'gini = 0.0\\nsamples = 1\\nvalue = [0, 0, 1, 0]'),\n",
       " Text(284.5297297297297, 19.185882352941178, 'gini = 0.0\\nsamples = 2\\nvalue = [0, 0, 0, 2]'),\n",
       " Text(285.53513513513514, 31.976470588235287, 'gini = 0.0\\nsamples = 2\\nvalue = [0, 0, 2, 0]'),\n",
       " Text(288.55135135135134, 70.34823529411764, 'X[6] <= 0.002\\ngini = 0.355\\nsamples = 13\\nvalue = [0, 0, 3, 10]'),\n",
       " Text(287.5459459459459, 57.557647058823534, 'X[2] <= 2.8\\ngini = 0.375\\nsamples = 4\\nvalue = [0, 0, 3, 1]'),\n",
       " Text(286.5405405405405, 44.767058823529396, 'gini = 0.0\\nsamples = 1\\nvalue = [0, 0, 0, 1]'),\n",
       " Text(288.55135135135134, 44.767058823529396, 'gini = 0.0\\nsamples = 3\\nvalue = [0, 0, 3, 0]'),\n",
       " Text(289.5567567567567, 57.557647058823534, 'gini = 0.0\\nsamples = 9\\nvalue = [0, 0, 0, 9]'),\n",
       " Text(293.5783783783784, 83.13882352941175, 'X[7] <= 36.605\\ngini = 0.111\\nsamples = 17\\nvalue = [0, 1, 16, 0]'),\n",
       " Text(292.57297297297293, 70.34823529411764, 'X[7] <= 35.355\\ngini = 0.375\\nsamples = 4\\nvalue = [0, 1, 3, 0]'),\n",
       " Text(291.56756756756755, 57.557647058823534, 'gini = 0.0\\nsamples = 3\\nvalue = [0, 0, 3, 0]'),\n",
       " Text(293.5783783783784, 57.557647058823534, 'gini = 0.0\\nsamples = 1\\nvalue = [0, 1, 0, 0]'),\n",
       " Text(294.58378378378376, 70.34823529411764, 'gini = 0.0\\nsamples = 13\\nvalue = [0, 0, 13, 0]'),\n",
       " Text(296.5945945945946, 95.92941176470588, 'X[3] <= 11.665\\ngini = 0.346\\nsamples = 9\\nvalue = [0, 0, 2, 7]'),\n",
       " Text(295.5891891891892, 83.13882352941175, 'gini = 0.0\\nsamples = 7\\nvalue = [0, 0, 0, 7]'),\n",
       " Text(297.59999999999997, 83.13882352941175, 'gini = 0.0\\nsamples = 2\\nvalue = [0, 0, 2, 0]'),\n",
       " Text(302.627027027027, 108.72, 'X[7] <= 30.895\\ngini = 0.536\\nsamples = 26\\nvalue = [0, 3, 7, 16]'),\n",
       " Text(300.6162162162162, 95.92941176470588, 'X[1] <= 69.505\\ngini = 0.645\\nsamples = 11\\nvalue = [0, 3, 5, 3]'),\n",
       " Text(299.6108108108108, 83.13882352941175, 'X[6] <= 0.004\\ngini = 0.469\\nsamples = 8\\nvalue = [0, 3, 5, 0]'),\n",
       " Text(298.6054054054054, 70.34823529411764, 'X[5] <= 0.069\\ngini = 0.278\\nsamples = 6\\nvalue = [0, 1, 5, 0]'),\n",
       " Text(297.59999999999997, 57.557647058823534, 'gini = 0.0\\nsamples = 4\\nvalue = [0, 0, 4, 0]'),\n",
       " Text(299.6108108108108, 57.557647058823534, 'X[4] <= 0.915\\ngini = 0.5\\nsamples = 2\\nvalue = [0, 1, 1, 0]'),\n",
       " Text(298.6054054054054, 44.767058823529396, 'gini = 0.0\\nsamples = 1\\nvalue = [0, 0, 1, 0]'),\n",
       " Text(300.6162162162162, 44.767058823529396, 'gini = 0.0\\nsamples = 1\\nvalue = [0, 1, 0, 0]'),\n",
       " Text(300.6162162162162, 70.34823529411764, 'gini = 0.0\\nsamples = 2\\nvalue = [0, 2, 0, 0]'),\n",
       " Text(301.6216216216216, 83.13882352941175, 'gini = 0.0\\nsamples = 3\\nvalue = [0, 0, 0, 3]'),\n",
       " Text(304.6378378378378, 95.92941176470588, 'X[3] <= 5.485\\ngini = 0.231\\nsamples = 15\\nvalue = [0, 0, 2, 13]'),\n",
       " Text(303.63243243243244, 83.13882352941175, 'gini = 0.0\\nsamples = 2\\nvalue = [0, 0, 2, 0]'),\n",
       " Text(305.6432432432432, 83.13882352941175, 'gini = 0.0\\nsamples = 13\\nvalue = [0, 0, 0, 13]'),\n",
       " Text(311.6756756756757, 147.09176470588235, 'X[7] <= 21.145\\ngini = 0.554\\nsamples = 81\\nvalue = [6, 24, 48, 3]'),\n",
       " Text(305.6432432432432, 134.30117647058825, 'X[6] <= 0.002\\ngini = 0.291\\nsamples = 17\\nvalue = [0, 14, 3, 0]'),\n",
       " Text(304.6378378378378, 121.51058823529411, 'gini = 0.0\\nsamples = 2\\nvalue = [0, 0, 2, 0]'),\n",
       " Text(306.64864864864865, 121.51058823529411, 'X[3] <= 13.895\\ngini = 0.124\\nsamples = 15\\nvalue = [0, 14, 1, 0]'),\n",
       " Text(305.6432432432432, 108.72, 'gini = 0.0\\nsamples = 12\\nvalue = [0, 12, 0, 0]'),\n",
       " Text(307.65405405405403, 108.72, 'X[3] <= 22.275\\ngini = 0.444\\nsamples = 3\\nvalue = [0, 2, 1, 0]'),\n",
       " Text(306.64864864864865, 95.92941176470588, 'gini = 0.0\\nsamples = 1\\nvalue = [0, 0, 1, 0]'),\n",
       " Text(308.65945945945947, 95.92941176470588, 'gini = 0.0\\nsamples = 2\\nvalue = [0, 2, 0, 0]'),\n",
       " Text(317.7081081081081, 134.30117647058825, 'X[4] <= 0.991\\ngini = 0.47\\nsamples = 64\\nvalue = [6, 10, 45, 3]'),\n",
       " Text(311.6756756756757, 121.51058823529411, 'X[3] <= 6.735\\ngini = 0.707\\nsamples = 25\\nvalue = [5, 7, 10, 3]'),\n",
       " Text(310.67027027027024, 108.72, 'gini = 0.0\\nsamples = 3\\nvalue = [0, 0, 0, 3]'),\n",
       " Text(312.68108108108106, 108.72, 'X[5] <= 0.029\\ngini = 0.64\\nsamples = 22\\nvalue = [5, 7, 10, 0]'),\n",
       " Text(310.67027027027024, 95.92941176470588, 'X[0] <= 1966.5\\ngini = 0.49\\nsamples = 7\\nvalue = [3, 4, 0, 0]'),\n",
       " Text(309.66486486486485, 83.13882352941175, 'X[6] <= 0.006\\ngini = 0.375\\nsamples = 4\\nvalue = [3, 1, 0, 0]'),\n",
       " Text(308.65945945945947, 70.34823529411764, 'gini = 0.0\\nsamples = 3\\nvalue = [3, 0, 0, 0]'),\n",
       " Text(310.67027027027024, 70.34823529411764, 'gini = 0.0\\nsamples = 1\\nvalue = [0, 1, 0, 0]'),\n",
       " Text(311.6756756756757, 83.13882352941175, 'gini = 0.0\\nsamples = 3\\nvalue = [0, 3, 0, 0]'),\n",
       " Text(314.6918918918919, 95.92941176470588, 'X[4] <= 0.059\\ngini = 0.498\\nsamples = 15\\nvalue = [2, 3, 10, 0]'),\n",
       " Text(313.68648648648644, 83.13882352941175, 'gini = 0.0\\nsamples = 2\\nvalue = [2, 0, 0, 0]'),\n",
       " Text(315.69729729729727, 83.13882352941175, 'X[1] <= 43.885\\ngini = 0.355\\nsamples = 13\\nvalue = [0, 3, 10, 0]'),\n",
       " Text(313.68648648648644, 70.34823529411764, 'X[1] <= 37.46\\ngini = 0.444\\nsamples = 3\\nvalue = [0, 2, 1, 0]'),\n",
       " Text(312.68108108108106, 57.557647058823534, 'gini = 0.0\\nsamples = 1\\nvalue = [0, 0, 1, 0]'),\n",
       " Text(314.6918918918919, 57.557647058823534, 'gini = 0.0\\nsamples = 2\\nvalue = [0, 2, 0, 0]'),\n",
       " Text(317.7081081081081, 70.34823529411764, 'X[4] <= 0.964\\ngini = 0.18\\nsamples = 10\\nvalue = [0, 1, 9, 0]'),\n",
       " Text(316.7027027027027, 57.557647058823534, 'gini = 0.0\\nsamples = 9\\nvalue = [0, 0, 9, 0]'),\n",
       " Text(318.7135135135135, 57.557647058823534, 'gini = 0.0\\nsamples = 1\\nvalue = [0, 1, 0, 0]'),\n",
       " Text(323.7405405405405, 121.51058823529411, 'X[3] <= 7.415\\ngini = 0.188\\nsamples = 39\\nvalue = [1, 3, 35, 0]'),\n",
       " Text(322.7351351351351, 108.72, 'X[4] <= 1.892\\ngini = 0.381\\nsamples = 17\\nvalue = [1, 3, 13, 0]'),\n",
       " Text(321.7297297297297, 95.92941176470588, 'X[1] <= 66.69\\ngini = 0.611\\nsamples = 6\\nvalue = [1, 3, 2, 0]'),\n",
       " Text(320.7243243243243, 83.13882352941175, 'X[2] <= 10.7\\ngini = 0.375\\nsamples = 4\\nvalue = [1, 3, 0, 0]'),\n",
       " Text(319.7189189189189, 70.34823529411764, 'gini = 0.0\\nsamples = 3\\nvalue = [0, 3, 0, 0]'),\n",
       " Text(321.7297297297297, 70.34823529411764, 'gini = 0.0\\nsamples = 1\\nvalue = [1, 0, 0, 0]'),\n",
       " Text(322.7351351351351, 83.13882352941175, 'gini = 0.0\\nsamples = 2\\nvalue = [0, 0, 2, 0]'),\n",
       " Text(323.7405405405405, 95.92941176470588, 'gini = 0.0\\nsamples = 11\\nvalue = [0, 0, 11, 0]'),\n",
       " Text(324.74594594594595, 108.72, 'gini = 0.0\\nsamples = 22\\nvalue = [0, 0, 22, 0]'),\n",
       " Text(329.772972972973, 172.6729411764706, 'X[4] <= 0.031\\ngini = 0.113\\nsamples = 232\\nvalue = [0, 0, 14, 218]'),\n",
       " Text(327.76216216216216, 159.88235294117646, 'X[1] <= 52.975\\ngini = 0.245\\nsamples = 7\\nvalue = [0, 0, 6, 1]'),\n",
       " Text(326.7567567567567, 147.09176470588235, 'gini = 0.0\\nsamples = 6\\nvalue = [0, 0, 6, 0]'),\n",
       " Text(328.76756756756754, 147.09176470588235, 'gini = 0.0\\nsamples = 1\\nvalue = [0, 0, 0, 1]'),\n",
       " Text(331.78378378378375, 159.88235294117646, 'X[5] <= 0.059\\ngini = 0.069\\nsamples = 225\\nvalue = [0, 0, 8, 217]'),\n",
       " Text(330.77837837837836, 147.09176470588235, 'X[1] <= 54.525\\ngini = 0.314\\nsamples = 41\\nvalue = [0, 0, 8, 33]'),\n",
       " Text(329.772972972973, 134.30117647058825, 'X[2] <= 4.85\\ngini = 0.472\\nsamples = 21\\nvalue = [0, 0, 8, 13]'),\n",
       " Text(327.76216216216216, 121.51058823529411, 'X[1] <= 50.315\\ngini = 0.26\\nsamples = 13\\nvalue = [0, 0, 2, 11]'),\n",
       " Text(326.7567567567567, 108.72, 'gini = 0.0\\nsamples = 10\\nvalue = [0, 0, 0, 10]'),\n",
       " Text(328.76756756756754, 108.72, 'X[0] <= 2447.5\\ngini = 0.444\\nsamples = 3\\nvalue = [0, 0, 2, 1]'),\n",
       " Text(327.76216216216216, 95.92941176470588, 'gini = 0.0\\nsamples = 1\\nvalue = [0, 0, 0, 1]'),\n",
       " Text(329.772972972973, 95.92941176470588, 'gini = 0.0\\nsamples = 2\\nvalue = [0, 0, 2, 0]'),\n",
       " Text(331.78378378378375, 121.51058823529411, 'X[4] <= 0.219\\ngini = 0.375\\nsamples = 8\\nvalue = [0, 0, 6, 2]'),\n",
       " Text(330.77837837837836, 108.72, 'gini = 0.0\\nsamples = 5\\nvalue = [0, 0, 5, 0]'),\n",
       " Text(332.7891891891892, 108.72, 'X[1] <= 51.667\\ngini = 0.444\\nsamples = 3\\nvalue = [0, 0, 1, 2]'),\n",
       " Text(331.78378378378375, 95.92941176470588, 'gini = 0.0\\nsamples = 2\\nvalue = [0, 0, 0, 2]'),\n",
       " Text(333.79459459459457, 95.92941176470588, 'gini = 0.0\\nsamples = 1\\nvalue = [0, 0, 1, 0]'),\n",
       " Text(331.78378378378375, 134.30117647058825, 'gini = 0.0\\nsamples = 20\\nvalue = [0, 0, 0, 20]'),\n",
       " Text(332.7891891891892, 147.09176470588235, 'gini = 0.0\\nsamples = 184\\nvalue = [0, 0, 0, 184]')]"
      ]
     },
     "execution_count": 174,
     "metadata": {},
     "output_type": "execute_result"
    },
    {
     "data": {
      "image/png": "[encoded data removed]",
      "text/plain": [
       "<Figure size 432x288 with 1 Axes>"
      ]
     },
     "metadata": {
      "needs_background": "light"
     },
     "output_type": "display_data"
    }
   ],
   "source": [
    "tree.plot_tree(model1)"
   ]
  },
  {
   "cell_type": "markdown",
   "metadata": {},
   "source": [
    "##### Result Interpretation "
   ]
  },
  {
   "cell_type": "markdown",
   "metadata": {},
   "source": [
    "The visualisation of the tree really got messy and it was difficult to trace the nodes. However, the performance of the model has done justice to how effective the model is."
   ]
  },
  {
   "cell_type": "markdown",
   "metadata": {},
   "source": [
    "### 5.2 The 2nd Decision Tree and model 2"
   ]
  },
  {
   "cell_type": "code",
   "execution_count": 162,
   "metadata": {},
   "outputs": [],
   "source": [
    "# Create another tree the same parameters \n",
    "criterion = 'entropy'\n",
    "depth = 5\n",
    "dtc2 = tree.DecisionTreeClassifier(criterion=criterion, max_depth=depth)"
   ]
  },
  {
   "cell_type": "markdown",
   "metadata": {},
   "source": [
    "##### Motivation for using another criterion"
   ]
  },
  {
   "cell_type": "markdown",
   "metadata": {},
   "source": [
    "The motive for using this method is to detrmine if there will be an improvement in the model performance if the criterion and depth are adjusyted. "
   ]
  },
  {
   "cell_type": "code",
   "execution_count": 163,
   "metadata": {},
   "outputs": [],
   "source": [
    "# Fit the data to the tree\n",
    "model2 = dtc2.fit(X_train, y_train)"
   ]
  },
  {
   "cell_type": "code",
   "execution_count": 164,
   "metadata": {},
   "outputs": [],
   "source": [
    "# Predict the outcome using the tree\n",
    "prediction2 = model2.predict(X_test) "
   ]
  },
  {
   "cell_type": "code",
   "execution_count": 165,
   "metadata": {},
   "outputs": [
    {
     "data": {
      "text/plain": [
       "Text(0, 0.5, 'Predictions')"
      ]
     },
     "execution_count": 165,
     "metadata": {},
     "output_type": "execute_result"
    },
    {
     "data": {
      "image/png": "[encoded data removed]",
      "text/plain": [
       "<Figure size 432x288 with 1 Axes>"
      ]
     },
     "metadata": {
      "needs_background": "light"
     },
     "output_type": "display_data"
    }
   ],
   "source": [
    "plt.scatter(y_test, prediction2)\n",
    "plt.xlabel(\"True Values\")\n",
    "plt.ylabel(\"Predictions\")"
   ]
  },
  {
   "cell_type": "markdown",
   "metadata": {},
   "source": [
    "This prediction graph is similar to that of model 1 except for the slight difference in the interaction of the category 2 and 3 with 5. "
   ]
  },
  {
   "cell_type": "code",
   "execution_count": 166,
   "metadata": {},
   "outputs": [
    {
     "data": {
      "image/png": "[encoded data removed]",
      "text/plain": [
       "<Figure size 432x288 with 2 Axes>"
      ]
     },
     "metadata": {
      "needs_background": "light"
     },
     "output_type": "display_data"
    }
   ],
   "source": [
    "# Visualization of the confusion matrix with normalisation \n",
    "\n",
    "disp = plot_confusion_matrix(model2, X_test, y_test,\n",
    "                             cmap=plt.cm.Blues, \n",
    "                             normalize='true')\n",
    "plt.title('Confusion Matrix')\n",
    "plt.grid(False)\n",
    "plt.show()\n"
   ]
  },
  {
   "cell_type": "code",
   "execution_count": 138,
   "metadata": {},
   "outputs": [
    {
     "data": {
      "image/png": "[encoded data removed]",
      "text/plain": [
       "<Figure size 432x288 with 2 Axes>"
      ]
     },
     "metadata": {
      "needs_background": "light"
     },
     "output_type": "display_data"
    }
   ],
   "source": [
    "# As you can see, for binary categorical values the visualization does not bring much information, \n",
    "# hence we pick a confusion matrix. Visualize the confusion matrix\n",
    "disp = plot_confusion_matrix(model2, X_test, y_test,\n",
    "                             cmap=plt.cm.Blues,\n",
    "                             normalize=None)\n",
    "plt.show()"
   ]
  },
  {
   "cell_type": "markdown",
   "metadata": {},
   "source": [
    "The prediction performance is extremely low for category 3 of the nutriscore compared to the categories 2, 4, and 5."
   ]
  },
  {
   "cell_type": "markdown",
   "metadata": {},
   "source": [
    "### 5.3 Esemble Method"
   ]
  },
  {
   "cell_type": "code",
   "execution_count": 167,
   "metadata": {
    "Collapsed": "false"
   },
   "outputs": [],
   "source": [
    "#Using Random Forest Classifier to train another model \n",
    "\n",
    "rf1 = RandomForestClassifier()\n"
   ]
  },
  {
   "cell_type": "markdown",
   "metadata": {},
   "source": [
    "##### Motivation for using this method "
   ]
  },
  {
   "cell_type": "markdown",
   "metadata": {},
   "source": [
    "Compared to Decision tree classifier, Random forest is another way of tackling a classification problem and that is the main reason for using it to determine if there will be an improvment in the model. Also, this method is used because it has the ability to handle the uncorrelated trees nodes in the model. As discovered in the bivarite analysis, there is low correlation among many of the variables."
   ]
  },
  {
   "cell_type": "code",
   "execution_count": 168,
   "metadata": {},
   "outputs": [],
   "source": [
    "model3 = rf1.fit(X_train, y_train)"
   ]
  },
  {
   "cell_type": "code",
   "execution_count": 169,
   "metadata": {},
   "outputs": [],
   "source": [
    "prediction3 = model3.predict(X_test)"
   ]
  },
  {
   "cell_type": "code",
   "execution_count": 170,
   "metadata": {},
   "outputs": [
    {
     "name": "stdout",
     "output_type": "stream",
     "text": [
      "[5. 4. 2. ... 2. 2. 2.]\n"
     ]
    }
   ],
   "source": [
    "print(prediction3)"
   ]
  },
  {
   "cell_type": "code",
   "execution_count": 171,
   "metadata": {},
   "outputs": [
    {
     "data": {
      "text/plain": [
       "Text(0, 0.5, 'Predictions')"
      ]
     },
     "execution_count": 171,
     "metadata": {},
     "output_type": "execute_result"
    },
    {
     "data": {
      "image/png": "[encoded data removed]",
      "text/plain": [
       "<Figure size 432x288 with 1 Axes>"
      ]
     },
     "metadata": {
      "needs_background": "light"
     },
     "output_type": "display_data"
    }
   ],
   "source": [
    "plt.scatter(y_test, prediction3)\n",
    "plt.xlabel(\"True Values\")\n",
    "plt.ylabel(\"Predictions\")"
   ]
  },
  {
   "cell_type": "code",
   "execution_count": 172,
   "metadata": {},
   "outputs": [
    {
     "data": {
      "image/png": "[encoded data removed]",
      "text/plain": [
       "<Figure size 432x288 with 2 Axes>"
      ]
     },
     "metadata": {
      "needs_background": "light"
     },
     "output_type": "display_data"
    }
   ],
   "source": [
    "disp = plot_confusion_matrix(model3, X_test, y_test,\n",
    "                             cmap=plt.cm.Blues,\n",
    "                             normalize='true')\n",
    "plt.title('Confusion Matrix')\n",
    "plt.grid(False)\n",
    "plt.show()"
   ]
  },
  {
   "cell_type": "markdown",
   "metadata": {},
   "source": [
    "The interpretation of this confusion matrix is similar to that of the first model because it follows the same pattern. "
   ]
  },
  {
   "cell_type": "markdown",
   "metadata": {},
   "source": [
    "### Support Vector Machine "
   ]
  },
  {
   "cell_type": "code",
   "execution_count": 145,
   "metadata": {},
   "outputs": [
    {
     "data": {
      "text/plain": [
       "SVC(kernel='poly')"
      ]
     },
     "execution_count": 145,
     "metadata": {},
     "output_type": "execute_result"
    }
   ],
   "source": [
    "# Define the classifier and fit the data to the model\n",
    "c = 1.0\n",
    "kernel = 'poly'\n",
    "gamma = 'scale'\n",
    "degree = 3\n",
    "clf = svm.SVC(kernel=kernel, C=c, gamma=gamma, degree=degree)\n",
    "clf.fit(X_train, y_train)"
   ]
  },
  {
   "cell_type": "markdown",
   "metadata": {},
   "source": [
    "### Motivation for using this model "
   ]
  },
  {
   "cell_type": "markdown",
   "metadata": {},
   "source": [
    "Having noticed that the three models used did not deliver up to the full potential, we thought of using Support Vector Classifier to see if there would be an improvment in the model. "
   ]
  },
  {
   "cell_type": "code",
   "execution_count": 146,
   "metadata": {},
   "outputs": [
    {
     "name": "stdout",
     "output_type": "stream",
     "text": [
      "[5. 4. 4. ... 2. 2. 2.]\n"
     ]
    }
   ],
   "source": [
    "y_pred = clf.predict(X_test)\n",
    "print(y_pred)"
   ]
  },
  {
   "cell_type": "code",
   "execution_count": 147,
   "metadata": {},
   "outputs": [
    {
     "data": {
      "image/png": "[encoded data removed]",
      "text/plain": [
       "<Figure size 432x288 with 2 Axes>"
      ]
     },
     "metadata": {
      "needs_background": "light"
     },
     "output_type": "display_data"
    }
   ],
   "source": [
    "# Visualize the confusion matrix\n",
    "disp = plot_confusion_matrix(clf, X_test, y_test,\n",
    "                             cmap=plt.cm.Blues,\n",
    "                             normalize='true')\n",
    "plt.show()"
   ]
  },
  {
   "cell_type": "markdown",
   "metadata": {},
   "source": [
    "According to the confusion matrix, there are zeros all through in predicted values of 3 and even other predicted values and true values are low. First, we assumed that there could be an imbalance in the data which was not prominently noticeable in the univariate analysis with the histogram of the nutrition score. "
   ]
  },
  {
   "cell_type": "markdown",
   "metadata": {
    "Collapsed": "false"
   },
   "source": [
    "## 6. Model Evaluation ##"
   ]
  },
  {
   "cell_type": "markdown",
   "metadata": {},
   "source": [
    "##### F-Score "
   ]
  },
  {
   "cell_type": "markdown",
   "metadata": {},
   "source": [
    "The F-score is being used in this study to revalidate the performance of the prediction made by the confusion matrix. "
   ]
  },
  {
   "cell_type": "code",
   "execution_count": 148,
   "metadata": {},
   "outputs": [
    {
     "name": "stdout",
     "output_type": "stream",
     "text": [
      "Score: 0.8154761904761905\n"
     ]
    }
   ],
   "source": [
    "#Check the accuracy for the model 1\n",
    "print(\"Score: {}\".format(model1.score(X_test, y_test)))"
   ]
  },
  {
   "cell_type": "markdown",
   "metadata": {},
   "source": [
    "The model is manageable but having it improved would be better. "
   ]
  },
  {
   "cell_type": "code",
   "execution_count": 149,
   "metadata": {},
   "outputs": [
    {
     "name": "stdout",
     "output_type": "stream",
     "text": [
      "Score: 0.7331349206349206\n"
     ]
    }
   ],
   "source": [
    "#Check the accuracy for the model 2 \n",
    "print(\"Score: {}\".format(model2.score(X_test, y_test)))"
   ]
  },
  {
   "cell_type": "markdown",
   "metadata": {},
   "source": [
    "The model 2 is performing even below one and that is obvious in the confusion matrix. "
   ]
  },
  {
   "cell_type": "code",
   "execution_count": 150,
   "metadata": {
    "Collapsed": "false"
   },
   "outputs": [
    {
     "name": "stdout",
     "output_type": "stream",
     "text": [
      "Score: 0.8640873015873016\n"
     ]
    }
   ],
   "source": [
    "#Check the accuracy for the model 3 \n",
    "print(\"Score: {}\".format(model3.score(X_test, y_test)))\n"
   ]
  },
  {
   "cell_type": "markdown",
   "metadata": {},
   "source": [
    "The model 3 is performing best but it could be improved. "
   ]
  },
  {
   "cell_type": "code",
   "execution_count": 71,
   "metadata": {},
   "outputs": [
    {
     "data": {
      "text/plain": [
       "0.4166563557259769"
      ]
     },
     "execution_count": 71,
     "metadata": {},
     "output_type": "execute_result"
    }
   ],
   "source": [
    "# The F1 score for the support vector machine model\n",
    "f1_score(y_test, y_pred, average='weighted')"
   ]
  },
  {
   "cell_type": "markdown",
   "metadata": {},
   "source": [
    "The model 4 which is support vector machine has the lowest model performance and much would be discussed about it in the Discussion and conclusion. "
   ]
  },
  {
   "cell_type": "markdown",
   "metadata": {},
   "source": [
    "# 7.0 Discussion "
   ]
  },
  {
   "cell_type": "markdown",
   "metadata": {},
   "source": [
    "The goal of this study was to determine the positive and negative nutrients which also means the nutrients that need to be encouraged and those that need to be avoided or reduced in food products. The results from the boxplots in the cell 3 has indicated that vitamins, iron, and fiber are the most prevailing positive nutrients while carbohydrates, energy, and fats are the most prevailing negative nutrients. Meanwhile there is controversy regarding the protein and calcium which has almost the same level for positive and negative. Theoretically, calcium and proteins are positive and usually encouraged in diets. Perhaps, this difference is peculiar to the food products that the nutrients of this study are derived. Similarly, salt is regarded as one of the negative in theory but in this analysis, there is no significant difference in positive and negative distribution of salt. We also assumed that there is similar proportion of salt in the food products in this study. \n",
    "\n",
    "During the model training, it was discovered that the prediction of nutrition score was low on the category 3 which is equivalent to C as the nutrition score label. We assumed that this was due data imbalanced. Normally, the actual number of labels should be 5 and C or 3 should be the median but that is not the case in this study. We assumed that perhaps the preprocessing has altered the data and make it more imbalanced especially the target variable. We did not want to alter it further by removing the category 3 which is not performing well in the model. We concluded that future research needs to explore the difference between the actual data with 5 categories in target variable, reduced 4 categories and finally 3 categories. We assumed that there would be a significant difference among them and that would aid decision about the best target variable to feed the model with. In quest to answer the research question, we assumed that the esemble method used in the model 3 boosted the performance of the model because theoretically esemble method works well with imbalanced data. And that makes model three the most suitable in this study. Support Vector machine model performed poorly in this study. For category 3, there are zero values althrough and the suggestion made above for further feature engineering to reduce the categories to 3 may work for this model. \n",
    "\n",
    "The feature engineering gave a new shape to the data. However, it may be questionable especially in terms of how energy_100g and carbohydrates were handled separately. Theoretically, carbohydrate is energy giving nutrient and that could serve as a subset of energy column. Maybe a good option could have been that only energy as the overall and included in the model while carbohydrate is dropped. That is a possibility that is what exploring in a future research if there is more specific information about the food products. \n",
    "\n",
    "Considering the data splitting which was 70:30 ratio, perhaps, that could be one of the contributors to low performance of the models. We thought it is worth changing to maybe 80:20 when some other elements mentioned above are changed to see if that would make a significant difference. \n",
    "\n"
   ]
  },
  {
   "cell_type": "markdown",
   "metadata": {},
   "source": [
    "# 8.0 Conclusion "
   ]
  },
  {
   "cell_type": "markdown",
   "metadata": {},
   "source": [
    "Based on the results from the analyses, we can conclude that carbohydrates, energy, and fats are the most prevailing negative nutrients. On the other hand, vitamins, iron, and fiber are the most prevailing positive nutrients. Salts, calcium and proteins have shared balanced between positive or negative nutrient classification.  \n",
    "\n",
    "Also, model 3 with esemble method has the highest performance in the prediction of nutrition score. Based on the research question, this could be considered as the most suitable within the scope of this study. Finally, the combination of the negative and positive nutrients is responsible for the prediction of the nutrition score. "
   ]
  }
 ],
 "metadata": {
  "kernelspec": {
   "display_name": "Python 3",
   "language": "python",
   "name": "python3"
  },
  "language_info": {
   "codemirror_mode": {
    "name": "ipython",
    "version": 3
   },
   "file_extension": ".py",
   "mimetype": "text/x-python",
   "name": "python",
   "nbconvert_exporter": "python",
   "pygments_lexer": "ipython3",
   "version": "3.8.3"
  }
 },
 "nbformat": 4,
 "nbformat_minor": 4
}
